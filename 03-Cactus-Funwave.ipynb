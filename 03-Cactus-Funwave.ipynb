{
 "cells": [
  {
   "cell_type": "markdown",
   "metadata": {},
   "source": [
    "![cactus](http://cactuscode.org/global/images/cactuslogo.png)\n",
    "# Compiling Cactus!\n",
    "Step 1 is to download the code. Cactus uses a script named \"GetComponents\" to find and prepare all the source code modules that it needs for a given installation. The GetComponents script can be downloaded with a simple invocation of curl."
   ]
  },
  {
   "cell_type": "code",
   "execution_count": 1,
   "metadata": {},
   "outputs": [],
   "source": [
    "import os\n",
    "os.environ[\"PATH\"]=\"/opt/conda/envs/python2/bin:\"+os.environ[\"PATH\"]"
   ]
  },
  {
   "cell_type": "code",
   "execution_count": 2,
   "metadata": {},
   "outputs": [
    {
     "name": "stdout",
     "output_type": "stream",
     "text": [
      "Python 2.7.12\r\n"
     ]
    }
   ],
   "source": [
    "!python --version"
   ]
  },
  {
   "cell_type": "code",
   "execution_count": 4,
   "metadata": {},
   "outputs": [
    {
     "name": "stdout",
     "output_type": "stream",
     "text": [
      "[Errno 2] No such file or directory: 'pwd'\n",
      "/home/ejwest\n",
      "  % Total    % Received % Xferd  Average Speed   Time    Time     Time  Current\n",
      "                                 Dload  Upload   Total   Spent    Left  Speed\n",
      "100 99330  100 99330    0     0   256k      0 --:--:-- --:--:-- --:--:--  256k\n"
     ]
    }
   ],
   "source": [
    "%cd ~/\n",
    "!curl -kLO https://raw.githubusercontent.com/gridaphobe/CRL/ET_2016_11/GetComponents"
   ]
  },
  {
   "cell_type": "markdown",
   "metadata": {},
   "source": [
    "Step 2 is to download your thornlist. In this tutorial, we are going to use Funwave, a collection of thorns\n",
    "designed to simulate water waves using the Boussinesq equations."
   ]
  },
  {
   "cell_type": "code",
   "execution_count": 4,
   "metadata": {},
   "outputs": [
    {
     "name": "stdout",
     "output_type": "stream",
     "text": [
      "  % Total    % Received % Xferd  Average Speed   Time    Time     Time  Current\n",
      "                                 Dload  Upload   Total   Spent    Left  Speed\n",
      "100  3994  100  3994    0     0  10162      0 --:--:-- --:--:-- --:--:-- 10188\n"
     ]
    }
   ],
   "source": [
    "!curl -kLO https://bitbucket.org/stevenrbrandt/cajunwave/raw/master/funwave_carpet.th"
   ]
  },
  {
   "cell_type": "markdown",
   "metadata": {},
   "source": [
    "You can view a file in the notebook by using the \"magic\" command \"%pycat filename\". However, it tries to highlight\n",
    "syntax as if the file is written in python. In those cases you can simply use \"%cat filename.\" Unfortunately, unlike %pycat, %cat leaves the contents of the file on the screen.\n",
    "\n",
    "Note that at the top of the file is \"DEFINE_ROOT = CactusFW2\". This means that Cactus, and all its thorns, will be checked out under that directory."
   ]
  },
  {
   "cell_type": "code",
   "execution_count": 5,
   "metadata": {
    "collapsed": true
   },
   "outputs": [],
   "source": [
    "%pycat ~/funwave_carpet.th"
   ]
  },
  {
   "cell_type": "markdown",
   "metadata": {},
   "source": [
    "Next we need to checkout the components listed in the thornlist. We do this with the GetComponents command.\n",
    "Before we can execute it, however, we need to turn on its execute bit."
   ]
  },
  {
   "cell_type": "code",
   "execution_count": 6,
   "metadata": {},
   "outputs": [
    {
     "name": "stdout",
     "output_type": "stream",
     "text": [
      "/home/sbrandt\n",
      "Do you want to update all existing components? yes, no [no] : -----------------------------------------------------------------\n",
      "  0 components checked out successfully.\n",
      "  0 components updated successfully.\n",
      "\n",
      "  Time Elapsed: 0 minutes, 0 seconds\n",
      "\n"
     ]
    }
   ],
   "source": [
    "%cd ~/\n",
    "!chmod a+x GetComponents\n",
    "!echo no|./GetComponents --parallel funwave_carpet.th"
   ]
  },
  {
   "cell_type": "code",
   "execution_count": 7,
   "metadata": {},
   "outputs": [
    {
     "name": "stdout",
     "output_type": "stream",
     "text": [
      "/home/sbrandt/CactusFW2\n"
     ]
    }
   ],
   "source": [
    "%cd ~/CactusFW2"
   ]
  },
  {
   "cell_type": "markdown",
   "metadata": {},
   "source": [
    "<img src=\"http://simfactory.org/global/images/factory.png\" width=\"200px\">"
   ]
  },
  {
   "cell_type": "markdown",
   "metadata": {},
   "source": [
    "# Simfactory\n",
    "Cactus is normally built with a tool called Simfactory. Simfactory, in turn, will call make.\n",
    "Before it can work, however, it needs to be configured. Please replace... my email address in the\n",
    "command below with yours. The email address isn't sent anywhere, all it's used for is allowing\n",
    "Cactus to send job change state notifications to you."
   ]
  },
  {
   "cell_type": "code",
   "execution_count": 8,
   "metadata": {},
   "outputs": [
    {
     "name": "stdout",
     "output_type": "stream",
     "text": [
      "/home/sbrandt/CactusFW2\n",
      "\n",
      "\n",
      "Here we will define some necessary Simulation Factory defaults.\n",
      "\n",
      "\n",
      "Determining local machine name: melete05.cct.lsu.edu\n",
      "\n",
      "--------------------SUMMARY--------------------:\n",
      "\n",
      "\n",
      "[default]\n",
      "user            = sbrandt\n",
      "email           = sbrandt@cct.lsu.edu\n",
      "allocation      = NO_ALLOCATION\n",
      "\n",
      "\n",
      "------------------END SUMMARY------------------:\n",
      "\n",
      "Contents successfully written to /home/sbrandt/CactusFW2/repos/simfactory2/etc/defs.local.ini\n"
     ]
    }
   ],
   "source": [
    "%cd ~/CactusFW2\n",
    "!./simfactory/bin/sim setup-silent --setup-email=sbrandt@cct.lsu.edu "
   ]
  },
  {
   "cell_type": "markdown",
   "metadata": {},
   "source": [
    "At long last, we are ready to actually build Cactus. Cactus can often figure out what compilers and build\n",
    "options to use automatically, but in some cases it is necessary to specify it by hand (you can do this by adding --optionlist=centos.cfg to the build command below). The file containing\n",
    "this information is called the Option List. You might want to take a look at it."
   ]
  },
  {
   "cell_type": "markdown",
   "metadata": {},
   "source": [
    "This is the command to build Cactus using our thornlist. As written, it will build in parallel using two processes. That's what the -j option does."
   ]
  },
  {
   "cell_type": "code",
   "execution_count": null,
   "metadata": {
    "collapsed": true
   },
   "outputs": [],
   "source": [
    "#!rm -fr configs"
   ]
  },
  {
   "cell_type": "code",
   "execution_count": 9,
   "metadata": {},
   "outputs": [
    {
     "name": "stdout",
     "output_type": "stream",
     "text": [
      "Using configuration: sim\n",
      "Warning: default thorn list contents have changed\n",
      "Updated thorn list for configuration sim\n",
      "Building sim\n",
      "Cactus - version: 4.2.3\n",
      "Building configuration sim\n",
      "Reconfiguring thorns\n",
      "Reading ThornList...\n",
      "Parsing configuration files...\n",
      "Parsing interface files...\n",
      "   AEILocalInterp\n",
      "           Implements: AEILocalInterp\n",
      "           0 Public, 0 Protected, 0 Private variable groups\n",
      "   Boundary\n",
      "           Implements: boundary\n",
      "           0 Public, 0 Protected, 0 Private variable groups\n",
      "   Cactus\n",
      "           Implements: Cactus\n",
      "           0 Public, 0 Protected, 0 Private variable groups\n",
      "   Carpet\n",
      "           Implements: Driver\n",
      "           0 Public, 0 Protected, 6 Private variable groups\n",
      "   CarpetEvolutionMask\n",
      "           Implements: CarpetEvolutionMask\n",
      "           2 Public, 0 Protected, 0 Private variable groups\n",
      "   CarpetIOASCII\n",
      "           Implements: IOASCII\n",
      "           0 Public, 0 Protected, 3 Private variable groups\n",
      "   CarpetIOBasic\n",
      "           Implements: IOBasic\n",
      "           Inherits:  IO \n",
      "           0 Public, 0 Protected, 3 Private variable groups\n",
      "   CarpetIOHDF5\n",
      "           Implements: IOHDF5\n",
      "           0 Public, 0 Protected, 6 Private variable groups\n",
      "   CarpetIOScalar\n",
      "           Implements: IOScalar\n",
      "           0 Public, 0 Protected, 3 Private variable groups\n",
      "   CarpetInterp\n",
      "           Implements: interp\n",
      "           0 Public, 0 Protected, 0 Private variable groups\n",
      "   CarpetInterp2\n",
      "           Implements: interp2\n",
      "           0 Public, 0 Protected, 0 Private variable groups\n",
      "   CarpetLib\n",
      "           Implements: CarpetLib\n",
      "           0 Public, 0 Protected, 0 Private variable groups\n",
      "   CarpetMask\n",
      "           Implements: CarpetMask\n",
      "           Inherits:  grid SphericalSurface \n",
      "           0 Public, 0 Protected, 0 Private variable groups\n",
      "   CarpetReduce\n",
      "           Implements: reduce\n",
      "           0 Public, 0 Protected, 4 Private variable groups\n",
      "   CarpetRegrid\n",
      "           Implements: CarpetRegrid\n",
      "           0 Public, 0 Protected, 0 Private variable groups\n",
      "   CarpetRegrid2\n",
      "           Implements: CarpetRegrid2\n",
      "           6 Public, 0 Protected, 6 Private variable groups\n",
      "   CarpetSlab\n",
      "           Implements: Hyperslab\n",
      "           0 Public, 0 Protected, 0 Private variable groups\n",
      "   CarpetTracker\n",
      "           Implements: CarpetTracker\n",
      "           Inherits:  SphericalSurface CarpetRegrid2 \n",
      "           0 Public, 0 Protected, 0 Private variable groups\n",
      "   CartGrid3D\n",
      "           Implements: grid\n",
      "           Inherits:  coordbase \n",
      "           2 Public, 0 Protected, 0 Private variable groups\n",
      "   CoordBase\n",
      "           Implements: CoordBase\n",
      "           0 Public, 0 Protected, 0 Private variable groups\n",
      "   CycleClock\n",
      "           Implements: CycleClock\n",
      "           0 Public, 0 Protected, 0 Private variable groups\n",
      "   Dissipation\n",
      "           Implements: Dissipation\n",
      "           Inherits:  grid SphericalSurface SpaceMask \n",
      "           0 Public, 0 Protected, 1 Private variable groups\n",
      "   Fortran\n",
      "           Implements: Fortran\n",
      "           0 Public, 0 Protected, 0 Private variable groups\n",
      "   Funwave\n",
      "           Implements: funwave\n",
      "           Inherits:  grid tridiagonal funwavecoord \n",
      "           25 Public, 0 Protected, 0 Private variable groups\n",
      "   FunwaveCoord\n",
      "           Implements: FunwaveCoord\n",
      "           Inherits:  grid \n",
      "           1 Public, 0 Protected, 0 Private variable groups\n",
      "   FunwaveMesh\n",
      "           Implements: funwavemesh\n",
      "           Inherits:  funwave FunwaveCoord \n",
      "           0 Public, 0 Protected, 2 Private variable groups\n",
      "   HDF5\n",
      "           Implements: HDF5\n",
      "           0 Public, 0 Protected, 0 Private variable groups\n",
      "   IOASCII\n",
      "           Implements: IOASCII\n",
      "           0 Public, 0 Protected, 0 Private variable groups\n",
      "   IOBasic\n",
      "           Implements: IOBasic\n",
      "           Inherits:  IO \n",
      "           0 Public, 0 Protected, 2 Private variable groups\n",
      "   IOUtil\n",
      "           Implements: IO\n",
      "           0 Public, 0 Protected, 0 Private variable groups\n",
      "   InitBase\n",
      "           Implements: InitBase\n",
      "           0 Public, 0 Protected, 0 Private variable groups\n",
      "   InterpToArray\n",
      "           Implements: InterpToArray\n",
      "           7 Public, 0 Protected, 0 Private variable groups\n",
      "   LocalInterp\n",
      "           Implements: LocalInterp\n",
      "           0 Public, 0 Protected, 0 Private variable groups\n",
      "   LocalReduce\n",
      "           Implements: LocalReduce\n",
      "           0 Public, 0 Protected, 0 Private variable groups\n",
      "   LoopControl\n",
      "           Implements: LoopControl\n",
      "           Inherits:  CycleClock \n",
      "           0 Public, 0 Protected, 0 Private variable groups\n",
      "   MPI\n",
      "           Implements: MPI\n",
      "           0 Public, 0 Protected, 0 Private variable groups\n",
      "   MoL\n",
      "           Implements: MethodOfLines\n",
      "           0 Public, 0 Protected, 9 Private variable groups\n",
      "   NaNChecker\n",
      "           Implements: NaNChecker\n",
      "           Inherits:  Reduce \n",
      "           0 Public, 0 Protected, 3 Private variable groups\n",
      "   SpaceMask\n",
      "           Implements: SpaceMask\n",
      "           Inherits:  grid \n",
      "           2 Public, 0 Protected, 0 Private variable groups\n",
      "   SphericalSurface\n",
      "           Implements: SphericalSurface\n",
      "           Inherits:  grid \n",
      "           9 Public, 0 Protected, 1 Private variable groups\n",
      "   SymBase\n",
      "           Implements: SymBase\n",
      "           0 Public, 0 Protected, 0 Private variable groups\n",
      "   SystemTopology\n",
      "           Implements: SystemTopology\n",
      "           0 Public, 0 Protected, 0 Private variable groups\n",
      "   TestCarpetGridInfo\n",
      "           Implements: TestCarpetGridInfo\n",
      "           0 Public, 0 Protected, 0 Private variable groups\n",
      "   TestLoopControl\n",
      "           Implements: TestLoopControl\n",
      "           Inherits:  grid \n",
      "           0 Public, 0 Protected, 3 Private variable groups\n",
      "   Time\n",
      "           Implements: time\n",
      "           1 Public, 0 Protected, 1 Private variable groups\n",
      "   Timers\n",
      "           Implements: Timers\n",
      "           0 Public, 0 Protected, 0 Private variable groups\n",
      "   Tridiagonal\n",
      "           Implements: tridiagonal\n",
      "           Inherits:  grid \n",
      "           2 Public, 0 Protected, 4 Private variable groups\n",
      "   Tridiagonal2\n",
      "           Implements: tridiagonal\n",
      "           Inherits:  grid \n",
      "           2 Public, 0 Protected, 1 Private variable groups\n",
      "   Vectors\n",
      "           Implements: Vectors\n",
      "           0 Public, 0 Protected, 0 Private variable groups\n",
      "   hwloc\n",
      "           Implements: hwloc\n",
      "           0 Public, 0 Protected, 0 Private variable groups\n",
      "   zlib\n",
      "           Implements: zlib\n",
      "           0 Public, 0 Protected, 0 Private variable groups\n",
      "Parsing parameter files...\n",
      "   AEILocalInterp\n",
      "          0 Global, 0 Restricted, 1 Private parameters\n",
      "   Boundary\n",
      "          0 Global, 8 Restricted, 0 Private parameters\n",
      "   Cactus\n",
      "          0 Global, 6 Restricted, 13 Private parameters\n",
      "   Carpet\n",
      "          0 Global, 4 Restricted, 94 Private parameters\n",
      "   CarpetEvolutionMask\n",
      "          0 Global, 0 Restricted, 6 Private parameters\n",
      "   CarpetIOASCII\n",
      "          0 Global, 0 Restricted, 63 Private parameters\n",
      "   CarpetIOBasic\n",
      "          0 Global, 0 Restricted, 15 Private parameters\n",
      "   CarpetIOHDF5\n",
      "          0 Global, 0 Restricted, 77 Private parameters\n",
      "   CarpetIOScalar\n",
      "          0 Global, 0 Restricted, 9 Private parameters\n",
      "   CarpetInterp\n",
      "          0 Global, 0 Restricted, 5 Private parameters\n",
      "   CarpetInterp2\n",
      "          0 Global, 0 Restricted, 3 Private parameters\n",
      "   CarpetLib\n",
      "          0 Global, 5 Restricted, 31 Private parameters\n",
      "   CarpetMask\n",
      "          0 Global, 0 Restricted, 8 Private parameters\n",
      "   CarpetReduce\n",
      "          0 Global, 0 Restricted, 3 Private parameters\n",
      "   CarpetRegrid\n",
      "          0 Global, 5 Restricted, 65 Private parameters\n",
      "   CarpetRegrid2\n",
      "          0 Global, 0 Restricted, 135 Private parameters\n",
      "   CarpetSlab\n",
      "          0 Global, 0 Restricted, 0 Private parameters\n",
      "   CarpetTracker\n",
      "          0 Global, 0 Restricted, 3 Private parameters\n",
      "   CartGrid3D\n",
      "          0 Global, 23 Restricted, 10 Private parameters\n",
      "   CoordBase\n",
      "          0 Global, 0 Restricted, 44 Private parameters\n",
      "   CycleClock\n",
      "          0 Global, 0 Restricted, 1 Private parameters\n",
      "   Dissipation\n",
      "          0 Global, 18 Restricted, 0 Private parameters\n",
      "   Fortran\n",
      "          0 Global, 0 Restricted, 1 Private parameters\n",
      "   Funwave\n",
      "          0 Global, 105 Restricted, 0 Private parameters\n",
      "   FunwaveCoord\n",
      "          0 Global, 10 Restricted, 0 Private parameters\n",
      "   FunwaveMesh\n",
      "          0 Global, 5 Restricted, 0 Private parameters\n",
      "   HDF5\n",
      "          0 Global, 0 Restricted, 0 Private parameters\n",
      "   IOASCII\n",
      "          0 Global, 0 Restricted, 35 Private parameters\n",
      "   IOBasic\n",
      "          0 Global, 0 Restricted, 13 Private parameters\n",
      "   IOUtil\n"
     ]
    },
    {
     "name": "stdout",
     "output_type": "stream",
     "text": [
      "          0 Global, 59 Restricted, 2 Private parameters\n",
      "   InitBase\n",
      "          0 Global, 1 Restricted, 0 Private parameters\n",
      "   InterpToArray\n",
      "          0 Global, 93 Restricted, 0 Private parameters\n",
      "   LocalInterp\n",
      "          0 Global, 0 Restricted, 0 Private parameters\n",
      "   LocalReduce\n",
      "          0 Global, 0 Restricted, 0 Private parameters\n",
      "   LoopControl\n",
      "          0 Global, 0 Restricted, 20 Private parameters\n",
      "   MPI\n",
      "          0 Global, 0 Restricted, 0 Private parameters\n",
      "   MoL\n",
      "          0 Global, 9 Restricted, 26 Private parameters\n",
      "   NaNChecker\n",
      "          0 Global, 0 Restricted, 11 Private parameters\n",
      "   SpaceMask\n",
      "          0 Global, 1 Restricted, 0 Private parameters\n",
      "   SphericalSurface\n",
      "          0 Global, 15 Restricted, 9 Private parameters\n",
      "   SymBase\n",
      "          0 Global, 0 Restricted, 1 Private parameters\n",
      "   SystemTopology\n",
      "          0 Global, 0 Restricted, 2 Private parameters\n",
      "   TestCarpetGridInfo\n",
      "          0 Global, 0 Restricted, 2 Private parameters\n",
      "   TestLoopControl\n",
      "          0 Global, 0 Restricted, 0 Private parameters\n",
      "   Time\n",
      "          0 Global, 2 Restricted, 5 Private parameters\n",
      "   Timers\n",
      "          0 Global, 0 Restricted, 6 Private parameters\n",
      "   Tridiagonal\n",
      "          0 Global, 0 Restricted, 1 Private parameters\n",
      "   Tridiagonal2\n",
      "          0 Global, 0 Restricted, 2 Private parameters\n",
      "   Vectors\n",
      "          0 Global, 0 Restricted, 1 Private parameters\n",
      "   hwloc\n",
      "          0 Global, 0 Restricted, 0 Private parameters\n",
      "   zlib\n",
      "          0 Global, 0 Restricted, 0 Private parameters\n",
      "Parsing schedule files...\n",
      "   AEILocalInterp\n",
      "          1 schedule blocks.\n",
      "   Boundary\n",
      "          6 schedule blocks.\n",
      "   Cactus\n",
      "          0 schedule blocks.\n",
      "   Carpet\n",
      "          6 schedule blocks.\n",
      "   CarpetEvolutionMask\n",
      "          7 schedule blocks.\n",
      "   CarpetIOASCII\n",
      "          2 schedule blocks.\n",
      "   CarpetIOBasic\n",
      "          2 schedule blocks.\n",
      "   CarpetIOHDF5\n",
      "          10 schedule blocks.\n",
      "   CarpetIOScalar\n",
      "          2 schedule blocks.\n",
      "   CarpetInterp\n",
      "          1 schedule blocks.\n",
      "   CarpetInterp2\n",
      "          0 schedule blocks.\n",
      "   CarpetLib\n",
      "          4 schedule blocks.\n",
      "   CarpetMask\n",
      "          4 schedule blocks.\n",
      "   CarpetReduce\n",
      "          15 schedule blocks.\n",
      "   CarpetRegrid\n",
      "          1 schedule blocks.\n",
      "   CarpetRegrid2\n",
      "          2 schedule blocks.\n",
      "   CarpetSlab\n",
      "          0 schedule blocks.\n",
      "   CarpetTracker\n",
      "          1 schedule blocks.\n",
      "   CartGrid3D\n",
      "          11 schedule blocks.\n",
      "   CoordBase\n",
      "          1 schedule blocks.\n",
      "   CycleClock\n",
      "          1 schedule blocks.\n",
      "   Dissipation\n",
      "          6 schedule blocks.\n",
      "   Fortran\n",
      "          1 schedule blocks.\n",
      "   Funwave\n",
      "          64 schedule blocks.\n",
      "   FunwaveCoord\n",
      "          3 schedule blocks.\n",
      "   FunwaveMesh\n",
      "          1 schedule blocks.\n",
      "   HDF5\n",
      "          0 schedule blocks.\n",
      "   IOASCII\n",
      "          3 schedule blocks.\n",
      "   IOBasic\n",
      "          2 schedule blocks.\n",
      "   IOUtil\n",
      "          4 schedule blocks.\n",
      "   InitBase\n",
      "          0 schedule blocks.\n",
      "   InterpToArray\n",
      "          1 schedule blocks.\n",
      "   LocalInterp\n",
      "          1 schedule blocks.\n",
      "   LocalReduce\n",
      "          1 schedule blocks.\n",
      "   LoopControl\n",
      "          4 schedule blocks.\n",
      "   MPI\n",
      "          0 schedule blocks.\n",
      "   MoL\n",
      "          66 schedule blocks.\n",
      "   NaNChecker\n",
      "          10 schedule blocks.\n",
      "   SpaceMask\n",
      "          9 schedule blocks.\n",
      "   SphericalSurface\n",
      "          7 schedule blocks.\n",
      "   SymBase\n",
      "          5 schedule blocks.\n",
      "   SystemTopology\n",
      "          1 schedule blocks.\n",
      "   TestCarpetGridInfo\n",
      "          1 schedule blocks.\n",
      "   TestLoopControl\n",
      "          3 schedule blocks.\n",
      "   Time\n",
      "          7 schedule blocks.\n",
      "   Timers\n",
      "          2 schedule blocks.\n",
      "   Tridiagonal\n",
      "          16 schedule blocks.\n",
      "   Tridiagonal2\n",
      "          17 schedule blocks.\n",
      "   Vectors\n",
      "          2 schedule blocks.\n",
      "   hwloc\n",
      "          0 schedule blocks.\n",
      "   zlib\n",
      "          0 schedule blocks.\n",
      "Running any thorn-provided configuration scripts...\n",
      "\n",
      "********************************************************************************\n",
      "Running configuration script for thorn FORTRAN:\n",
      "Found a traditional Fortran cpp\n",
      "Finished running configuration script for thorn FORTRAN.\n",
      "\n",
      "********************************************************************************\n",
      "Running configuration script for thorn VECTORS:\n",
      "Finished running configuration script for thorn VECTORS.\n",
      "\n",
      "********************************************************************************\n",
      "Running configuration script for thorn ZLIB:\n",
      "zlib selected, but ZLIB_DIR not set. Checking some places...\n",
      "Found zlib in /usr\n",
      "Finished running configuration script for thorn ZLIB.\n",
      "\n",
      "********************************************************************************\n",
      "Running configuration script for thorn HWLOC:\n",
      "hwloc selected, but HWLOC_DIR not set. Checking some places...\n",
      "Found hwloc in /usr\n",
      "Finished running configuration script for thorn HWLOC.\n",
      "\n",
      "********************************************************************************\n",
      "Running configuration script for thorn MPI:\n",
      "Found MPI compiler wrapper at /usr/lib64/mpich/bin/mpic++!\n",
      "Successfully configured MPI.\n",
      "Finished running configuration script for thorn MPI.\n",
      "\n",
      "********************************************************************************\n",
      "Running configuration script for thorn HDF5:\n",
      "Additional requested language support:  Fortran\n",
      "HDF5 selected, and /usr selected.\n",
      "HDF5 found.\n",
      "Finished running configuration script for thorn HDF5.\n",
      "Checking consistency...\n",
      "Creating Thorn-Flesh bindings...\n",
      "   Creating implementation bindings...\n",
      "   Creating parameter bindings...\n",
      "   Creating variable bindings...\n",
      "   Creating schedule bindings...\n",
      "   Creating function bindings...\n",
      "CST finished.\n",
      "Checking status of thorn AEILocalInterp\n",
      "Checking status of thorn Boundary\n",
      "Checking status of thorn CycleClock\n",
      "Checking status of thorn Vectors\n",
      "Checking status of thorn zlib\n",
      "Checking status of thorn IOUtil\n",
      "Checking status of thorn CarpetTracker\n",
      "Checking status of thorn CoordBase\n",
      "Checking status of thorn SphericalSurface\n",
      "Checking status of thorn Fortran\n",
      "Checking status of thorn FunwaveCoord\n",
      "Checking status of thorn FunwaveMesh\n",
      "Checking status of thorn IOASCII\n",
      "Checking status of thorn IOBasic\n",
      "Checking status of thorn InitBase\n",
      "Checking status of thorn InterpToArray\n",
      "Checking status of thorn LocalInterp\n",
      "Checking status of thorn LocalReduce\n",
      "Checking status of thorn MoL\n",
      "Checking status of thorn NaNChecker\n",
      "Checking status of thorn SymBase\n",
      "Checking status of thorn Time\n",
      "Checking status of thorn CactusBindings\n",
      "Checking status of thorn hwloc\n",
      "COMPILING configs/sim/bindings/Functions/RegisterThornFunctions.c\n",
      "COMPILING configs/sim/bindings/Implementations/ImplementationBindings.c\n",
      "Checking status of thorn CartGrid3D\n",
      "Checking status of thorn Dissipation\n",
      "Checking status of thorn SpaceMask\n",
      "COMPILING configs/sim/bindings/Parameters/BindingsParameters.c\n",
      "COMPILING configs/sim/bindings/Variables/BindingsVariables.c\n",
      "Checking status of thorn LoopControl\n",
      "Checking status of thorn MPI\n",
      "Checking status of thorn CarpetMask\n",
      "Checking status of thorn SystemTopology\n",
      "Checking status of thorn TestLoopControl\n",
      "Checking status of thorn Tridiagonal\n",
      "Checking status of thorn Tridiagonal2\n",
      "Checking status of thorn Cactus\n",
      "Checking status of thorn CarpetLib\n",
      "Checking status of thorn HDF5\n",
      "Checking status of thorn Timers\n",
      "Checking status of thorn Funwave\n",
      "Checking status of thorn Carpet\n",
      "COMPILING configs/sim/bindings/Schedule/BindingsSchedule.c\n",
      "Checking status of thorn CarpetEvolutionMask\n",
      "COMPILING configs/sim/bindings/Schedule/BindingsParameterRecovery.c\n",
      "Checking status of thorn CarpetIOASCII\n",
      "Updating /home/sbrandt/CactusFW2/configs/sim/lib/libthorn_CactusBindings.a\n",
      "Checking status of thorn CarpetIOBasic\n",
      "Checking status of thorn CarpetIOHDF5\n",
      "Checking status of thorn CarpetIOScalar\n",
      "Checking status of thorn CarpetInterp\n",
      "Checking status of thorn CarpetInterp2\n",
      "Checking status of thorn CarpetReduce\n",
      "Checking status of thorn CarpetRegrid\n",
      "Checking status of thorn CarpetRegrid2\n",
      "Checking status of thorn CarpetSlab\n",
      "Checking status of thorn TestCarpetGridInfo\n",
      "Creating cactus_sim in /home/sbrandt/CactusFW2/exe from AEIThorns/AEILocalInterp CactusBase/Boundary Carpet/Carpet Carpet/CarpetEvolutionMask Carpet/CarpetIOASCII Carpet/CarpetIOBasic Carpet/CarpetIOHDF5 Carpet/CarpetIOScalar Carpet/CarpetInterp Carpet/CarpetInterp2 Carpet/CarpetLib Carpet/CarpetMask Carpet/CarpetReduce Carpet/CarpetRegrid Carpet/CarpetRegrid2 Carpet/CarpetSlab Carpet/CarpetTracker CactusBase/CartGrid3D CactusBase/CoordBase Carpet/CycleClock CactusNumerical/Dissipation CactusBase/Fortran CactusCoastal/Funwave CactusCoastal/FunwaveCoord CactusCoastal/FunwaveMesh ExternalLibraries/HDF5 CactusBase/IOASCII CactusBase/IOBasic CactusBase/IOUtil CactusBase/InitBase CactusNumerical/InterpToArray CactusNumerical/LocalInterp CactusNumerical/LocalReduce Carpet/LoopControl ExternalLibraries/MPI CactusNumerical/MoL CactusUtils/NaNChecker CactusNumerical/SpaceMask CactusNumerical/SphericalSurface CactusBase/SymBase CactusUtils/SystemTopology Carpet/TestCarpetGridInfo Carpet/TestLoopControl CactusBase/Time Carpet/Timers CactusCoastal/Tridiagonal CactusCoastal/Tridiagonal2 CactusUtils/Vectors ExternalLibraries/hwloc ExternalLibraries/zlib\n"
     ]
    },
    {
     "name": "stdout",
     "output_type": "stream",
     "text": [
      "Done creating cactus_sim.\n",
      "All done !\n",
      "Building utilities for sim\n",
      "Building utilities for sim\n",
      "Compiling /home/sbrandt/CactusFW2/arrangements/Carpet/CarpetIOASCII/src/util/carpet2xgraph.c\n",
      "Compiling /home/sbrandt/CactusFW2/arrangements/Carpet/CarpetIOHDF5/src/util/hdf5toascii_slicer.cc\n",
      "Compiling /home/sbrandt/CactusFW2/arrangements/Carpet/CarpetIOHDF5/src/util/hdf5tobinary_slicer.cc\n",
      "Compiling /home/sbrandt/CactusFW2/arrangements/Carpet/CarpetIOHDF5/src/util/hdf5_slicer.cc\n",
      "Compiling /home/sbrandt/CactusFW2/arrangements/Carpet/CarpetIOHDF5/src/util/hdf5_recombiner.cc\n",
      "Copying gif2h5 from /usr/bin/gif2h5 to /home/sbrandt/CactusFW2/exe/sim\n",
      "Copying h52gif from /usr/bin/h52gif to /home/sbrandt/CactusFW2/exe/sim\n",
      "Copying h5copy from /usr/bin/h5copy to /home/sbrandt/CactusFW2/exe/sim\n",
      "Copying h5debug from /usr/bin/h5debug to /home/sbrandt/CactusFW2/exe/sim\n",
      "Copying h5diff from /usr/bin/h5diff to /home/sbrandt/CactusFW2/exe/sim\n",
      "Copying h5dump from /usr/bin/h5dump to /home/sbrandt/CactusFW2/exe/sim\n",
      "Copying h5import from /usr/bin/h5import to /home/sbrandt/CactusFW2/exe/sim\n",
      "Copying h5jam from /usr/bin/h5jam to /home/sbrandt/CactusFW2/exe/sim\n",
      "Copying h5ls from /usr/bin/h5ls to /home/sbrandt/CactusFW2/exe/sim\n",
      "Copying h5mkgrp from /usr/bin/h5mkgrp to /home/sbrandt/CactusFW2/exe/sim\n",
      "Copying h5perf_serial from /usr/bin/h5perf_serial to /home/sbrandt/CactusFW2/exe/sim\n",
      "Copying h5redeploy from /usr/bin/h5redeploy to /home/sbrandt/CactusFW2/exe/sim\n",
      "Copying h5repack from /usr/bin/h5repack to /home/sbrandt/CactusFW2/exe/sim\n",
      "Copying h5repart from /usr/bin/h5repart to /home/sbrandt/CactusFW2/exe/sim\n",
      "Copying h5stat from /usr/bin/h5stat to /home/sbrandt/CactusFW2/exe/sim\n",
      "Copying h5unjam from /usr/bin/h5unjam to /home/sbrandt/CactusFW2/exe/sim\n",
      "Compiling /home/sbrandt/CactusFW2/arrangements/ExternalLibraries/HDF5/src/util/hdf5_merge.c\n",
      "Compiling /home/sbrandt/CactusFW2/arrangements/ExternalLibraries/HDF5/src/util/hdf5_extract.c\n",
      "Compiling /home/sbrandt/CactusFW2/arrangements/ExternalLibraries/HDF5/src/util/hdf5_double_to_single.c\n",
      "Copying mpirun from /usr/lib64/mpich/bin/mpirun to /home/sbrandt/CactusFW2/exe/sim\n",
      "Copying hwloc-info from /usr/bin/hwloc-info to /home/sbrandt/CactusFW2/exe/sim\n",
      "Copying hwloc-ps from /usr/bin/hwloc-ps to /home/sbrandt/CactusFW2/exe/sim\n",
      "Copying hwloc-bind from /usr/bin/hwloc-bind to /home/sbrandt/CactusFW2/exe/sim\n",
      "Copying hwloc-ls from /usr/bin/hwloc-ls to /home/sbrandt/CactusFW2/exe/sim\n",
      "Copying lstopo-no-graphics from /usr/bin/lstopo-no-graphics to /home/sbrandt/CactusFW2/exe/sim\n",
      "Copying hwloc-assembler-remote from /usr/bin/hwloc-assembler-remote to /home/sbrandt/CactusFW2/exe/sim\n",
      "Copying hwloc-calc from /usr/bin/hwloc-calc to /home/sbrandt/CactusFW2/exe/sim\n",
      "Copying hwloc-assembler from /usr/bin/hwloc-assembler to /home/sbrandt/CactusFW2/exe/sim\n",
      "Copying hwloc-distances from /usr/bin/hwloc-distances to /home/sbrandt/CactusFW2/exe/sim\n",
      "Copying hwloc-distrib from /usr/bin/hwloc-distrib to /home/sbrandt/CactusFW2/exe/sim\n",
      "Creating carpet2xgraph in /home/sbrandt/CactusFW2/exe/sim from /home/sbrandt/CactusFW2/configs/sim/build/CarpetIOASCII/carpet2xgraph.o\n",
      "Creating hdf5toascii_slicer in /home/sbrandt/CactusFW2/exe/sim from /home/sbrandt/CactusFW2/configs/sim/build/CarpetIOHDF5/hdf5toascii_slicer.o\n",
      "Creating hdf5tobinary_slicer in /home/sbrandt/CactusFW2/exe/sim from /home/sbrandt/CactusFW2/configs/sim/build/CarpetIOHDF5/hdf5tobinary_slicer.o\n",
      "Creating hdf5_slicer in /home/sbrandt/CactusFW2/exe/sim from /home/sbrandt/CactusFW2/configs/sim/build/CarpetIOHDF5/hdf5_slicer.o\n",
      "Creating hdf5_recombiner in /home/sbrandt/CactusFW2/exe/sim from /home/sbrandt/CactusFW2/configs/sim/build/CarpetIOHDF5/hdf5_recombiner.o\n",
      "Creating hdf5_merge in /home/sbrandt/CactusFW2/exe/sim from /home/sbrandt/CactusFW2/configs/sim/build/HDF5/hdf5_merge.o\n",
      "Creating hdf5_extract in /home/sbrandt/CactusFW2/exe/sim from /home/sbrandt/CactusFW2/configs/sim/build/HDF5/hdf5_extract.o\n",
      "Creating hdf5_double_to_single in /home/sbrandt/CactusFW2/exe/sim from /home/sbrandt/CactusFW2/configs/sim/build/HDF5/hdf5_double_to_single.o\n",
      "Done.\n",
      "\n",
      "real\t0m18.905s\n",
      "user\t0m14.675s\n",
      "sys\t0m4.059s\n"
     ]
    }
   ],
   "source": [
    "!time ./simfactory/bin/sim build -j 2 --thornlist=./repos/cajunwave/funwave_carpet.th "
   ]
  },
  {
   "cell_type": "markdown",
   "metadata": {},
   "source": [
    "The build command creates a configuration called \"sim\". It is found in the \"configs/sim\" directory. One of the files in this directory is the ThornList. It contains the list of thorns Cactus will compile. If you wish to add or remove a thorn from your configuration, you can do it by editing this file. However, by doing so you risk confusing yourself by forgetting what you've done. Proceed at your own risk!"
   ]
  },
  {
   "cell_type": "code",
   "execution_count": null,
   "metadata": {
    "collapsed": true
   },
   "outputs": [],
   "source": [
    "%ls ~/CactusFW2/configs/sim"
   ]
  },
  {
   "cell_type": "code",
   "execution_count": null,
   "metadata": {
    "collapsed": true
   },
   "outputs": [],
   "source": [
    "%pycat ~/CactusFW2/configs/sim/ThornList"
   ]
  },
  {
   "cell_type": "markdown",
   "metadata": {},
   "source": [
    "The \"OptionList\" file contains all the configuration options (the things you saw in centos.cfg). Unlike the ThornList file, however, changing this file will have no effect. If you wish to change your configuration options without starting over from scratch, you should edit the file \"configs/sim/config-data/make.config.defn.\""
   ]
  },
  {
   "cell_type": "code",
   "execution_count": null,
   "metadata": {
    "collapsed": true
   },
   "outputs": [],
   "source": [
    "%pycat ~/CactusFW2/configs/sim/config-data/make.config.defn"
   ]
  },
  {
   "cell_type": "code",
   "execution_count": null,
   "metadata": {
    "collapsed": true
   },
   "outputs": [],
   "source": [
    "# Simfactory supplies a config file from its \"machine database\" or \"mdb.\" This script\n",
    "# figures out which one it copied by identifying the most similar file in the machine dabase.\n",
    "\n",
    "# The smaller the number returned by this function, the more\n",
    "# alike strings a and b are to each other.\n",
    "def similarity_distance(a,b):\n",
    "    d = {}\n",
    "    for c in a:\n",
    "        if c in d:\n",
    "            d[c] += 1\n",
    "        else:\n",
    "            d[c] = 1\n",
    "    for c in b:\n",
    "        if c in d:\n",
    "            d[c] -= 1\n",
    "        else:\n",
    "            d[c] = -1\n",
    "    sum = 0\n",
    "    for k in d:\n",
    "        v = d[k]\n",
    "        if v < 0:\n",
    "            sum -= v\n",
    "        else:\n",
    "            sum += v\n",
    "    return sum\n",
    "\n",
    "import os\n",
    "my_options = open(os.environ[\"HOME\"]+\"/CactusFW2/configs/sim/OptionList\").read()\n",
    "mdb_dir = os.environ[\"HOME\"]+\"/CactusFW2/simfactory/mdb/optionlists\"\n",
    "print(\"mdb_dir=\"+mdb_dir)\n",
    "best_choice = None # The best choice for a similar cfg file so far\n",
    "min_dist = 1e15 # a super big number...\n",
    "# For each machine in the database\n",
    "for file in os.listdir(mdb_dir):\n",
    "    full_path = mdb_dir+\"/\"+file\n",
    "    # Read in the contents of the cfg file\n",
    "    file_options = open(full_path).read()\n",
    "    dist = similarity_distance(file_options,my_options)\n",
    "    # Update the best_choice of cfg file if we have\n",
    "    # a shorter similarity distance.\n",
    "    if dist < min_dist:\n",
    "        min_dist = dist\n",
    "        best_choice = file\n",
    "print(\"Most similar optionlist in the Simfactory mdb was:\",best_choice)\n",
    "os.environ[\"BEST_CHOICE\"]=best_choice"
   ]
  },
  {
   "cell_type": "code",
   "execution_count": null,
   "metadata": {
    "collapsed": true
   },
   "outputs": [],
   "source": [
    "# Take a look at the cfg file to see what it looks like.\n",
    "!cat ./repos/simfactory2/mdb/optionlists/${BEST_CHOICE}"
   ]
  },
  {
   "cell_type": "markdown",
   "metadata": {},
   "source": [
    "<h1>Running Cactus!</h1>"
   ]
  },
  {
   "cell_type": "code",
   "execution_count": null,
   "metadata": {
    "collapsed": true
   },
   "outputs": [],
   "source": [
    "%cd ~/CactusFW2"
   ]
  },
  {
   "cell_type": "markdown",
   "metadata": {},
   "source": [
    "Below we are going to run a simple Gaussian water wave over a flat seabed. We will use MPI and run on two processes. You can edit the parameter file below and hit shift-Enter to write it to disk. The special sequence \"%%writefile filename\" at the top makes this possible. Alternatively, you can load an existing file by putting the special sequence \"%load filename\" at the top of a cell and hitting shift-Enter."
   ]
  },
  {
   "cell_type": "code",
   "execution_count": null,
   "metadata": {
    "collapsed": true
   },
   "outputs": [],
   "source": [
    "%%writefile ~/CactusFW2/wave.par\n",
    "\n",
    "#Reorder the parameters for easy comparison to the input.txt in example 3\n",
    "ActiveThorns = \"\n",
    "  CoordBase FunWave FunwaveCoord CartGrid3D Carpet CarpetIOASCII\n",
    "  CartGrid3D IOUtil CarpetIOBasic CarpetSlab Boundary SymBase MoL\n",
    "  CarpetReduce LocalReduce InitBase CarpetLib LoopControl Tridiagonal\n",
    "  CarpetIOScalar \"\n",
    "\n",
    "#----------------------------------------------------\n",
    "# Flesh and CCTK parameters\n",
    "#----------------------------------------------------\n",
    "\n",
    "# flesh\n",
    "Cactus::cctk_run_title = \"Test Run\"\n",
    "Cactus::cctk_show_schedule = \"yes\"\n",
    "Cactus::cctk_itlast = 300\n",
    "Cactus::allow_mixeddim_gfs = \"yes\"\n",
    "\n",
    "# CartGrid3D\n",
    "CartGrid3D::type = \"coordbase\"\n",
    "CartGrid3D::avoid_origin = \"no\"\n",
    "CoordBase::domainsize = \"minmax\"\n",
    "CoordBase::spacing    = \"gridspacing\"\n",
    "CoordBase::xmin =  0\n",
    "CoordBase::xmax =  30\n",
    "CoordBase::ymin =  0\n",
    "CoordBase::ymax =  30\n",
    "CoordBase::zmin =  0.0\n",
    "CoordBase::zmax =  0.0\n",
    "CoordBase::dx   =  0.25\n",
    "CoordBase::dy   =  0.25\n",
    "\n",
    "CoordBase::boundary_size_x_lower     = 3\n",
    "CoordBase::boundary_size_x_upper     = 3\n",
    "CoordBase::boundary_size_y_lower     = 3\n",
    "CoordBase::boundary_size_y_upper     = 3\n",
    "CoordBase::boundary_size_z_lower     = 0\n",
    "CoordBase::boundary_size_z_upper     = 0\n",
    "CoordBase::boundary_shiftout_x_lower = 1\n",
    "CoordBase::boundary_shiftout_x_upper = 1\n",
    "CoordBase::boundary_shiftout_y_lower = 1\n",
    "CoordBase::boundary_shiftout_y_upper = 1\n",
    "CoordBase::boundary_shiftout_z_lower = 1\n",
    "CoordBase::boundary_shiftout_z_upper = 1\n",
    "\n",
    "# Carpet\n",
    "Carpet::domain_from_coordbase = \"yes\"\n",
    "Carpet::ghost_size_x = 3\n",
    "Carpet::ghost_size_y = 3\n",
    "Carpet::ghost_size_z = 1\n",
    "carpet::adaptive_stepsize = yes\n",
    "\n",
    "# MoL\n",
    "MoL::ODE_Method = \"RK3\"\n",
    "MoL::disable_prolongation        = \"yes\"\n",
    "\n",
    "# the output dir will be named after the parameter file name\n",
    "IO::out_dir = $parfile\n",
    "IO::out_fileinfo=\"none\"\n",
    "IOBasic::outInfo_every = 1\n",
    "IOBasic::outInfo_vars = \"FunWave::eta FunWave::u FunWave::v\"\n",
    "\n",
    "#IOASCII::out1D_every = 1\n",
    "#IOASCII::out1d_vars = \"FunWave::eta Funwave::depth\"\n",
    "CarpetIOASCII::compact_format = false\n",
    "IOASCII::out2D_every = 30\n",
    "IOASCII::out2D_xyplane_z = 0\n",
    "IOASCII::out2D_vars = \"FunWave::eta FunWave::u FunWave::v\"\n",
    "IOASCII::out2D_xz = \"no\"\n",
    "IOASCII::out2D_yz = \"no\"\n",
    "IOASCII::output_ghost_points = \"no\"\n",
    "\n",
    "IOScalar::outScalar_every = 1\n",
    "IOScalar::outScalar_vars = \"FunWave::eta FunWave::u FunWave::v\"\n",
    "\n",
    "#& = \"Funwave::eta\"\n",
    "\n",
    "#----------------------------------------------------\n",
    "# Funwave parameters\n",
    "#----------------------------------------------------\n",
    "\n",
    "# Funwave depth \n",
    "FunWave::depth_file_offset_x = 3\n",
    "FunWave::depth_file_offset_y = 3\n",
    "FunWave::depth_type = \"flat\"\n",
    "FunWave::depth_format = \"ele\"\n",
    "FunWave::depth_file = \"/tmp/__depth__.txt\"\n",
    "FunWave::depth_flat = 0.8\n",
    "#Funwave::test_depth_shore_x = 80\n",
    "#Funwave::test_depth_island_x = 40\n",
    "#Funwave::test_depth_island_y = 40\n",
    "FunWave::depth_xslp = 10.0\n",
    "FunWave::depth_slope = 0.05\n",
    "FunWave::dt_size = 0\n",
    "Funwave::generate_test_depth_data = true\n",
    "Funwave::num_wave_components = 1\n",
    "Funwave::wave_component_file = \"/home/sbrandt/workspace/shi_funwave/example_2/fft/wavemk_per_amp_pha.txt\"\n",
    "Funwave::peak_period = 1\n",
    "\n",
    "# import\n",
    "Funwave::time_ramp = 1.0\n",
    "Funwave::delta_wk = 0.5\n",
    "Funwave::dep_wk = 0.45\n",
    "Funwave::xc_wk = 3.0\n",
    "Funwave::ywidth_wk = 10000.0\n",
    "Funwave::tperiod = 1.0\n",
    "Funwave::amp_wk = 0.0232\n",
    "Funwave::theta_wk = 0.0\n",
    "Funwave::freqpeak = 0.2\n",
    "Funwave::freqmin = 0.1\n",
    "Funwave::freqmax = 0.4\n",
    "Funwave::hmo = 1.0\n",
    "Funwave::gammatma = 5.0\n",
    "Funwave::thetapeak = 10.0\n",
    "Funwave::sigma_theta = 15.0\n",
    "\n",
    "# Funwave wind forcing\n",
    "Funwave::wind_force = false\n",
    "Funwave::use_wind_mask = false\n",
    "Funwave::num_time_wind_data = 2\n",
    "Funwave::timewind[0] = 0\n",
    "Funwave::wu[0] = 25\n",
    "Funwave::wv[0] = 50\n",
    "Funwave::timewind[1] = 1000\n",
    "Funwave::wu[1] = 100\n",
    "Funwave::wv[1] = 100\n",
    "Funwave::boundary = funwave\n",
    "\n",
    "# Funwave wave maker\n",
    "FunWave::wavemaker_type = \"ini_gau\"\n",
    "FunWave::xc = 26.5\n",
    "FunWave::yc = 26.9\n",
    "FunWave::amp =  2.0\n",
    "FunWave::wid =  1\n",
    "Funwave::wdep = 0.78\n",
    "Funwave::xwavemaker = 25.0\n",
    "\n",
    "# Funwave sponge \n",
    "FunWave::sponge_on = false\n",
    "FunWave::sponge_west_width = 2.0\n",
    "FunWave::sponge_east_width = 2.0\n",
    "FunWave::sponge_north_width = 0.0\n",
    "FunWave::sponge_south_width = 0.0\n",
    "FunWave::sponge_decay_rate = 0.9\n",
    "FunWave::sponge_damping_magnitude = 5.0\n",
    "\n",
    "# Funwave dispersion (example 3 enables dispersion)\n",
    "FunWave::dispersion_on = \"true\"\n",
    "FunWave::gamma1 = 1.0\n",
    "FunWave::gamma2 = 1.0\n",
    "FunWave::gamma3 = 1.0\n",
    "FunWave::beta_ref = -0.531\n",
    "FunWave::swe_eta_dep = 0.80\n",
    "FunWave::cd = 0.0\n",
    "\n",
    "# Funwave numerics (MoL parameter controls time integration scheme)\n",
    "FunWave::reconstruction_scheme = \"fourth\"\n",
    "FunWave::riemann_solver = \"HLLC\"\n",
    "FunWave::dtfac = 0.5\n",
    "FunWave::froudecap = 10.0\n",
    "FunWave::mindepth = 0.001\n",
    "FunWave::mindepthfrc = 0.001\n",
    "FunWave::enable_masks = \"true\"\n",
    "Funwave::estimate_dt_on = \"true\"\n",
    "\n",
    "FunwaveCoord::spherical_coordinates = false\n",
    "\n",
    "ActiveThorns = \"CarpetIOHDF5\"\n",
    "IOHDF5::out2D_xyplane_z = 0 \n",
    "IOHDF5::out2D_every = 10\n",
    "IOHDF5::out2D_vars = \" \n",
    "  FunWave::eta\n",
    "  FunWave::u\n",
    "  FunWave::v\n",
    "  Grid::Coordinates{out_every=1000000000}\n",
    "\"\n",
    "IOHDF5::out2D_xz = no\n",
    "IOHDF5::out2D_yz = no"
   ]
  },
  {
   "cell_type": "markdown",
   "metadata": {},
   "source": [
    "This next cell deletes our simulation in case we want to throw it away and start over again for some reason."
   ]
  },
  {
   "cell_type": "code",
   "execution_count": null,
   "metadata": {
    "collapsed": true
   },
   "outputs": [],
   "source": [
    "!rm -fr ~/simulations/wave"
   ]
  },
  {
   "cell_type": "markdown",
   "metadata": {},
   "source": [
    "At long last, we are ready run Cactus. This configuration specifies running on two threads, with 1 thread per process. To execute this command, Cactus uses a \"RunScript\" stored in configs/sim/RunScript. You might want to take a look at it. Identifiers sandwiched between @ symbols get replaced by Simfactory prior to execution."
   ]
  },
  {
   "cell_type": "code",
   "execution_count": null,
   "metadata": {
    "collapsed": true
   },
   "outputs": [],
   "source": [
    "!cat ~/CactusFW2/configs/sim/RunScript"
   ]
  },
  {
   "cell_type": "markdown",
   "metadata": {},
   "source": [
    "Enough already! Let's run Cactus!"
   ]
  },
  {
   "cell_type": "code",
   "execution_count": null,
   "metadata": {
    "collapsed": true
   },
   "outputs": [],
   "source": [
    "%cd ~/CactusFW2\n",
    "!./simfactory/bin/sim create-run --procs 2 --num-threads 1 wave.par"
   ]
  },
  {
   "cell_type": "markdown",
   "metadata": {},
   "source": [
    "Data can be found in this directory. Using the next couple of commands, we will browse it."
   ]
  },
  {
   "cell_type": "code",
   "execution_count": null,
   "metadata": {
    "collapsed": true
   },
   "outputs": [],
   "source": [
    "%cd ~/simulations/wave/output-0000/wave"
   ]
  },
  {
   "cell_type": "code",
   "execution_count": null,
   "metadata": {
    "collapsed": true,
    "scrolled": true
   },
   "outputs": [],
   "source": [
    "%ls *.asc"
   ]
  },
  {
   "cell_type": "code",
   "execution_count": null,
   "metadata": {
    "collapsed": true
   },
   "outputs": [],
   "source": [
    "# This cell enables inline plotting in the notebook\n",
    "%matplotlib inline\n",
    "\n",
    "import matplotlib\n",
    "import numpy as np\n",
    "import matplotlib.pyplot as plt"
   ]
  },
  {
   "cell_type": "markdown",
   "metadata": {},
   "source": [
    "The top of %pycat command showed us what the columns mean:\n",
    "HYDROBASE::rho (hydrobase-rho)\n",
    "* 1 iteration\n",
    "* 2 time - how much time has passed in the simulation\n",
    "* 3 the data, in this case the variable rho\n",
    "\n",
    "Once we know all this, it is straightforward to plot the data."
   ]
  },
  {
   "cell_type": "code",
   "execution_count": null,
   "metadata": {
    "collapsed": true
   },
   "outputs": [],
   "source": [
    "lin_data = np.genfromtxt(\"eta.maximum.asc\")"
   ]
  },
  {
   "cell_type": "code",
   "execution_count": null,
   "metadata": {
    "collapsed": true
   },
   "outputs": [],
   "source": [
    "lin_data"
   ]
  },
  {
   "cell_type": "code",
   "execution_count": null,
   "metadata": {
    "collapsed": true
   },
   "outputs": [],
   "source": [
    "plt.plot(lin_data[:,1],lin_data[:,2])"
   ]
  },
  {
   "cell_type": "markdown",
   "metadata": {},
   "source": [
    "Python knows how to read regularly formatted text\n",
    "files that use the # character for comments. Fortunately,\n",
    "that's what Cactus produces in its asc files."
   ]
  },
  {
   "cell_type": "code",
   "execution_count": null,
   "metadata": {
    "collapsed": true
   },
   "outputs": [],
   "source": [
    "file_data = np.genfromtxt(\"eta.xy.asc\")"
   ]
  },
  {
   "cell_type": "code",
   "execution_count": null,
   "metadata": {
    "collapsed": true
   },
   "outputs": [],
   "source": [
    "file_data"
   ]
  },
  {
   "cell_type": "code",
   "execution_count": null,
   "metadata": {
    "collapsed": true
   },
   "outputs": [],
   "source": [
    "import matplotlib.cm as cm\n",
    "# https://matplotlib.org/examples/color/colormaps_reference.html\n",
    "cmap = cm.gist_rainbow"
   ]
  },
  {
   "cell_type": "code",
   "execution_count": null,
   "metadata": {
    "collapsed": true
   },
   "outputs": [],
   "source": [
    "sets = np.unique(file_data[:,0])\n",
    "width = 8\n",
    "height = 4\n",
    "print(\"sets=\",sets)\n",
    "mn, mx = np.min(file_data[:,12]),np.max(file_data[:,12])\n",
    "for which in sets: \n",
    "    print(\"which=\",which)\n",
    "    g = file_data[file_data[:,0]==which,:]\n",
    "    x = g[:,5]\n",
    "    y = g[:,6]\n",
    "    z = g[:,12]\n",
    "    zi = z.reshape(len(np.unique(y)),len(np.unique(x)))\n",
    "    print('min/max=',np.min(zi),np.max(zi))\n",
    "    plt.figure(figsize=(width, height))\n",
    "    plt.imshow(zi[::-1,:],cmap,clim=(mn,mx))\n",
    "    plt.show()"
   ]
  },
  {
   "cell_type": "code",
   "execution_count": null,
   "metadata": {
    "collapsed": true
   },
   "outputs": [],
   "source": [
    "%ls *.h5"
   ]
  },
  {
   "cell_type": "markdown",
   "metadata": {},
   "source": [
    "<h2>Plotting HDF5 Data</h2>\n",
    "HDF5 (Hierarchical Data Format 5) is a portable binary data format. As such, it is far more efficient to read and\n",
    "write than ascii formats, and it is probably what you should normally use. Here, you can see how to read and display\n",
    "the data."
   ]
  },
  {
   "cell_type": "code",
   "execution_count": null,
   "metadata": {
    "collapsed": true
   },
   "outputs": [],
   "source": [
    "import h5py"
   ]
  },
  {
   "cell_type": "code",
   "execution_count": null,
   "metadata": {
    "collapsed": true
   },
   "outputs": [],
   "source": [
    "f5 = h5py.File(\"u.xy.h5\")\n",
    "for nm in f5:\n",
    "    if not hasattr(f5[nm],\"shape\"):\n",
    "        continue\n",
    "    print(\"nm=\",nm)\n",
    "    d=np.copy(f5[nm])\n",
    "    plt.figure()\n",
    "    plt.imshow(d[::-1,:])\n",
    "    plt.show()"
   ]
  },
  {
   "cell_type": "markdown",
   "metadata": {},
   "source": [
    "Unfortunately, each set only has one component of the plot, i.e. the part belonging to one processor. To fix this, we'll\n",
    "collect data sets belonging to an iteration and display them all together. In order to make this happen, we'll need the\n",
    "x and y values for each component of the grid."
   ]
  },
  {
   "cell_type": "code",
   "execution_count": null,
   "metadata": {
    "collapsed": true
   },
   "outputs": [],
   "source": [
    "import re"
   ]
  },
  {
   "cell_type": "code",
   "execution_count": null,
   "metadata": {
    "collapsed": true
   },
   "outputs": [],
   "source": [
    "f5x = h5py.File(\"x.xy.h5\")\n",
    "f5y = h5py.File(\"y.xy.h5\")\n",
    "x_coords = {}\n",
    "y_coords = {}\n",
    "for nm in f5x:\n",
    "    print(nm)\n",
    "    m = re.search(r'rl=.*c=\\d+',nm)\n",
    "    if m:\n",
    "        k = m.group(0)\n",
    "        x_coords[k]=np.copy(f5x[nm])\n",
    "for nm in f5y:\n",
    "    m = re.search(r'rl=.*c=\\d+',nm)\n",
    "    if m:\n",
    "        k = m.group(0)\n",
    "        y_coords[k]=np.copy(f5y[nm])"
   ]
  },
  {
   "cell_type": "code",
   "execution_count": null,
   "metadata": {
    "collapsed": true
   },
   "outputs": [],
   "source": [
    "f5 = h5py.File(\"u.xy.h5\")\n",
    "mn,mx = None,None\n",
    "\n",
    "# Compute the min and max\n",
    "for nm in f5:\n",
    "    if not hasattr(f5[nm],\"shape\"):\n",
    "        continue\n",
    "    d5 = np.copy(f5[nm])\n",
    "    tmin = np.min(d5)\n",
    "    tmax = np.max(d5)\n",
    "    if mn == None:\n",
    "        mn,mx = tmin,tmax\n",
    "    else:\n",
    "        if tmin < mn:\n",
    "            mn = tmin\n",
    "        if tmax > mx:\n",
    "            mx = tmax\n",
    "            \n",
    "# Collect all the pieces into the d5_tl dictionary\n",
    "d5_tl = {}            \n",
    "for nm in f5:\n",
    "    if not hasattr(f5[nm],\"shape\"):\n",
    "        continue\n",
    "    # Parse the string nm...\n",
    "    m = re.search(r'it=(\\d+)\\s+tl=\\d+\\s+(rl=(\\d+)\\s+c=(\\d+))',nm)\n",
    "    # group(1) is the iteration number\n",
    "    # group(2) is \"rl={number} c={number}\"\n",
    "    # group(3) is the number in \"rl={number}\"\n",
    "    # group(4) is the number in \"c={number}\"\n",
    "    grid = int(m.group(1))\n",
    "    comp = int(m.group(4))\n",
    "    k = m.group(2)\n",
    "    if grid in d5_tl:\n",
    "        d5_tl[grid][\"x\"] += [x_coords[k]] # append to the x array\n",
    "        d5_tl[grid][\"y\"] += [y_coords[k]] # append to the y array\n",
    "        d5_tl[grid][\"D\"] += [f5[nm]] # append to the data array\n",
    "    else:\n",
    "        d5_tl[grid] = {\n",
    "            \"x\":[x_coords[k]],\n",
    "            \"y\":[y_coords[k]],\n",
    "            \"D\":[f5[nm]]\n",
    "        }\n",
    "\n",
    "# Sort the keys so that we display time levels in order\n",
    "def keysetf(d):\n",
    "    a = [] # create an empty list\n",
    "    for k in d: # for each key in d\n",
    "        a.append(k) # append it to the list\n",
    "    return a\n",
    "kys = keysetf(d5_tl.keys())\n",
    "kys.sort()\n",
    "\n",
    "# Show the figures, combing data from the same time level\n",
    "for index in kys:\n",
    "    data = d5_tl[index]\n",
    "    print(\"iteration=\",index)\n",
    "    plt.figure() # put this before the plots you wish to combine\n",
    "    plt.pcolor(data[\"x\"][0],data[\"y\"][0],data[\"D\"][0],vmin=mn,vmax=mx)\n",
    "    plt.pcolor(data[\"x\"][1],data[\"y\"][1],data[\"D\"][1],vmin=mn,vmax=mx)\n",
    "    plt.show() # show the plot."
   ]
  },
  {
   "cell_type": "markdown",
   "metadata": {},
   "source": [
    "<h3>Questions and Exercises:</h3>\n",
    "\n",
    "* Run the above simulation using a single process instead of two. Do the plotting routines work? What changes did you have to make. What would you need to do to make it work with 3?\n",
    "* Run the code at 1/2 the resolution.\n",
    "* Position the Guassian wave at a different place on the grid.\n",
    "* If you wanted to change the compiler or a compiler flag, how would you go about doing that?\n",
    "* If you wanted to add another thorn to the list of thorns to compile, how would you go about doing that?\n",
    "* If you wanted to create a thornlist that would check out Cactus under the Foo directory instead of the CactusFW2 directory, how would you do it?"
   ]
  },
  {
   "cell_type": "markdown",
   "metadata": {
    "collapsed": true
   },
   "source": [
    "<table><tr><td>This work sponsored by NSF grants <a href=\"https://www.nsf.gov/awardsearch/showAward?AWD_ID=1550551\"> OAC 1550551</a> and <a href=\"https://www.nsf.gov/awardsearch/showAward?AWD_ID=1539567\"> CCF 1539567</a></td><td><img src=\"https://www.nsf.gov/awardsearch/images/common/nsf_logo_bottom.png\"></tr></table>"
   ]
  },
  {
   "cell_type": "code",
   "execution_count": null,
   "metadata": {
    "collapsed": true
   },
   "outputs": [],
   "source": []
  }
 ],
 "metadata": {
  "kernelspec": {
   "display_name": "Python 3",
   "language": "python",
   "name": "python3"
  },
  "language_info": {
   "codemirror_mode": {
    "name": "ipython",
    "version": 3
   },
   "file_extension": ".py",
   "mimetype": "text/x-python",
   "name": "python",
   "nbconvert_exporter": "python",
   "pygments_lexer": "ipython3",
   "version": "3.5.2"
  }
 },
 "nbformat": 4,
 "nbformat_minor": 2
}
