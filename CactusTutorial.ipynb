{
 "cells": [
  {
   "cell_type": "markdown",
   "metadata": {},
   "source": [
    "<h2>Introduction</h2>\n",
    "\n",
    "Here you will find a step by step guide to downloading, configuring, and running the Einstein Toolkit. You may use this tutorial on a workstation or laptop, or on a supported cluster. Configuring the Einstein Toolkit on an unsupported cluster is beyond the scope of this tutorial. If you find something that does not work, please feel free to mail users@einsteintoolkit.org."
   ]
  },
  {
   "cell_type": "markdown",
   "metadata": {},
   "source": [
    "<h2>Prerequisites</h2>\n",
    "When using the Einstein Toolkit on a laptop or workstation you will want a number of packages installed in order to download, compile and use the Einstein Toolkit components. If this is a machine which you control (i.e. you have root), you can install using one of the recipes that follow:\n",
    "\n",
    "On Mac, please first \n",
    "- Install [Xcode](https://itunes.apple.com/us/app/xcode/id497799835) from the Apple [App Store](https://itunes.apple.com/us/app/xcode/id497799835). In *addition* agree to Xcode license in Terminal \n",
    "  ```bash\n",
    "  sudo xcodebuild -license\n",
    "  ```\n",
    "- install MacPorts for your version of the Mac operating system, if you did not already install it (https://www.macports.org/install.php). \n",
    "- Next, please install the following packages, using the commands:\n",
    "```bash\n",
    "sudo port -N install pkgconfig gcc8 openmpi fftw-3 gsl jpeg zlib hdf5 +fortran +gfortran openssl ld64 +ld64_xcode\n",
    "sudo port select mpi openmpi-mp-fortran\n",
    "```\n",
    "\n",
    "On Debian/Ubuntu/Mint use this command:\n",
    "```bash\n",
    "sudo apt-get install -y subversion gcc git numactl libgsl-dev libpapi-dev python libhwloc-dev make libopenmpi-dev libhdf5-openmpi-dev libfftw3-dev libssl-dev liblapack-dev g++ curl gfortran patch pkg-config libhdf5-dev libjpeg-turbo?-dev\n",
    "```\n",
    "\n",
    "On Fedora use this command:\n",
    "```bash\n",
    "sudo dnf install -y libjpeg-turbo-devel gcc git lapack-devel make subversion gcc-c++ which papi-devel python hwloc-devel openmpi-devel hdf5-openmpi-devel openssl-devel libtool-ltdl-devel numactl-devel gcc-gfortran findutils hdf5-devel fftw-devel patch gsl-devel pkgconfig\n",
    "module load mpi/openmpi-x86_64\n",
    "```\n",
    "You will have to repeat the `module load` command each time you would like to compile or run the code.\n",
    "\n",
    "On Centos use this command:\n",
    "```bash\n",
    "sudo yum install -y epel-release\n",
    "sudo yum install -y libjpeg-turbo-devel gcc git lapack-devel make subversion gcc-c++ which papi-devel hwloc-devel openmpi-devel hdf5-openmpi-devel openssl-devel libtool-ltdl-devel numactl-devel gcc-gfortran hdf5-devel fftw-devel patch gsl-devel\n",
    "```\n",
    "\n",
    "On OpenSuse use this command:\n",
    "```bash\n",
    "sudo zypper install -y curl gcc git lapack-devel make subversion gcc-c++ which papi-devel hwloc-devel openmpi-devel libopenssl-devel libnuma-devel gcc-fortran hdf5-devel libfftw3-3 patch gsl-devel pkg-config\n",
    "```"
   ]
  },
  {
   "cell_type": "markdown",
   "metadata": {},
   "source": [
    "<h2>Download</h2>\n",
    "\n",
    "A script called GetComponents is used to fetch the components of the Einstein Toolkit. GetComponents serves as convenient wrapper around lower level tools like git and svn to download the codes that make up the Einstein toolkit from their individual repositories. You may download and make it executable as follows:"
   ]
  },
  {
   "cell_type": "markdown",
   "metadata": {},
   "source": [
    "<b>Note:</b> By default, the cells in this notebook are Python 3 commands. However, lines that begin with the ! character are run inside a bash shell. Bash commands to set environment variables or change the working directory will not work if executed with ! (their effects are forgotten immediately). Therefore, when setting the directory a special magic %cd command is used. If you wish to run these commands outside the notebook and in a bash shell, cut and paste only the characters following the initial ! or %.\n"
   ]
  },
  {
   "cell_type": "code",
   "execution_count": null,
   "metadata": {},
   "outputs": [],
   "source": [
    "%cd ~/"
   ]
  },
  {
   "cell_type": "code",
   "execution_count": null,
   "metadata": {},
   "outputs": [],
   "source": [
    "!curl -kLO https://raw.githubusercontent.com/gridaphobe/CRL/ET_2019_03/GetComponents\n",
    "!chmod a+x GetComponents"
   ]
  },
  {
   "cell_type": "markdown",
   "metadata": {},
   "source": [
    "GetComponents accepts a thorn list as an argument. To check out the needed components:"
   ]
  },
  {
   "cell_type": "code",
   "execution_count": null,
   "metadata": {},
   "outputs": [],
   "source": [
    "!./GetComponents --parallel https://bitbucket.org/einsteintoolkit/manifest/raw/ET_2019_03/einsteintoolkit.th"
   ]
  },
  {
   "cell_type": "code",
   "execution_count": null,
   "metadata": {},
   "outputs": [],
   "source": [
    "%cd ~/Cactus"
   ]
  },
  {
   "cell_type": "markdown",
   "metadata": {},
   "source": [
    "<h2>Configure and build</h2>\n",
    "\n",
    "The recommended way to compile the Einstein Toolkit is to use the Simulation Factory (\"SimFactory\").\n",
    "<h3>Configuring SimFactory for your machine</h3>\n",
    "\n",
    "The ET depends on various libraries, and needs to interact with machine-specific queueing systems and MPI implementations. As such, it needs to be configured for a given machine. For this, it uses SimFactory. Generally, configuring SimFactory means providing an optionlist, for specifying library locations and build options, a submit script for using the batch queueing system, and a runscript, for specifying how Cactus should be run, e.g. which mpirun command to use."
   ]
  },
  {
   "cell_type": "code",
   "execution_count": null,
   "metadata": {},
   "outputs": [],
   "source": [
    "!./simfactory/bin/sim setup-silent\n",
    "# If you are on Mac, uncomment and use the next line instead:\n",
    "# !./simfactory/bin/sim setup-silent --optionlist osx-macports.cfg --runscript osx-macports.run"
   ]
  },
  {
   "cell_type": "markdown",
   "metadata": {},
   "source": [
    "After this step is complete you will find your machine's default setup under ./simfactory/mdb/machines/&lt;hostname &gt;.ini\n",
    "You can edit some of these settings freely, such as \"description\", \"basedir\" etc. Some entry edits could result in simulation start-up warnings and/or errors such as \"ppn\" (processor-per-node meaning number of cores on your machine), \"num-threads\" (number of threads per core) so such edits must be done with some care."
   ]
  },
  {
   "cell_type": "markdown",
   "metadata": {},
   "source": [
    "<h2>Building the Einstein Toolkit</h2>\n",
    "\n",
    "Assuming that SimFactory has been successfully set up on your machine, you should be able to build the Einstein Toolkit with the command below. The option \"--mdbkey make 'make -j2'\" sets the make command that will be used by the script. The number used is the number of processors used when building. Even in parallel, this step may take a while, as it compiles all the thorns specified in manifest/einsteintoolkit.th.\n",
    "\n",
    "Note that the \"cat\" command on the end of the line is to prevent problems with the display in Jupyter when output comes from multiple threads.\n",
    "\n",
    "Note: Using too many threads to compile on the test machine may result in compiler failures."
   ]
  },
  {
   "cell_type": "code",
   "execution_count": null,
   "metadata": {},
   "outputs": [],
   "source": [
    "!./simfactory/bin/sim build --mdbkey make 'make -j1' --thornlist ../einsteintoolkit.th | cat"
   ]
  },
  {
   "cell_type": "markdown",
   "metadata": {},
   "source": [
    "<h2>Running a simple example</h2>\n",
    "\n",
    "You can now run the Einstein Toolkit with a simple test parameter file."
   ]
  },
  {
   "cell_type": "code",
   "execution_count": null,
   "metadata": {},
   "outputs": [],
   "source": [
    "!./simfactory/bin/sim create-submit helloworld \\\n",
    "    --parfile arrangements/CactusExamples/HelloWorld/par/HelloWorld.par --walltime 0:5:0"
   ]
  },
  {
   "cell_type": "markdown",
   "metadata": {},
   "source": [
    "The above command will submit the simulation to the queue naming it \"helloworld\" and ask for a 5 minutes long job time, if you are running on a cluster, or run it immediately in the background if you are on a personal laptop or workstation. You can check the status of the simulation with the command below. You can run this command repeatedly until the job shows <pre>[ACTIVE (FINISHED)...</pre> as it's state. Prior to that, it may show up as QUEUED or RUNNING."
   ]
  },
  {
   "cell_type": "code",
   "execution_count": null,
   "metadata": {},
   "outputs": [],
   "source": [
    "!simfactory/bin/sim list-simulations helloworld"
   ]
  },
  {
   "cell_type": "markdown",
   "metadata": {},
   "source": [
    "Once it finished you can look at the output with the command below."
   ]
  },
  {
   "cell_type": "code",
   "execution_count": null,
   "metadata": {},
   "outputs": [],
   "source": [
    "!simfactory/bin/sim show-output helloworld "
   ]
  },
  {
   "cell_type": "markdown",
   "metadata": {},
   "source": [
    "If you see <pre>INFO (HelloWorld): Hello World!</pre> anywhere in the above output, then congratulations, you have successfully downloaded, compiled and run the Einstein Toolkit! You may now want to try some of the other tutorials to explore some interesting physics examples."
   ]
  },
  {
   "cell_type": "markdown",
   "metadata": {},
   "source": [
    "<h2>Running single star simulation</h2>\n",
    "\n",
    "What follows is the much more computationally intensive example of simulating a static TOV star. Just below this cell you can see the contents of a Cactus parameter file to simulate a single, spherical symmetric star using the Einstein Toolkit. The parameter file has been set up to run to completion in about 10 minutes, making it useful for a tutorial but too coarsely resolved to do science with it."
   ]
  },
  {
   "cell_type": "code",
   "execution_count": null,
   "metadata": {},
   "outputs": [],
   "source": [
    "%%writefile par/tov_ET.par\n",
    "# Example parameter file for a static TOV star. Everything is evolved, but\n",
    "# because this is a solution to the GR and hydro equations, nothing changes\n",
    "# much. What can be seen is the initial perturbation (due to numerical errors)\n",
    "# ringing down (look at the density maximum), and later numerical errors\n",
    "# governing the solution. Try higher resolutions to decrease this error.\n",
    "\n",
    "# Some basic stuff\n",
    "ActiveThorns = \"Time MoL\"\n",
    "ActiveThorns = \"Coordbase CartGrid3d Boundary StaticConformal\"\n",
    "ActiveThorns = \"SymBase ADMBase TmunuBase HydroBase InitBase ADMCoupling ADMMacros\"\n",
    "ActiveThorns = \"IOUtil\"\n",
    "ActiveThorns = \"Formaline\"\n",
    "ActiveThorns = \"SpaceMask CoordGauge Constants LocalReduce aeilocalinterp LoopControl\"\n",
    "ActiveThorns = \"Carpet CarpetLib CarpetReduce CarpetRegrid2 CarpetInterp\"\n",
    "ActiveThorns = \"CarpetIOASCII CarpetIOScalar CarpetIOHDF5 CarpetIOBasic\"\n",
    "\n",
    "# Finalize\n",
    "Cactus::terminate           = \"time\"\n",
    "Cactus::cctk_final_time     = 400 #800 # divide by ~203 to get ms\n",
    "\n",
    "# Termination Trigger\n",
    "ActiveThorns = \"TerminationTrigger\"\n",
    "TerminationTrigger::max_walltime = 24          # hours\n",
    "TerminationTrigger::on_remaining_walltime = 0  # minutes\n",
    "TerminationTrigger::check_file_every = 512\n",
    "TerminationTrigger::termination_file = \"TerminationTrigger.txt\"\n",
    "TerminationTrigger::termination_from_file   = \"yes\"\n",
    "TerminationTrigger::create_termination_file = \"yes\"\n",
    "\n",
    "# grid parameters\n",
    "Carpet::domain_from_coordbase = \"yes\"\n",
    "CartGrid3D::type         = \"coordbase\"\n",
    "CartGrid3D::domain       = \"full\"\n",
    "CartGrid3D::avoid_origin = \"no\"\n",
    "CoordBase::xmin =  0.0\n",
    "CoordBase::ymin =  0.0\n",
    "CoordBase::zmin =  0.0\n",
    "CoordBase::xmax = 24.0\n",
    "CoordBase::ymax = 24.0\n",
    "CoordBase::zmax = 24.0\n",
    "# Change these parameters to change resolution. The ?max settings above\n",
    "# have to be multiples of these. 'dx' is the size of one cell in x-direction.\n",
    "# Making this smaller means using higher resolution, because more points will\n",
    "# be used to cover the same space.\n",
    "CoordBase::dx   =   2.0\n",
    "CoordBase::dy   =   2.0\n",
    "CoordBase::dz   =   2.0\n",
    "\n",
    "CarpetRegrid2::regrid_every =   0\n",
    "CarpetRegrid2::num_centres  =   1\n",
    "CarpetRegrid2::num_levels_1 =   2\n",
    "CarpetRegrid2::radius_1[1]  = 12.0\n",
    "\n",
    "\n",
    "CoordBase::boundary_size_x_lower        = 3\n",
    "CoordBase::boundary_size_y_lower        = 3\n",
    "CoordBase::boundary_size_z_lower        = 3\n",
    "CoordBase::boundary_size_x_upper        = 3\n",
    "CoordBase::boundary_size_y_upper        = 3\n",
    "CoordBase::boundary_size_z_upper        = 3\n",
    "CoordBase::boundary_shiftout_x_lower    = 1\n",
    "CoordBase::boundary_shiftout_y_lower    = 1\n",
    "CoordBase::boundary_shiftout_z_lower    = 1\n",
    "CoordBase::boundary_shiftout_x_upper    = 0\n",
    "CoordBase::boundary_shiftout_y_upper    = 0\n",
    "CoordBase::boundary_shiftout_z_upper    = 0\n",
    "\n",
    "\n",
    "ActiveThorns = \"ReflectionSymmetry\"\n",
    "\n",
    "ReflectionSymmetry::reflection_x = \"yes\"\n",
    "ReflectionSymmetry::reflection_y = \"yes\"\n",
    "ReflectionSymmetry::reflection_z = \"yes\"\n",
    "ReflectionSymmetry::avoid_origin_x = \"no\"\n",
    "ReflectionSymmetry::avoid_origin_y = \"no\"\n",
    "ReflectionSymmetry::avoid_origin_z = \"no\"\n",
    "\n",
    "# storage and coupling\n",
    "TmunuBase::stress_energy_storage = yes\n",
    "TmunuBase::stress_energy_at_RHS  = yes\n",
    "TmunuBase::timelevels            =  1\n",
    "TmunuBase::prolongation_type     = none\n",
    "\n",
    "\n",
    "HydroBase::timelevels            = 3\n",
    "\n",
    "ADMMacros::spatial_order = 4\n",
    "\n",
    "SpaceMask::use_mask      = \"yes\"\n",
    "\n",
    "Carpet::enable_all_storage       = no\n",
    "Carpet::use_buffer_zones         = \"yes\"\n",
    "\n",
    "Carpet::poison_new_timelevels    = \"yes\"\n",
    "Carpet::check_for_poison         = \"no\"\n",
    "\n",
    "Carpet::init_3_timelevels        = no\n",
    "Carpet::init_fill_timelevels     = \"yes\"\n",
    "\n",
    "CarpetLib::poison_new_memory = \"yes\"\n",
    "CarpetLib::poison_value      = 114\n",
    "\n",
    "# system specific Carpet paramters\n",
    "Carpet::max_refinement_levels    = 10\n",
    "driver::ghost_size               = 3\n",
    "Carpet::prolongation_order_space = 3\n",
    "Carpet::prolongation_order_time  = 2\n",
    "\n",
    "# Time integration\n",
    "time::dtfac = 0.25\n",
    "\n",
    "MoL::ODE_Method             = \"rk4\"\n",
    "MoL::MoL_Intermediate_Steps = 4\n",
    "MoL::MoL_Num_Scratch_Levels = 1\n",
    "\n",
    "# check all physical variables for NaNs\n",
    "#  This can save you computing time, so it's not a bad idea to do this\n",
    "#  once in a whioe.\n",
    "ActiveThorns = \"NaNChecker\"\n",
    "NaNChecker::check_every = 16384\n",
    "NaNChecker::action_if_found = \"terminate\" #\"terminate\", \"just warn\", \"abort\"\n",
    "NaNChecker::check_vars = \"ADMBase::metric ADMBase::lapse ADMBase::shift HydroBase::rho HydroBase::eps HydroBase::press HydroBase::vel\"\n",
    "\n",
    "# Hydro paramters\n",
    "\n",
    "ActiveThorns = \"EOS_Omni GRHydro\"\n",
    "\n",
    "HydroBase::evolution_method      = \"GRHydro\"\n",
    "\n",
    "GRHydro::riemann_solver            = \"HLLE\"\n",
    "GRHydro::GRHydro_eos_type          = \"General\"\n",
    "GRHydro::GRHydro_eos_table         = \"Ideal_Fluid\"\n",
    "GRHydro::recon_method              = \"ppm\"\n",
    "GRHydro::GRHydro_stencil            = 3\n",
    "GRHydro::bound                     = \"none\"\n",
    "GRHydro::rho_abs_min               = 1.e-10\n",
    "GRHydro::GRHydro_atmo_tolerance    = 1.e-3\n",
    "GRHydro::sources_spatial_order     = 4\n",
    "\n",
    "# Curvature evolution parameters\n",
    "\n",
    "ActiveThorns = \"GenericFD NewRad\"\n",
    "ActiveThorns = \"ML_BSSN ML_BSSN_Helper\"\n",
    "ADMBase::evolution_method        = \"ML_BSSN\"\n",
    "ADMBase::lapse_evolution_method  = \"ML_BSSN\"\n",
    "ADMBase::shift_evolution_method  = \"ML_BSSN\"\n",
    "ADMBase::dtlapse_evolution_method= \"ML_BSSN\"\n",
    "ADMBase::dtshift_evolution_method= \"ML_BSSN\"\n",
    "\n",
    "ML_BSSN::timelevels = 3\n",
    "\n",
    "ML_BSSN::harmonicN           = 1      # 1+log\n",
    "ML_BSSN::harmonicF           = 2.0    # 1+log\n",
    "ML_BSSN::ShiftBCoeff         = 1\n",
    "ML_BSSN::ShiftGammaCoeff     = 0.75\n",
    "ML_BSSN::BetaDriver          = 2.66\n",
    "ML_BSSN::LapseAdvectionCoeff = 0.0\n",
    "ML_BSSN::ShiftAdvectionCoeff = 0.0\n",
    "\n",
    "ML_BSSN::my_initial_boundary_condition = \"extrapolate-gammas\"\n",
    "ML_BSSN::my_rhs_boundary_condition     = \"NewRad\"\n",
    "\n",
    "# Some dissipation to get rid of high-frequency noise\n",
    "ActiveThorns = \"SphericalSurface Dissipation\"\n",
    "Dissipation::verbose   = \"no\"\n",
    "Dissipation::epsdis   = 0.01\n",
    "Dissipation::vars = \"\n",
    "        ML_BSSN::ML_log_confac\n",
    "        ML_BSSN::ML_metric\n",
    "        ML_BSSN::ML_curv\n",
    "        ML_BSSN::ML_trace_curv\n",
    "        ML_BSSN::ML_Gamma\n",
    "        ML_BSSN::ML_lapse\n",
    "        ML_BSSN::ML_shift\n",
    "\"\n",
    "\n",
    "\n",
    "# init parameters\n",
    "InitBase::initial_data_setup_method = \"init_some_levels\"\n",
    "\n",
    "# Use TOV as initial data\n",
    "ActiveThorns = \"TOVSolver\"\n",
    "\n",
    "HydroBase::initial_hydro         = \"tov\"\n",
    "ADMBase::initial_data            = \"tov\"\n",
    "ADMBase::initial_lapse           = \"tov\"\n",
    "ADMBase::initial_shift           = \"tov\"\n",
    "ADMBase::initial_dtlapse         = \"zero\"\n",
    "ADMBase::initial_dtshift         = \"zero\"\n",
    "\n",
    "# Parameters for initial star\n",
    "TOVSolver::TOV_Rho_Central[0] = 1.28e-3\n",
    "TOVSolver::TOV_Gamma          = 2\n",
    "TOVSolver::TOV_K              = 100\n",
    "\n",
    "# Set equation of state for evolution\n",
    "EOS_Omni::poly_gamma                   = 2\n",
    "EOS_Omni::poly_k                       = 100\n",
    "EOS_Omni::gl_gamma                     = 2\n",
    "EOS_Omni::gl_k                         = 100\n",
    "\n",
    "# I/O\n",
    "\n",
    "cactus::cctk_timer_output = \"full\"\n",
    "\n",
    "# Use (create if necessary) an output directory named like the\n",
    "# parameter file (minus the .par)\n",
    "IO::out_dir             = ${parfile}\n",
    "\n",
    "# Write one file overall per output (variable/group)\n",
    "# In production runs, comment this or set to \"proc\" to get one file\n",
    "# per MPI process\n",
    "# RH: 2018-02-10 disable until ticket is addressed: https://trac.einsteintoolkit.org/ticket/2117\n",
    "#IO::out_mode            = \"onefile\"\n",
    "\n",
    "# Some screen output\n",
    "IOBasic::outInfo_every = 512\n",
    "IOBasic::outInfo_vars  = \"Carpet::physical_time_per_hour HydroBase::rho{reductions='maximum'}\"\n",
    "\n",
    "# Scalar output\n",
    "IOScalar::outScalar_every    = 512\n",
    "IOScalar::one_file_per_group = \"yes\"\n",
    "IOScalar::outScalar_reductions = \"norm1 norm2 norm_inf sum maximum minimum\"\n",
    "IOScalar::outScalar_vars     = \"\n",
    " HydroBase::rho{reductions='maximum'}\n",
    " HydroBase::press{reductions='maximum'}\n",
    " HydroBase::eps{reductions='minimum maximum'}\n",
    " HydroBase::vel{reductions='minimum maximum'}\n",
    " HydroBase::w_lorentz{reductions='minimum maximum'}\n",
    " ADMBase::lapse{reductions='minimum maximum'}\n",
    " ADMBase::shift{reductions='minimum maximum'}\n",
    " ML_BSSN::ML_Ham{reductions='norm1 norm2 maximum minimum norm_inf'}\n",
    " ML_BSSN::ML_mom{reductions='norm1 norm2 maximum minimum norm_inf'}\n",
    " GRHydro::dens{reductions='minimum maximum sum'}\n",
    " Carpet::timing{reductions='average'}\n",
    "\"\n",
    "\n",
    "# 1D ASCII output. Disable for production runs!\n",
    "IOASCII::out1D_every        = 2048\n",
    "IOASCII::one_file_per_group = yes\n",
    "IOASCII::output_symmetry_points = no\n",
    "IOASCII::out1D_vars         = \"\n",
    " HydroBase::rho\n",
    " HydroBase::press\n",
    " HydroBase::eps\n",
    " HydroBase::vel\n",
    " ADMBase::lapse\n",
    " ADMBase::metric\n",
    " ADMBase::curv\n",
    " ML_BSSN::ML_Ham\n",
    " ML_BSSN::ML_mom\n",
    "\"\n",
    "\n",
    "# 2D HDF5 output\n",
    "CarpetIOHDF5::output_buffer_points = \"no\"\n",
    "\n",
    "CarpetIOHDF5::out2D_every = 2048\n",
    "CarpetIOHDF5::out2D_vars = \"\n",
    " HydroBase::rho\n",
    " HydroBase::eps\n",
    " HydroBase::vel\n",
    " HydroBase::w_lorentz\n",
    " ADMBase::lapse\n",
    " ADMBase::shift\n",
    " ADMBase::metric\n",
    " ML_BSSN::ML_Ham\n",
    " ML_BSSN::ML_mom\n",
    " \"\n",
    "\n",
    "# Checkpointing options\n",
    "IOHDF5::checkpoint                  = \"no\" # disable checkpointing on tutorial server\n",
    "IO::checkpoint_dir                  = $parfile\n",
    "IO::recover_dir                     = $parfile\n",
    "IO::recover                         = \"autoprobe\"\n",
    "IO::checkpoint_ID                   = \"yes\"\n",
    "IO::checkpoint_every                = 1048576\n",
    "IO::checkpoint_keep                 = 3\n",
    "IO::checkpoint_on_terminate         = \"yes\"\n",
    "\n",
    "# Enable to get detailed timing information\n",
    "#ActiveThorns = \"TimerReport\"\n",
    "#TimerReport::out_every    = 1024\n",
    "#TimerReport::out_filename = \"TimerReport\"\n",
    "#TimerReport::output_all_timers_readable = \"yes\"\n",
    "#TimerReport::output_all_timers = \"yes\"\n",
    "\n",
    "# Enable for profiling\n",
    "#Carpet::output_timers_every = 1024"
   ]
  },
  {
   "cell_type": "code",
   "execution_count": null,
   "metadata": {},
   "outputs": [],
   "source": [
    "# start simulation, watch log output\n",
    "!./simfactory/bin/sim create-run tov_ET \\\n",
    "  --parfile=par/tov_ET.par --procs=2 --num-threads=1 --walltime=0:20:0"
   ]
  },
  {
   "cell_type": "markdown",
   "metadata": {},
   "source": [
    "<h2>Plotting the Output</h2>\n",
    "\n",
    "The following commands will generate a simple line plot of the data. They will work in a python script as easily as they do in the notebook (just remove the \"%matplotlib inline\" directive)."
   ]
  },
  {
   "cell_type": "code",
   "execution_count": null,
   "metadata": {},
   "outputs": [],
   "source": [
    "# This cell enables inline plotting in the notebook\n",
    "%matplotlib inline\n",
    "\n",
    "import matplotlib\n",
    "import numpy as np\n",
    "import matplotlib.pyplot as plt"
   ]
  },
  {
   "cell_type": "markdown",
   "metadata": {},
   "source": [
    "Numpy has a routine called genfromtxt() which is an extremely efficient reader of textual arrays of floating point numbers. This is well-suited to Cactus .asc files."
   ]
  },
  {
   "cell_type": "code",
   "execution_count": null,
   "metadata": {},
   "outputs": [],
   "source": [
    "import os\n",
    "home = os.environ[\"HOME\"]\n",
    "lin_data = np.genfromtxt(home+\"/simulations/tov_ET/output-0000/tov_ET/hydrobase-rho.maximum.asc\")"
   ]
  },
  {
   "cell_type": "markdown",
   "metadata": {},
   "source": [
    "This is all you need to do to plot the data once you've loaded it. Note, this uses Python array notation to grab columns 1 and 2 of the data file."
   ]
  },
  {
   "cell_type": "code",
   "execution_count": null,
   "metadata": {},
   "outputs": [],
   "source": [
    "plt.plot(lin_data[:,1],lin_data[:,2])"
   ]
  },
  {
   "cell_type": "code",
   "execution_count": null,
   "metadata": {},
   "outputs": [],
   "source": []
  }
 ],
 "metadata": {
  "kernelspec": {
   "display_name": "Python 3",
   "language": "python",
   "name": "python3"
  },
  "language_info": {
   "codemirror_mode": {
    "name": "ipython",
    "version": 3
   },
   "file_extension": ".py",
   "mimetype": "text/x-python",
   "name": "python",
   "nbconvert_exporter": "python",
   "pygments_lexer": "ipython3",
   "version": "3.5.3"
  }
 },
 "nbformat": 4,
 "nbformat_minor": 2
}
