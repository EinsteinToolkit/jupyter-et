{
 "cells": [
  {
   "cell_type": "markdown",
   "metadata": {},
   "source": [
    "# Hyperbolic PDEs"
   ]
  },
  {
   "cell_type": "markdown",
   "metadata": {},
   "source": [
    "Most formulations of the Einstein equations for the spacetime (with $c=1$) look roughly like *wave equations*\n",
    "\n",
    "$$\n",
    "\\frac{\\partial^2 \\phi}{\\partial t^2} = \\nabla^2 \\phi.\n",
    "$$\n",
    "\n",
    "We will focus on the simple $1+1$d case\n",
    "\n",
    "$$\n",
    "\\frac{\\partial^2 \\phi}{\\partial t^2} = \\frac{\\partial^2 \\phi}{\\partial x^2}.\n",
    "$$\n",
    "\n",
    "For numerical evolution we either write this as first order in time,\n",
    "\n",
    "$$\n",
    "\\frac{\\partial}{\\partial t} \\begin{pmatrix} \\phi \\\\ \\phi_t \\end{pmatrix} = \\begin{pmatrix} \\phi_t \\\\ 0 \\end{pmatrix} + \\frac{\\partial^2}{\\partial x^2} \\begin{pmatrix} 0 \\\\ \\phi \\end{pmatrix},\n",
    "$$\n",
    "\n",
    "or as first order in time *and* space\n",
    "\n",
    "$$\n",
    "\\frac{\\partial}{\\partial t} \\begin{pmatrix} \\phi \\\\ \\phi_t \\\\ \\phi_x \\end{pmatrix} = \\begin{pmatrix} \\phi_t \\\\ 0 \\\\ 0 \\end{pmatrix} + \\frac{\\partial}{\\partial x} \\begin{pmatrix} 0 \\\\ \\phi_x \\\\ \\phi_t \\end{pmatrix}.\n",
    "$$\n",
    "\n",
    "We will first focus on the first order form, written as\n",
    "\n",
    "$$\n",
    "\\partial_t {\\bf u} = {\\bf s} + \\partial_x {\\bf f}({\\bf u}).\n",
    "$$"
   ]
  },
  {
   "cell_type": "markdown",
   "metadata": {},
   "source": [
    "## Method of Lines"
   ]
  },
  {
   "cell_type": "markdown",
   "metadata": {},
   "source": [
    "We have already used our finite difference approximations to replace partial derivatives (usually in space) with discrete approximations. We could use finite difference approximations directly here, replacing both time and space derivatives. However, an alternative approach is standard in Numerical Relativity.\n",
    "\n",
    "First we put down a grid *in space* $\\{ x_i \\}$ for which we have values $\\{ {\\bf u}_i \\}$. All these values can be thought of as one large vector ${\\bf U}$. Now, on this grid we can use our finite difference approximation to replace the partial derivatives in space, which we write in discrete operator form as\n",
    "\n",
    "$$\n",
    "  \\partial_x {\\bf f}({\\bf u}) \\to L({\\bf U}).\n",
    "$$\n",
    "\n",
    "The operator takes the discrete values $\\{ {\\bf u}_i \\}$ and combines them, using the finite differencing formulas, to approximate the partial derivative required.\n",
    "\n",
    "This means we have converted the original *partial* differential equation to the system of *ordinary* differential equation\n",
    "\n",
    "$$\n",
    "  \\frac{d}{d t} {\\bf U} = {\\bf s}({\\bf U}) + L({\\bf U}) = {\\bf F}({\\bf U}).\n",
    "$$\n",
    "\n",
    "We can then solve this ODE as an initial value problem by specifying\n",
    "the state of the system ${\\bf U}$ at some time $t_0$ and evolve forward in time."
   ]
  },
  {
   "cell_type": "markdown",
   "metadata": {},
   "source": [
    "### (Dis)advantages"
   ]
  },
  {
   "cell_type": "markdown",
   "metadata": {},
   "source": [
    "The Method of Lines (MoL) allows for minimally-coupled physical systems, such as GRMHD, to be split up into multiple pieces, which can be more easily tested, with a broader variety of numerical methods applied, and more straightforwardly have their stability checked.\n",
    "\n",
    "However, it is typical that numerical methods that use MoL cannot easily take advantage of all the physical information in the system, may require smaller timesteps, may be less efficient, and may have less accuracy. Before worrying about this too much, check whether your time (in implementing a more efficient method) is worth less than the computer's (which will do the extra computation)."
   ]
  },
  {
   "cell_type": "markdown",
   "metadata": {},
   "source": [
    "### Runge-Kutta methods"
   ]
  },
  {
   "cell_type": "markdown",
   "metadata": {},
   "source": [
    "When looking at central differencing earlier we used information from both sides of the point where we took the derivative. This gives higher accuracy, but isn't helpful in the initial value case, where we don't have half the information.\n",
    "\n",
    "The simplest approach is to use the forward Euler method\n",
    "$$\n",
    "  {\\bf U}^{(i+1)} = {\\bf U}^{(i)} + \\Delta t \\,{\\bf F}\\left ({\\bf U}^{(i)}\\right ).\n",
    "$$\n",
    "\n",
    "However, this is very inaccurate. Fortunately, higher order methods can be constructed with multiple Euler steps as building blocks. Each one gives an approximation to \"future\" data, which can be used to approximate the derivative at more locations.\n",
    "\n",
    "For example, the Euler step above starts from ${\\bf U}^{(i)}$ and computes ${\\bf F}\\left ({\\bf U}^{(i)}\\right )$ to approximate ${\\bf U}^{(i+1)}$. We can use this approximation to give us ${\\bf F}\\left ({\\bf U}^{(i+1)}\\right)$.\n",
    "\n",
    "Now, a more accurate solution would be\n",
    "\n",
    "$$\n",
    "  {\\bf U}^{(i+1)} = {\\bf U}^{(i)} + \\int_{t_i}^{t_{i+1}} \\text{d} t \\,F\\left ({\\bf U}^{(i)}\\right ).\n",
    "$$\n",
    "\n",
    "In Euler's method we are effectively representing the value of the integral by the value of the integrand at the start, multiplied by the width $\\Delta t$. We could now approximate it by the *average* value of the integrand, $\\left ({\\bf F}^{(i)} + {\\bf F}^{(i+1)}\\right )/2$, multiplied by the width $\\Delta t$. This gives the algorithm\n",
    "\n",
    "\\begin{align}\n",
    "  {\\bf U}^{(p)} &= {\\bf U}^{(i)} + \\Delta t\\, {\\bf F}\\left ({\\bf U}^{(i)}\\right ), \\\\\n",
    "  {\\bf U}^{(i+1)} &= {\\bf U}^{(i)} + \\frac{\\Delta t}{2} \\left( {\\bf F}\\left ({\\bf U}^{(i)}\\right ) + {\\bf F}\\left ({\\bf U}^{(p)}\\right ) \\right) \\\\\n",
    "  &= \\frac{1}{2} \\left( {\\bf U}^{(i)} + {\\bf U}^{(p)} + \\Delta t \\, {\\bf F}\\left({\\bf U}^{(p)}\\right ) \\right).\n",
    "\\end{align}\n",
    "\n",
    "The final re-arrangement ensures we do not have to store or re-compute ${\\bf F}^{(i)}$. This is one of the *Runge-Kutta* methods. This version is second order accurate, and a big improvement over Euler's method."
   ]
  },
  {
   "cell_type": "markdown",
   "metadata": {},
   "source": [
    "# Implementation"
   ]
  },
  {
   "cell_type": "code",
   "execution_count": null,
   "metadata": {
    "collapsed": true
   },
   "outputs": [],
   "source": [
    "import numpy\n",
    "from matplotlib import pyplot\n",
    "%matplotlib notebook"
   ]
  },
  {
   "cell_type": "markdown",
   "metadata": {},
   "source": [
    "We start by implementing the right-hand-side of the evolution: the source term, and the term corresponding to the partial derivative in space:"
   ]
  },
  {
   "cell_type": "code",
   "execution_count": null,
   "metadata": {
    "collapsed": true
   },
   "outputs": [],
   "source": [
    "def RHS(U, dx):\n",
    "    \"\"\"\n",
    "    RHS term.\n",
    "    \n",
    "    Parameters\n",
    "    ----------\n",
    "    \n",
    "    U : array\n",
    "        contains [phi, phi_t, phi_x] at each point\n",
    "    dx : double\n",
    "        grid spacing\n",
    "        \n",
    "    Returns\n",
    "    -------\n",
    "    \n",
    "    dUdt : array\n",
    "        contains the required time derivatives\n",
    "    \"\"\"\n",
    "    \n",
    "    phi = U[0, :]\n",
    "    phi_t = U[1, :]\n",
    "    phi_x = U[2, :]\n",
    "    \n",
    "    dUdt = numpy.zeros_like(U)\n",
    "    \n",
    "    dUdt[0, :] = phi_t\n",
    "    dUdt[1, 1:-1] = 1.0 / (2.0*dx)*(phi_x[2:] - phi_x[:-2])\n",
    "    dUdt[2, 1:-1] = 1.0 / (2.0*dx)*(phi_t[2:] - phi_t[:-2])\n",
    "    \n",
    "    return dUdt"
   ]
  },
  {
   "cell_type": "markdown",
   "metadata": {},
   "source": [
    "We see that this doesn't give us the update term at the edges of the domain. We'll enforce that the domain is *periodic* as a simple boundary condition. Usually this would be an outgoing wave type boundary condition, but anything that fixes the update term at the boundary is fine."
   ]
  },
  {
   "cell_type": "code",
   "execution_count": null,
   "metadata": {
    "collapsed": true
   },
   "outputs": [],
   "source": [
    "def apply_boundaries(dUdt):\n",
    "    \"\"\"\n",
    "    Periodic boundaries\n",
    "    \"\"\"\n",
    "    \n",
    "    dUdt[:, 0] = dUdt[:, -2]\n",
    "    dUdt[:, -1] = dUdt[:, 1]\n",
    "    \n",
    "    return dUdt"
   ]
  },
  {
   "cell_type": "markdown",
   "metadata": {},
   "source": [
    "Then we fix the grid. To work with the periodic domain we need to stagger the grid away from the boundaries. We'll fix the domain to be $x \\in [-1, 1]$:"
   ]
  },
  {
   "cell_type": "code",
   "execution_count": null,
   "metadata": {
    "collapsed": true
   },
   "outputs": [],
   "source": [
    "def grid(Npoints):\n",
    "    \"\"\"\n",
    "    Npoints is the number of interior points\n",
    "    \"\"\"\n",
    "    \n",
    "    dx = 2.0 / Npoints\n",
    "    return dx, numpy.linspace(-1.0-dx/2.0, 1.0+dx/2.0, Npoints+2)"
   ]
  },
  {
   "cell_type": "markdown",
   "metadata": {},
   "source": [
    "We take the RK2 method from earlier. This will take only one step but requires two RHS evaluations."
   ]
  },
  {
   "cell_type": "code",
   "execution_count": null,
   "metadata": {
    "collapsed": true
   },
   "outputs": [],
   "source": [
    "def RK2_step(U, RHS, apply_boundaries, dt, dx):\n",
    "    \"\"\"\n",
    "    RK2 method\n",
    "    \"\"\"\n",
    "\n",
    "    rhs = RHS(U, dx)\n",
    "    rhs = apply_boundaries(rhs)\n",
    "    Up = U + dt * rhs\n",
    "    rhs_p = RHS(Up, dx)\n",
    "    rhs_p = apply_boundaries(rhs_p)\n",
    "    Unew = 0.5 * (U + Up + dt * rhs_p)\n",
    "        \n",
    "    return Unew"
   ]
  },
  {
   "cell_type": "markdown",
   "metadata": {},
   "source": [
    "There are only two things we need to fix. One is the timestep. For now, we'll set it to $\\Delta t = \\Delta x / 4$. The second is the initial data. We will choose the initial data to be a time symmetric gaussian,\n",
    "\n",
    "$$\n",
    "\\phi(0, x) = \\exp \\left( -20 x^2 \\right), \\qquad \\partial_t \\phi (0, x) = 0,\n",
    "$$\n",
    "\n",
    "which implies\n",
    "\n",
    "$$\n",
    "\\partial_x \\phi(0, x) = -40 x \\exp \\left( -20 x^2 \\right).\n",
    "$$"
   ]
  },
  {
   "cell_type": "code",
   "execution_count": null,
   "metadata": {
    "collapsed": true
   },
   "outputs": [],
   "source": [
    "def initial_data(x):\n",
    "    \"\"\"\n",
    "    Set the initial data. x are the coordinates. U (phi, phi_t, phi_x) are the variables.\n",
    "    \"\"\"\n",
    "    \n",
    "    U = numpy.zeros((3, len(x)))\n",
    "    U[0, :] = numpy.exp(-20.0 * x**2)\n",
    "    U[2, :] = -40.0*x*numpy.exp(-20.0 * x**2)\n",
    "    \n",
    "    return U"
   ]
  },
  {
   "cell_type": "markdown",
   "metadata": {},
   "source": [
    "Now we can evolve:"
   ]
  },
  {
   "cell_type": "code",
   "execution_count": null,
   "metadata": {
    "collapsed": true
   },
   "outputs": [],
   "source": [
    "Npoints = 50\n",
    "dx, x = grid(Npoints)\n",
    "dt = dx / 4\n",
    "U0 = initial_data(x)\n",
    "U = initial_data(x)\n",
    "Nsteps = int(1.0 / dt)\n",
    "for n in range(Nsteps):\n",
    "    U = RK2_step(U, RHS, apply_boundaries, dt, dx)"
   ]
  },
  {
   "cell_type": "code",
   "execution_count": null,
   "metadata": {},
   "outputs": [],
   "source": [
    "pyplot.figure()\n",
    "pyplot.plot(x, U0[0, :], 'b--', label=\"Initial data\")\n",
    "pyplot.plot(x, U[0, :], 'k-', label=r\"$t=1$\")\n",
    "pyplot.xlabel(r\"$x$\")\n",
    "pyplot.ylabel(r\"$\\phi$\")\n",
    "pyplot.xlim(-1, 1)\n",
    "pyplot.legend()\n",
    "pyplot.show()"
   ]
  },
  {
   "cell_type": "markdown",
   "metadata": {},
   "source": [
    "We can see the expected behaviour: the initial data splits into two pulses that propagate in opposite directions. With periodic boundary conditions, we can evolve to $t=2$ and we should get the initial data back again:"
   ]
  },
  {
   "cell_type": "code",
   "execution_count": null,
   "metadata": {},
   "outputs": [],
   "source": [
    "Npoints = 50\n",
    "dx, x = grid(Npoints)\n",
    "dt = dx / 4\n",
    "U0 = initial_data(x)\n",
    "U = initial_data(x)\n",
    "Nsteps = int(2.0 / dt)\n",
    "for n in range(Nsteps):\n",
    "    U = RK2_step(U, RHS, apply_boundaries, dt, dx)\n",
    "    \n",
    "pyplot.figure()\n",
    "pyplot.plot(x, U0[0, :], 'b--', label=\"Initial data\")\n",
    "pyplot.plot(x, U[0, :], 'k-', label=r\"$t=2$\")\n",
    "pyplot.xlabel(r\"$x$\")\n",
    "pyplot.ylabel(r\"$\\phi$\")\n",
    "pyplot.xlim(-1, 1)\n",
    "pyplot.legend()\n",
    "pyplot.show()"
   ]
  },
  {
   "cell_type": "markdown",
   "metadata": {},
   "source": [
    "#### Animations"
   ]
  },
  {
   "cell_type": "code",
   "execution_count": null,
   "metadata": {
    "collapsed": true
   },
   "outputs": [],
   "source": [
    "from matplotlib import animation\n",
    "import matplotlib\n",
    "matplotlib.rcParams['animation.html'] = 'html5'"
   ]
  },
  {
   "cell_type": "code",
   "execution_count": null,
   "metadata": {},
   "outputs": [],
   "source": [
    "Npoints = 50\n",
    "dx, x = grid(Npoints)\n",
    "dt = dx / 4\n",
    "U0 = initial_data(x)\n",
    "U = initial_data(x)\n",
    "Nsteps = int(2.0 / dt)\n",
    "Uframes = numpy.zeros((Nsteps+1,3,Npoints+2))\n",
    "Uframes[0,:,:] = U0\n",
    "for n in range(Nsteps):\n",
    "    U = RK2_step(U, RHS, apply_boundaries, dt, dx)\n",
    "    Uframes[n+1,:,:] = U\n",
    "    \n",
    "fig = pyplot.figure(figsize=(8,5))\n",
    "ax = pyplot.axes(xlim=(-1,1),ylim=(-0.2, 1.2))\n",
    "line, = ax.plot([], [])\n",
    "pyplot.close()\n",
    "\n",
    "def init():\n",
    "    ax.set_xlabel(r\"$x$\")\n",
    "    ax.set_ylabel(r\"$\\phi$\")\n",
    "\n",
    "def update(i):\n",
    "    line.set_data(x, Uframes[i, 0, :])\n",
    "    return line\n",
    "\n",
    "animation.FuncAnimation(fig, update, init_func=init, frames=Nsteps, interval=100, blit=True)"
   ]
  },
  {
   "cell_type": "markdown",
   "metadata": {},
   "source": [
    "### Convergence"
   ]
  },
  {
   "cell_type": "markdown",
   "metadata": {},
   "source": [
    "We can now simply check convergence, by taking the norm of the difference between the initial solution and the solution at $t=2$:"
   ]
  },
  {
   "cell_type": "code",
   "execution_count": null,
   "metadata": {
    "collapsed": true
   },
   "outputs": [],
   "source": [
    "def error_norms(U, U_initial):\n",
    "    \"\"\"\n",
    "    Error norms (1, 2, infinity)\n",
    "    \"\"\"\n",
    "    \n",
    "    N = len(U)\n",
    "    error_1 = numpy.sum(numpy.abs(U - U_initial))/N\n",
    "    error_2 = numpy.sqrt(numpy.sum((U - U_initial)**2)/N)\n",
    "    error_inf = numpy.max(numpy.abs(U - U_initial))\n",
    "    \n",
    "    return error_1, error_2, error_inf"
   ]
  },
  {
   "cell_type": "code",
   "execution_count": null,
   "metadata": {
    "collapsed": true
   },
   "outputs": [],
   "source": [
    "Npoints_all = 50 * 2**(numpy.arange(0, 6))\n",
    "\n",
    "dxs = numpy.zeros((len(Npoints_all,)))\n",
    "wave_errors = numpy.zeros((3, len(Npoints_all)))\n",
    "\n",
    "for i, Npoints in enumerate(Npoints_all):\n",
    "    dx, x = grid(Npoints)\n",
    "    dt = dx / 4\n",
    "    U0 = initial_data(x)\n",
    "    U = initial_data(x)\n",
    "    Nsteps = int(2.0 / dt)\n",
    "    for n in range(Nsteps):\n",
    "        U = RK2_step(U, RHS, apply_boundaries, dt, dx)\n",
    "    \n",
    "    dxs[i] = dx\n",
    "    wave_errors[:, i] = error_norms(U[0, :], U0[0, :])"
   ]
  },
  {
   "cell_type": "code",
   "execution_count": null,
   "metadata": {},
   "outputs": [],
   "source": [
    "pyplot.figure()\n",
    "pyplot.loglog(dxs, wave_errors[0, :], 'bx', label=r\"${\\cal E}_1$\")\n",
    "pyplot.loglog(dxs, wave_errors[1, :], 'go', label=r\"${\\cal E}_2$\")\n",
    "pyplot.loglog(dxs, wave_errors[2, :], 'r+', label=r\"${\\cal E}_{\\infty}$\")\n",
    "pyplot.loglog(dxs, wave_errors[1, 0]*(dxs/dxs[0])**4, 'k-', label=r\"$p=4$\")\n",
    "pyplot.xlabel(r\"$\\Delta x$\")\n",
    "pyplot.ylabel(\"Error norm\")\n",
    "pyplot.legend(loc=\"lower right\")\n",
    "pyplot.show()"
   ]
  },
  {
   "cell_type": "markdown",
   "metadata": {},
   "source": [
    "This fourth order convergence is an artefact of the initial data and boundary conditions, which are perfectly symmetric. If we change the initial data to make it asymmetric, we'll get something much closer to second order:"
   ]
  },
  {
   "cell_type": "code",
   "execution_count": null,
   "metadata": {
    "collapsed": true
   },
   "outputs": [],
   "source": [
    "def initial_data_asymmetric(x):\n",
    "    \"\"\"\n",
    "    Set the initial data. x are the coordinates. U (phi, phi_t, phi_x) are the variables.\n",
    "    \"\"\"\n",
    "    \n",
    "    U = numpy.zeros((3, len(x)))\n",
    "    U[0, :] = numpy.sin(numpy.pi*x)*(1-x)**2*(1+x)**3\n",
    "    U[2, :] = numpy.pi*numpy.cos(numpy.pi*x)*(1-x)**2*(1+x)**3 + numpy.sin(numpy.pi*x)*(2.0*(1-x)*(1+x)**3 + 3.0*(1-x)**2*(1+x)**2)\n",
    "    \n",
    "    return U"
   ]
  },
  {
   "cell_type": "code",
   "execution_count": null,
   "metadata": {},
   "outputs": [],
   "source": [
    "Npoints = 50\n",
    "dx, x = grid(Npoints)\n",
    "dt = dx / 4\n",
    "U0 = initial_data_asymmetric(x)\n",
    "U = initial_data_asymmetric(x)\n",
    "Nsteps = int(2.0 / dt)\n",
    "Uframes = numpy.zeros((Nsteps+1,3,Npoints+2))\n",
    "Uframes[0,:,:] = U0\n",
    "for n in range(Nsteps):\n",
    "    U = RK2_step(U, RHS, apply_boundaries, dt, dx)\n",
    "    Uframes[n+1,:,:] = U\n",
    "    \n",
    "fig = pyplot.figure(figsize=(8,5))\n",
    "ax = pyplot.axes(xlim=(-1,1),ylim=(-3, 3))\n",
    "line, = ax.plot([], [])\n",
    "pyplot.close()\n",
    "\n",
    "def init():\n",
    "    ax.set_xlabel(r\"$x$\")\n",
    "    ax.set_ylabel(r\"$\\phi$\")\n",
    "\n",
    "def update(i):\n",
    "    line.set_data(x, Uframes[i, 0, :])\n",
    "    return line\n",
    "\n",
    "animation.FuncAnimation(fig, update, init_func=init, frames=Nsteps, interval=100, blit=True)"
   ]
  },
  {
   "cell_type": "code",
   "execution_count": null,
   "metadata": {
    "collapsed": true
   },
   "outputs": [],
   "source": [
    "Npoints_all = 50 * 2**(numpy.arange(0, 6))\n",
    "\n",
    "dxs = numpy.zeros((len(Npoints_all,)))\n",
    "wave_errors = numpy.zeros((3, len(Npoints_all)))\n",
    "\n",
    "for i, Npoints in enumerate(Npoints_all):\n",
    "    dx, x = grid(Npoints)\n",
    "    dt = dx / 4\n",
    "    U0 = initial_data_asymmetric(x)\n",
    "    U = initial_data_asymmetric(x)\n",
    "    Nsteps = int(2.0 / dt)\n",
    "    for n in range(Nsteps):\n",
    "        U = RK2_step(U, RHS, apply_boundaries, dt, dx)\n",
    "    \n",
    "    dxs[i] = dx\n",
    "    wave_errors[:, i] = error_norms(U[0, :], U0[0, :])"
   ]
  },
  {
   "cell_type": "code",
   "execution_count": null,
   "metadata": {},
   "outputs": [],
   "source": [
    "pyplot.figure()\n",
    "pyplot.loglog(dxs, wave_errors[0, :], 'bx', label=r\"${\\cal E}_1$\")\n",
    "pyplot.loglog(dxs, wave_errors[1, :], 'go', label=r\"${\\cal E}_2$\")\n",
    "pyplot.loglog(dxs, wave_errors[2, :], 'r+', label=r\"${\\cal E}_{\\infty}$\")\n",
    "pyplot.loglog(dxs, wave_errors[1, 0]*(dxs/dxs[0])**2, 'k-', label=r\"$p=2$\")\n",
    "pyplot.xlabel(r\"$\\Delta x$\")\n",
    "pyplot.ylabel(\"Error norm\")\n",
    "pyplot.legend(loc=\"lower right\")\n",
    "pyplot.show()"
   ]
  },
  {
   "cell_type": "markdown",
   "metadata": {},
   "source": [
    "## Courant limits"
   ]
  },
  {
   "cell_type": "markdown",
   "metadata": {},
   "source": [
    "We restricted the timestep to $\\Delta t = \\sigma \\Delta x$ with $\\sigma$, the *Courant number*, being $1/4$. As the number of timesteps we take is inversely related to the Courant number, we want to make it as large as possible. \n",
    "\n",
    "Let's try the evolution with Courant number $\\sigma=1$:"
   ]
  },
  {
   "cell_type": "code",
   "execution_count": null,
   "metadata": {},
   "outputs": [],
   "source": [
    "Npoints = 50\n",
    "dx, x = grid(Npoints)\n",
    "dt = dx\n",
    "U0 = initial_data(x)\n",
    "U = initial_data(x)\n",
    "Nsteps = int(2.0/dt)\n",
    "for n in range(Nsteps):\n",
    "    U = RK2_step(U, RHS, apply_boundaries, dt, dx)\n",
    "    \n",
    "pyplot.figure()\n",
    "pyplot.plot(x, U0[0, :], 'b--', label=\"Initial data\")\n",
    "pyplot.plot(x, U[0, :], 'k-', label=r\"$t=2$\")\n",
    "pyplot.xlabel(r\"$x$\")\n",
    "pyplot.ylabel(r\"$\\phi$\")\n",
    "pyplot.xlim(-1, 1)\n",
    "pyplot.legend()\n",
    "pyplot.show()"
   ]
  },
  {
   "cell_type": "markdown",
   "metadata": {},
   "source": [
    "The result doesn't look too bad, but the numerical approximation is actually *bigger* than the correct solution. What happens as we increase resolution?"
   ]
  },
  {
   "cell_type": "code",
   "execution_count": null,
   "metadata": {},
   "outputs": [],
   "source": [
    "Npoints = 200\n",
    "dx, x = grid(Npoints)\n",
    "dt = dx\n",
    "U0 = initial_data(x)\n",
    "U = initial_data(x)\n",
    "Nsteps = int(2.0/dt)\n",
    "for n in range(Nsteps):\n",
    "    U = RK2_step(U, RHS, apply_boundaries, dt, dx)\n",
    "    \n",
    "pyplot.figure()\n",
    "pyplot.plot(x, U0[0, :], 'b--', label=\"Initial data\")\n",
    "pyplot.plot(x, U[0, :], 'k-', label=r\"$t=2$\")\n",
    "pyplot.xlabel(r\"$x$\")\n",
    "pyplot.ylabel(r\"$\\phi$\")\n",
    "pyplot.xlim(-1, 1)\n",
    "pyplot.legend()\n",
    "pyplot.show()"
   ]
  },
  {
   "cell_type": "markdown",
   "metadata": {},
   "source": [
    "The bulk of the solution looks good, but there's small oscillations at the edges. Increase resolution a bit further:"
   ]
  },
  {
   "cell_type": "code",
   "execution_count": null,
   "metadata": {},
   "outputs": [],
   "source": [
    "Npoints = 400\n",
    "dx, x = grid(Npoints)\n",
    "dt = dx\n",
    "U0 = initial_data(x)\n",
    "U = initial_data(x)\n",
    "Nsteps = int(2.0/dt)\n",
    "for n in range(Nsteps):\n",
    "    U = RK2_step(U, RHS, apply_boundaries, dt, dx)\n",
    "    \n",
    "pyplot.figure()\n",
    "pyplot.plot(x, U0[0, :], 'b--', label=\"Initial data\")\n",
    "pyplot.plot(x, U[0, :], 'k-', label=r\"$t=2$\")\n",
    "pyplot.xlabel(r\"$x$\")\n",
    "pyplot.ylabel(r\"$\\phi$\")\n",
    "pyplot.xlim(-1, 1)\n",
    "pyplot.legend()\n",
    "pyplot.show()"
   ]
  },
  {
   "cell_type": "markdown",
   "metadata": {},
   "source": [
    "The result has blown up. We won't be seeing any convergence in this case.\n",
    "\n",
    "For hyperbolic PDEs there is a Courant *limit*: a maximum timestep that is consistent with stability. This depends on the physics and the numerical method chosen. Typically a maximum limit is\n",
    "\n",
    "$$\n",
    "  \\sigma < \\frac{1}{\\sqrt{D} \\lambda_{\\text{max}}}\n",
    "$$\n",
    "\n",
    "where $D$ is the number of spatial dimensions and $\\lambda_{\\text{max}}$ the maximum speed of information propagation (ie, the speed of light)."
   ]
  },
  {
   "cell_type": "markdown",
   "metadata": {},
   "source": [
    "#### Animations"
   ]
  },
  {
   "cell_type": "code",
   "execution_count": null,
   "metadata": {},
   "outputs": [],
   "source": [
    "Npoints = 50\n",
    "dx, x = grid(Npoints)\n",
    "dt = dx\n",
    "U0 = initial_data(x)\n",
    "U = initial_data(x)\n",
    "Nsteps = int(2.0 / dt)\n",
    "Uframes = numpy.zeros((Nsteps+1,3,Npoints+2))\n",
    "Uframes[0,:,:] = U0\n",
    "for n in range(Nsteps):\n",
    "    U = RK2_step(U, RHS, apply_boundaries, dt, dx)\n",
    "    Uframes[n+1,:,:] = U\n",
    "    \n",
    "fig = pyplot.figure(figsize=(8,5))\n",
    "ax = pyplot.axes(xlim=(-1,1),ylim=(-0.2, 1.2))\n",
    "line, = ax.plot([], [])\n",
    "pyplot.close()\n",
    "\n",
    "def init():\n",
    "    ax.set_xlabel(r\"$x$\")\n",
    "    ax.set_ylabel(r\"$\\phi$\")\n",
    "\n",
    "def update(i):\n",
    "    line.set_data(x, Uframes[i, 0, :])\n",
    "    return line\n",
    "\n",
    "animation.FuncAnimation(fig, update, init_func=init, frames=Nsteps, interval=100, blit=True)"
   ]
  },
  {
   "cell_type": "code",
   "execution_count": null,
   "metadata": {},
   "outputs": [],
   "source": [
    "Npoints = 200\n",
    "dx, x = grid(Npoints)\n",
    "dt = dx\n",
    "U0 = initial_data(x)\n",
    "U = initial_data(x)\n",
    "Nsteps = int(2.0 / dt)\n",
    "Uframes = numpy.zeros((Nsteps+1,3,Npoints+2))\n",
    "Uframes[0,:,:] = U0\n",
    "for n in range(Nsteps):\n",
    "    U = RK2_step(U, RHS, apply_boundaries, dt, dx)\n",
    "    Uframes[n+1,:,:] = U\n",
    "    \n",
    "fig = pyplot.figure(figsize=(8,5))\n",
    "ax = pyplot.axes(xlim=(-1,1),ylim=(-0.2, 1.2))\n",
    "line, = ax.plot([], [])\n",
    "pyplot.close()\n",
    "\n",
    "def init():\n",
    "    ax.set_xlabel(r\"$x$\")\n",
    "    ax.set_ylabel(r\"$\\phi$\")\n",
    "\n",
    "def update(i):\n",
    "    line.set_data(x, Uframes[i, 0, :])\n",
    "    return line\n",
    "\n",
    "animation.FuncAnimation(fig, update, init_func=init, frames=Nsteps, interval=100, blit=True)"
   ]
  },
  {
   "cell_type": "code",
   "execution_count": null,
   "metadata": {},
   "outputs": [],
   "source": [
    "Npoints = 400\n",
    "dx, x = grid(Npoints)\n",
    "dt = dx\n",
    "U0 = initial_data(x)\n",
    "U = initial_data(x)\n",
    "Nsteps = int(2.0 / dt)\n",
    "Uframes = numpy.zeros((Nsteps+1,3,Npoints+2))\n",
    "Uframes[0,:,:] = U0\n",
    "for n in range(Nsteps):\n",
    "    U = RK2_step(U, RHS, apply_boundaries, dt, dx)\n",
    "    Uframes[n+1,:,:] = U\n",
    "    \n",
    "fig = pyplot.figure(figsize=(8,5))\n",
    "ax = pyplot.axes(xlim=(-1,1),ylim=(-0.2, 1.2))\n",
    "line, = ax.plot([], [])\n",
    "pyplot.close()\n",
    "\n",
    "def init():\n",
    "    ax.set_xlabel(r\"$x$\")\n",
    "    ax.set_ylabel(r\"$\\phi$\")\n",
    "\n",
    "def update(i):\n",
    "    line.set_data(x, Uframes[i, 0, :])\n",
    "    return line\n",
    "\n",
    "animation.FuncAnimation(fig, update, init_func=init, frames=Nsteps, interval=100, blit=True)"
   ]
  },
  {
   "cell_type": "markdown",
   "metadata": {},
   "source": [
    "# Extension exercises"
   ]
  },
  {
   "cell_type": "markdown",
   "metadata": {},
   "source": [
    "##### Second order in space\n",
    "\n",
    "Implement a MoL solution to the wave equation using the second order in space form\n",
    "\n",
    "$$\n",
    "\\frac{\\partial}{\\partial t} \\begin{pmatrix} \\phi \\\\ \\phi_t \\end{pmatrix} = \\begin{pmatrix} \\phi_t \\\\ 0 \\end{pmatrix} + \\frac{\\partial^2}{\\partial x^2} \\begin{pmatrix} 0 \\\\ \\phi \\end{pmatrix}.\n",
    "$$\n",
    "\n",
    "This is more closely related to the BSSNOK formulation. Check convergence on the cases above. Compare the accuracy and efficiency of the approaches."
   ]
  },
  {
   "cell_type": "markdown",
   "metadata": {},
   "source": [
    "##### Answer\n",
    "\n",
    "Implement the RHS for the second order in space form."
   ]
  },
  {
   "cell_type": "code",
   "execution_count": null,
   "metadata": {
    "collapsed": true
   },
   "outputs": [],
   "source": [
    "def RHS2(U, dx):\n",
    "    \"\"\"\n",
    "    RHS2 term.\n",
    "    \n",
    "    Parameters\n",
    "    ----------\n",
    "    \n",
    "    U : array\n",
    "        contains [phi, phi_t] at each point\n",
    "    dx : double\n",
    "        grid spacing\n",
    "        \n",
    "    Returns\n",
    "    -------\n",
    "    \n",
    "    dUdt : array\n",
    "        contains the required time derivatives\n",
    "    \"\"\"\n",
    "    \n",
    "    phi = U[0, :]\n",
    "    phi_t = U[1, :]\n",
    "    \n",
    "    dUdt = numpy.zeros_like(U)\n",
    "    \n",
    "    dUdt[0, :] = phi_t\n",
    "    dUdt[1, 1:-1] = 1.0 / (dx**2)*(phi[2:] - 2.0*phi[1:-1] + phi[:-2])\n",
    "    \n",
    "    return dUdt"
   ]
  },
  {
   "cell_type": "markdown",
   "metadata": {},
   "source": [
    "We can use the same boundary routine, the same RK2 routine and the same grid but we need a new initial data routine."
   ]
  },
  {
   "cell_type": "code",
   "execution_count": null,
   "metadata": {
    "collapsed": true
   },
   "outputs": [],
   "source": [
    "def initial_data2(x):\n",
    "    \"\"\"\n",
    "    Set the initial data. x are the coordinates. U (phi, phi_t) are the variables.\n",
    "    \"\"\"\n",
    "    \n",
    "    U = numpy.zeros((2, len(x)))\n",
    "    U[0, :] = numpy.exp(-20.0 * x**2)\n",
    "    \n",
    "    return U"
   ]
  },
  {
   "cell_type": "markdown",
   "metadata": {},
   "source": [
    "Now we can evolve and plot comparisons with the first order in space case"
   ]
  },
  {
   "cell_type": "code",
   "execution_count": null,
   "metadata": {},
   "outputs": [],
   "source": [
    "Npoints = 50\n",
    "dx, x = grid(Npoints)\n",
    "dt = dx / 4\n",
    "U0 = initial_data(x)\n",
    "U = initial_data(x)\n",
    "U0_2 = initial_data2(x)\n",
    "U_2 = initial_data2(x)\n",
    "Nsteps = int(2.0 / dt)\n",
    "for n in range(Nsteps):\n",
    "    U = RK2_step(U, RHS, apply_boundaries, dt, dx)\n",
    "    U_2 = RK2_step(U_2, RHS2, apply_boundaries, dt, dx)\n",
    "    \n",
    "pyplot.figure()\n",
    "pyplot.plot(x, U0[0, :], 'b--', label=\"Initial data\")\n",
    "pyplot.plot(x, U[0, :], 'r-', label=r\"$t=2$ (first order in space)\")\n",
    "pyplot.plot(x, U_2[0, :], 'k-', label=r\"$t=2$ (second order in space)\")\n",
    "pyplot.xlabel(r\"$x$\")\n",
    "pyplot.ylabel(r\"$\\phi$\")\n",
    "pyplot.xlim(-1, 1)\n",
    "pyplot.legend()\n",
    "pyplot.show()\n",
    "\n",
    "pyplot.figure()\n",
    "pyplot.plot(x, U[0, :] - U0[0, :], 'r-', label=r\"$t=2$ (first order in space)\")\n",
    "pyplot.plot(x, U_2[0, :] - U0_2[0, :], 'k-', label=r\"$t=2$ (second order in space)\")\n",
    "pyplot.xlabel(r\"$x$\")\n",
    "pyplot.ylabel(r\"$Error$\")\n",
    "pyplot.xlim(-1, 1)\n",
    "pyplot.legend()\n",
    "pyplot.show()"
   ]
  },
  {
   "cell_type": "markdown",
   "metadata": {},
   "source": [
    "The errors are dramatically reduced while using less memory and fewer floating point operations."
   ]
  },
  {
   "cell_type": "markdown",
   "metadata": {},
   "source": [
    "##### Fourth order differencing\n",
    "\n",
    "Implement fourth order spatial differencing. You will need to change the boundary conditions - think how this should be done. Compare the results, and check the convergence rate. Should you expect fourth order convergence?"
   ]
  },
  {
   "cell_type": "markdown",
   "metadata": {},
   "source": [
    "##### Answer\n",
    "\n",
    "The finite differencing stencil require 2 neighbours on each side so we have to extend the grid with an extra symmetry grid point and update two boundary points.\n",
    "\n",
    "First the RHS routine."
   ]
  },
  {
   "cell_type": "code",
   "execution_count": null,
   "metadata": {
    "collapsed": true
   },
   "outputs": [],
   "source": [
    "def RHS4(U, dx):\n",
    "    \"\"\"\n",
    "    RHS4 term.\n",
    "    \n",
    "    Parameters\n",
    "    ----------\n",
    "    \n",
    "    U : array\n",
    "        contains [phi, phi_t, phi_x] at each point\n",
    "    dx : double\n",
    "        grid spacing\n",
    "        \n",
    "    Returns\n",
    "    -------\n",
    "    \n",
    "    dUdt : array\n",
    "        contains the required time derivatives\n",
    "    \"\"\"\n",
    "    \n",
    "    phi = U[0, :]\n",
    "    phi_t = U[1, :]\n",
    "    phi_x = U[2, :]\n",
    "    \n",
    "    dUdt = numpy.zeros_like(U)\n",
    "    \n",
    "    dUdt[0, :] = phi_t\n",
    "    dUdt[1, 2:-2] = 1.0 / (12.0*dx)*(8.0*(phi_x[3:-1] - phi_x[1:-3]) - (phi_x[4:] - phi_x[:-4]) )\n",
    "    dUdt[2, 2:-2] = 1.0 / (12.0*dx)*(8.0*(phi_t[3:-1] - phi_t[1:-3]) - (phi_t[4:] - phi_t[:-4]) )\n",
    "    \n",
    "    return dUdt"
   ]
  },
  {
   "cell_type": "markdown",
   "metadata": {},
   "source": [
    "Now the boundary routine exchanging two ghost cells on each side."
   ]
  },
  {
   "cell_type": "code",
   "execution_count": null,
   "metadata": {
    "collapsed": true
   },
   "outputs": [],
   "source": [
    "def apply_boundaries4(dUdt):\n",
    "    \"\"\"\n",
    "    Periodic boundaries\n",
    "    \"\"\"\n",
    "    \n",
    "    dUdt[:, 0] = dUdt[:, -4]\n",
    "    dUdt[:, 1] = dUdt[:, -3]\n",
    "    dUdt[:, -1] = dUdt[:, 3]\n",
    "    dUdt[:, -2] = dUdt[:, 2]\n",
    "    \n",
    "    return dUdt"
   ]
  },
  {
   "cell_type": "markdown",
   "metadata": {},
   "source": [
    "And set up the grid."
   ]
  },
  {
   "cell_type": "code",
   "execution_count": null,
   "metadata": {
    "collapsed": true
   },
   "outputs": [],
   "source": [
    "def grid4(Npoints):\n",
    "    \"\"\"\n",
    "    Npoints is the number of interior points\n",
    "    \"\"\"\n",
    "    \n",
    "    dx = 2.0 / Npoints\n",
    "    return dx, numpy.linspace(-1.0-3.0*dx/2.0, 1.0+3.0*dx/2.0, Npoints+4)"
   ]
  },
  {
   "cell_type": "markdown",
   "metadata": {},
   "source": [
    "Now evolve and compare with the second order accurayte first order in space and second order in space cases. "
   ]
  },
  {
   "cell_type": "code",
   "execution_count": null,
   "metadata": {},
   "outputs": [],
   "source": [
    "Npoints = 50\n",
    "dx, x = grid(Npoints)\n",
    "dx4, x4 = grid4(Npoints)\n",
    "dt = dx / 4\n",
    "U0 = initial_data(x)\n",
    "U = initial_data(x)\n",
    "U0_2 = initial_data2(x)\n",
    "U_2 = initial_data2(x)\n",
    "U0_4 = initial_data(x4)\n",
    "U_4 = initial_data(x4)\n",
    "Nsteps = int(2.0 / dt)\n",
    "for n in range(Nsteps):\n",
    "    U = RK2_step(U, RHS, apply_boundaries, dt, dx)\n",
    "    U_2 = RK2_step(U_2, RHS2, apply_boundaries, dt, dx)\n",
    "    U_4 = RK2_step(U_4, RHS4, apply_boundaries4, dt, dx4)\n",
    "\n",
    "pyplot.figure()\n",
    "pyplot.plot(x, U0[0, :], 'b--', label=\"Initial data\")\n",
    "pyplot.plot(x, U[0, :], 'r-', label=r\"$t=2$ (first order in space)\")\n",
    "pyplot.plot(x4, U_4[0, :], 'k-', label=r\"$t=2$ (fourth order)\")\n",
    "pyplot.xlabel(r\"$x$\")\n",
    "pyplot.ylabel(r\"$\\phi$\")\n",
    "pyplot.xlim(-1, 1)\n",
    "pyplot.legend()\n",
    "pyplot.show()\n",
    "\n",
    "pyplot.figure()\n",
    "pyplot.plot(x, U[0, :] - U0[0, :], 'r-', label=r\"$t=2$ (first order in space)\")\n",
    "pyplot.plot(x4, U_4[0, :] - U0_4[0, :], 'k-', label=r\"$t=2$ (fourth order)\")\n",
    "pyplot.xlabel(r\"$x$\")\n",
    "pyplot.ylabel(r\"$Error$\")\n",
    "pyplot.xlim(-1, 1)\n",
    "pyplot.legend()\n",
    "pyplot.show()\n",
    "\n",
    "pyplot.figure()\n",
    "pyplot.plot(x, U_2[0, :] - U0_2[0, :], 'r-', label=r\"$t=2$ (second order in space)\")\n",
    "pyplot.plot(x4, U_4[0, :] - U0_4[0, :], 'k-', label=r\"$t=2$ (fourth order)\")\n",
    "pyplot.xlabel(r\"$x$\")\n",
    "pyplot.ylabel(r\"$Error$\")\n",
    "pyplot.xlim(-1, 1)\n",
    "pyplot.legend()\n",
    "pyplot.show()"
   ]
  },
  {
   "cell_type": "markdown",
   "metadata": {},
   "source": [
    "Now let's try to evolve the assymetric data and check the convergence."
   ]
  },
  {
   "cell_type": "code",
   "execution_count": null,
   "metadata": {},
   "outputs": [],
   "source": [
    "Npoints_all = 50 * 2**(numpy.arange(0, 6))\n",
    "\n",
    "dxs = numpy.zeros((len(Npoints_all,)))\n",
    "wave_errors_4 = numpy.zeros((3, len(Npoints_all)))\n",
    "\n",
    "for i, Npoints in enumerate(Npoints_all):\n",
    "    dx4, x4 = grid4(Npoints)\n",
    "    dt = dx4 / 4\n",
    "    U0_4 = initial_data_asymmetric(x4)\n",
    "    U_4 = initial_data_asymmetric(x4)\n",
    "    Nsteps = int(2.0 / dt)\n",
    "    for n in range(Nsteps):\n",
    "        U_4 = RK2_step(U_4, RHS4, apply_boundaries4, dt, dx4)\n",
    "    \n",
    "    dxs[i] = dx4\n",
    "    wave_errors_4[:, i] = error_norms(U_4[0, :], U0_4[0, :])\n",
    "\n",
    "pyplot.figure()\n",
    "pyplot.loglog(dxs, wave_errors_4[0, :], 'bx', label=r\"${\\cal E}_1$\")\n",
    "pyplot.loglog(dxs, wave_errors_4[1, :], 'go', label=r\"${\\cal E}_2$\")\n",
    "pyplot.loglog(dxs, wave_errors_4[2, :], 'r+', label=r\"${\\cal E}_{\\infty}$\")\n",
    "pyplot.loglog(dxs, wave_errors_4[1, 0]*(dxs/dxs[0])**2, 'k-', label=r\"$p=2$\")\n",
    "pyplot.xlabel(r\"$\\Delta x$\")\n",
    "pyplot.ylabel(\"Error norm\")\n",
    "pyplot.legend(loc=\"lower right\")\n",
    "pyplot.show()"
   ]
  },
  {
   "cell_type": "markdown",
   "metadata": {},
   "source": [
    "We are only getting 2nd order convergence due to the limitation of the 2nd order accuracy of the RK2 time integration."
   ]
  },
  {
   "cell_type": "markdown",
   "metadata": {},
   "source": [
    "##### Third order in time\n",
    "\n",
    "If you find that the method for time integration is a limitation, try implementing the third order Runge-Kutta method\n",
    "\n",
    "\\begin{align}\n",
    "  {\\bf U}^{(p_1)} &= {\\bf U}^{(n)} + \\Delta t \\, {\\bf F} \\left( {\\bf U}^{(n)}, t^n \\right), \\\\\n",
    "  {\\bf U}^{(p_2)} &= \\frac{1}{4} \\left( 3 {\\bf U}^{(n)} + {\\bf U}^{(p_1)} + \\Delta t \\, {\\bf F} \\left( {\\bf U}^{(p_1)}, t^{n+1} \\right) \\right), \\\\\n",
    "  {\\bf U}^{(n+1)} &= \\frac{1}{3} \\left( {\\bf U}^{(n)} + 2 {\\bf U}^{(p_2)} + 2 \\Delta t \\, {\\bf F} \\left( {\\bf U}^{(p_2)}, t^{n+1} \\right) \\right).\n",
    "\\end{align}\n",
    "\n",
    "Compare with both second and fourth order central spatial differencing."
   ]
  },
  {
   "cell_type": "code",
   "execution_count": null,
   "metadata": {
    "collapsed": true
   },
   "outputs": [],
   "source": [
    "def RK3_step(U, RHS, apply_boundaries, dt, dx):\n",
    "    \"\"\"\n",
    "    RK3 method\n",
    "    \"\"\"\n",
    "\n",
    "    rhs = RHS(U, dx)\n",
    "    rhs = apply_boundaries(rhs)\n",
    "    Up1 = U + dt * rhs\n",
    "    rhs_p1 = RHS(Up1, dx)\n",
    "    rhs_p1 = apply_boundaries(rhs_p1)\n",
    "    Up2 = 0.25 * ( 3.0*U + Up1 + dt * rhs_p1 )\n",
    "    rhs_p2 = RHS(Up2, dx)\n",
    "    rhs_p2 = apply_boundaries(rhs_p2)\n",
    "    Unew = (U + 2.0*Up2 + 2.0*dt * rhs_p2)/3.0\n",
    "        \n",
    "    return Unew"
   ]
  },
  {
   "cell_type": "code",
   "execution_count": null,
   "metadata": {},
   "outputs": [],
   "source": [
    "Npoints_all = 50 * 2**(numpy.arange(0, 6))\n",
    "\n",
    "dxs = numpy.zeros((len(Npoints_all,)))\n",
    "wave_errors = numpy.zeros((3, len(Npoints_all)))\n",
    "\n",
    "for i, Npoints in enumerate(Npoints_all):\n",
    "    dx, x = grid(Npoints)\n",
    "    dt = dx / 4\n",
    "    U0 = initial_data_asymmetric(x)\n",
    "    U = initial_data_asymmetric(x)\n",
    "    Nsteps = int(2.0 / dt)\n",
    "    for n in range(Nsteps):\n",
    "        U = RK3_step(U, RHS, apply_boundaries, dt, dx)\n",
    "    \n",
    "    dxs[i] = dx\n",
    "    wave_errors[:, i] = error_norms(U[0, :], U0[0, :])\n",
    "\n",
    "pyplot.figure()\n",
    "pyplot.loglog(dxs, wave_errors[0, :], 'bx', label=r\"${\\cal E}_1$\")\n",
    "pyplot.loglog(dxs, wave_errors[1, :], 'go', label=r\"${\\cal E}_2$\")\n",
    "pyplot.loglog(dxs, wave_errors[2, :], 'r+', label=r\"${\\cal E}_{\\infty}$\")\n",
    "pyplot.loglog(dxs, wave_errors[1, 0]*(dxs/dxs[0])**2, 'k-', label=r\"$p=2$\")\n",
    "pyplot.xlabel(r\"$\\Delta x$\")\n",
    "pyplot.ylabel(\"Error norm\")\n",
    "pyplot.legend(loc=\"lower right\")\n",
    "pyplot.show()"
   ]
  },
  {
   "cell_type": "markdown",
   "metadata": {},
   "source": [
    "Wait, why are we still only getting second order convergence? Looking carefully at the asymmetric initial data we notice that the fourth derivative is not the same at the left and right boundary. As we are imposing periodic boundary conditions, could this be causing this? To check let us define some asymmetric data with continuous derivatives across the boundary. The following is a sine-wave propagating to the right."
   ]
  },
  {
   "cell_type": "code",
   "execution_count": null,
   "metadata": {
    "collapsed": true
   },
   "outputs": [],
   "source": [
    "def initial_data_asymmetric4(x):\n",
    "    \"\"\"\n",
    "    Set the initial data. x are the coordinates. U (phi, phi_t, phi_x) are the variables.\n",
    "    \"\"\"\n",
    "    \n",
    "    U = numpy.zeros((3, len(x)))\n",
    "    U[0, :] = numpy.sin(numpy.pi*x)\n",
    "    U[1, :] = -numpy.pi*numpy.cos(numpy.pi*x)\n",
    "    U[2, :] = numpy.pi*numpy.cos(numpy.pi*x)\n",
    "    return U"
   ]
  },
  {
   "cell_type": "markdown",
   "metadata": {},
   "source": [
    "In the following, we evolve the new initial data with fourth order finite differencing and both the RK3 and RK2\n",
    "time integration schemes."
   ]
  },
  {
   "cell_type": "code",
   "execution_count": null,
   "metadata": {},
   "outputs": [],
   "source": [
    "Npoints_all = 50 * 2**(numpy.arange(0, 6))\n",
    "\n",
    "dxs = numpy.zeros((len(Npoints_all,)))\n",
    "wave_errors_4 = numpy.zeros((3, len(Npoints_all)))\n",
    "wave_errors_42 = numpy.zeros((3, len(Npoints_all)))\n",
    "\n",
    "\n",
    "for i, Npoints in enumerate(Npoints_all):\n",
    "    dx4, x4 = grid4(Npoints)\n",
    "    dt = dx4 / 4\n",
    "    U0_4 = initial_data_asymmetric4(x4)\n",
    "    U_4 = initial_data_asymmetric4(x4)\n",
    "    U0_42 = initial_data_asymmetric4(x4)\n",
    "    U_42 = initial_data_asymmetric4(x4)\n",
    "    Nsteps = int(2.0 / dt)\n",
    "    for n in range(Nsteps):\n",
    "        U_4 = RK3_step(U_4, RHS4, apply_boundaries4, dt, dx4)\n",
    "        U_42 = RK2_step(U_42, RHS4, apply_boundaries4, dt, dx4)\n",
    "    \n",
    "    dxs[i] = dx4\n",
    "    wave_errors_4[:, i] = error_norms(U_4[0, :], U0_4[0, :])\n",
    "    wave_errors_42[:, i] = error_norms(U_42[0, :], U0_4[0, :])\n",
    "\n",
    "pyplot.figure()\n",
    "pyplot.loglog(dxs, wave_errors_4[0, :], 'bx', label=r\"${\\cal E}_1$\")\n",
    "pyplot.loglog(dxs, wave_errors_4[1, :], 'go', label=r\"${\\cal E}_2$\")\n",
    "pyplot.loglog(dxs, wave_errors_4[2, :], 'r+', label=r\"${\\cal E}_{\\infty}$\")\n",
    "pyplot.loglog(dxs, wave_errors_4[1, 0]*(dxs/dxs[0])**4, 'k-', label=r\"$p=4$\")\n",
    "pyplot.loglog(dxs, wave_errors_4[1, 5]*(dxs/dxs[5])**3, 'k-', label=r\"$p=3$\")\n",
    "pyplot.xlabel(r\"$\\Delta x$\")\n",
    "pyplot.ylabel(\"Error norm\")\n",
    "pyplot.legend(loc=\"lower right\")\n",
    "pyplot.show()\n",
    "\n",
    "pyplot.figure()\n",
    "pyplot.loglog(dxs, wave_errors_42[0, :], 'bx', label=r\"${\\cal E}_1$\")\n",
    "pyplot.loglog(dxs, wave_errors_42[1, :], 'go', label=r\"${\\cal E}_2$\")\n",
    "pyplot.loglog(dxs, wave_errors_42[2, :], 'r+', label=r\"${\\cal E}_{\\infty}$\")\n",
    "pyplot.loglog(dxs, wave_errors_42[1, 0]*(dxs/dxs[0])**2, 'k-', label=r\"$p=2$\")\n",
    "pyplot.xlabel(r\"$\\Delta x$\")\n",
    "pyplot.ylabel(\"Error norm\")\n",
    "pyplot.legend(loc=\"lower right\")\n",
    "pyplot.show()"
   ]
  },
  {
   "cell_type": "markdown",
   "metadata": {},
   "source": [
    "From the first plot (RK3) we see that we are limited by the spatial discratization errors at low resolution resulting in 4th order convergence. However, as the resolution is increased the time integration errors (they scale as $\\Delta t^3\\propto \\Delta x^3$) becomes the limiting factor and the overall convergence order transitions to 3rd order. In the second plot we see that we are limited by the RK2 time integration errors even at low resolution."
   ]
  }
 ],
 "metadata": {
  "kernelspec": {
   "display_name": "Python 3",
   "language": "python",
   "name": "python3"
  },
  "language_info": {
   "codemirror_mode": {
    "name": "ipython",
    "version": 3
   },
   "file_extension": ".py",
   "mimetype": "text/x-python",
   "name": "python",
   "nbconvert_exporter": "python",
   "pygments_lexer": "ipython3",
   "version": "3.5.2"
  }
 },
 "nbformat": 4,
 "nbformat_minor": 1
}
