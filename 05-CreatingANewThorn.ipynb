{
 "cells": [
  {
   "cell_type": "markdown",
   "metadata": {},
   "source": [
    "<h1>Creating a New Thorn</h1>\n",
    "A Cactus thorn requires a number of different pieces.\n",
    "* a Cactus thorn must have a name.\n",
    "* a Cactus thorn must live in an arrangement.\n",
    "* a Cactus thorn must have ccl (Cactus Configuration Language) files, all of which should reside in ./arrangements/ArrangementName/ThornName/\n",
    " * interface.ccl\n",
    " * schedule.ccl\n",
    " * param.ccl\n",
    " * configuration.ccl\n",
    "* a Cactus thorn must have a src directory\n",
    "* a Cactus thorn must have a make.code.defn file in that source directory"
   ]
  },
  {
   "cell_type": "code",
   "execution_count": 1,
   "metadata": {},
   "outputs": [],
   "source": [
    "import os\n",
    "os.environ[\"PATH\"]=\"/opt/conda/envs/python2/bin:\"+os.environ[\"PATH\"]"
   ]
  },
  {
   "cell_type": "code",
   "execution_count": 2,
   "metadata": {},
   "outputs": [
    {
     "name": "stdout",
     "output_type": "stream",
     "text": [
      "Python 2.7.12\r\n"
     ]
    }
   ],
   "source": [
    "!python --version"
   ]
  },
  {
   "cell_type": "code",
   "execution_count": 3,
   "metadata": {},
   "outputs": [
    {
     "name": "stdout",
     "output_type": "stream",
     "text": [
      "/home/ejwest/phy/research/current/sandbox/ETK/CactusFW2\n"
     ]
    }
   ],
   "source": [
    "%cd ./CactusFW2"
   ]
  },
  {
   "cell_type": "code",
   "execution_count": 4,
   "metadata": {},
   "outputs": [],
   "source": [
    "# Define some basic parameters describing a new thorn\n",
    "thorn_pars = {\n",
    "   \"thorn_name\" : \"EnergyCalc\",\n",
    "   \"arrangement_name\" : \"FunwaveUtils\",\n",
    "   \"author\" : \"Steven R. Brandt\",\n",
    "   \"email\" : \"sbrandt@cct.lsu.edu\",\n",
    "   \"license\" : \"BSD\"\n",
    " }\n",
    "import os\n",
    "os.environ[\"ARR\"]=thorn_pars[\"arrangement_name\"]\n",
    "os.environ[\"THORN\"]=thorn_pars[\"thorn_name\"]"
   ]
  },
  {
   "cell_type": "markdown",
   "metadata": {},
   "source": [
    "This next command is only needed if you want to delete the thorn you are\n",
    "going to create below and start over."
   ]
  },
  {
   "cell_type": "code",
   "execution_count": 5,
   "metadata": {},
   "outputs": [],
   "source": [
    "!rm -fr arrangements/$ARR/$THORN"
   ]
  },
  {
   "cell_type": "markdown",
   "metadata": {},
   "source": [
    "Next we define some functions to help us create files automatically."
   ]
  },
  {
   "cell_type": "code",
   "execution_count": 6,
   "metadata": {},
   "outputs": [],
   "source": [
    "import re\n",
    "# This function does substitutes all occurances of \"{name}\" in input_str with values[\"name\"]\n",
    "# and returns the new string.\n",
    "def replace_values(input_str,values):\n",
    "    while True:\n",
    "        g = re.search(r'{(\\w+)}',input_str)\n",
    "        if g:\n",
    "            var = g.group(1)\n",
    "            if var in values:\n",
    "                val = values[var]\n",
    "            else:\n",
    "                raise Exception(\"Undefined: <<\"+var+\">>\")\n",
    "            start = g.start(0)\n",
    "            end = start+len(g.group(0))\n",
    "            input_str = input_str[0:start]+val+input_str[end:]\n",
    "            continue\n",
    "        break\n",
    "    return input_str\n",
    "\n",
    "# Createas a file with the given name, uses replace_values()\n",
    "# to update file_contents with file_values, and writes it out.\n",
    "def create_file(file_name,file_contents,file_values):\n",
    "    fd = open(file_name,\"w\")\n",
    "    file_contents = replace_values(file_contents,file_values)\n",
    "    print(\"Over-writing file '\"+file_name+\"'\")\n",
    "    file_contents = re.sub(r'^\\s+','',file_contents)\n",
    "    fd.write(file_contents)\n",
    "    fd.close()\n",
    "    \n",
    "# The equivalent of mkdir -p\n",
    "def create_dir(dir):\n",
    "    print(\"Ensuring directory '\"+dir+\"'\")\n",
    "    if not os.path.exists(dir):\n",
    "        os.makedirs(dir)"
   ]
  },
  {
   "cell_type": "code",
   "execution_count": 7,
   "metadata": {},
   "outputs": [],
   "source": [
    "interface_ccl_contents = \"\"\"\n",
    "## Interface definitions for thorn {thorn_name}\n",
    "inherits:\n",
    "## An implementation name is required for all thorns. No\n",
    "## two thorns in a configuration can implement the same\n",
    "## interface.\n",
    "implements: {thorn_name}\n",
    "\n",
    "## the groups declared below can be public, private, or protected.\n",
    "public:\n",
    "\n",
    "## A group defines a set of variables that are allocated together\n",
    "## and share common properties, i.e. timelevels, tags such as the\n",
    "## Prolongation=None tag. The type tag can take on the values\n",
    "## GF, Scalar, or Array.\n",
    "\n",
    "## Note that the number of timelevels can be an integer parameter\n",
    "## GF stands for \"Grid Function\" and refers to a distributed array\n",
    "## data structure.\n",
    "#cctk_real force_group type=GF timelevels=3 tags='Prolongation=\"None\"'\n",
    "#{\n",
    "#  force1, force2\n",
    "#}\n",
    "\n",
    "## Scalars are single variables that are available on all processors.\n",
    "#cctk_real scalar_group type=SCALAR \n",
    "#{\n",
    "#  scalar1, scalar2\n",
    "#}\n",
    "\"\"\""
   ]
  },
  {
   "cell_type": "code",
   "execution_count": 8,
   "metadata": {},
   "outputs": [],
   "source": [
    "schedule_ccl_contents = \"\"\"\n",
    "## Schedule definitions for thorn {thorn_name}\n",
    "\n",
    "## There won't be any storage allocated for a group\n",
    "## unless a corresponding storage declaration exists\n",
    "## for it in the schedule file. In square brackets,\n",
    "## we specify the number of storage levels to allocate.\n",
    "## These commented examples correspond to the commented\n",
    "## examples in the interface file above.\n",
    "# storage: force_group[3]\n",
    "# storage: scalar_group\n",
    "\n",
    "## Schedule a function defined in this thorn to run at the beginning\n",
    "## of the simulation. The minimum you need to specify for a schedule\n",
    "## item is what language it's written in. Choices are: C (which includes\n",
    "## C++) and Fortran (which means Fortran90).\n",
    "#SCHEDULE init_function at CCTK_INIT\n",
    "#{\n",
    "#  LANG: C\n",
    "#}\"Do some initial stuff\"\n",
    "\"\"\""
   ]
  },
  {
   "cell_type": "code",
   "execution_count": 9,
   "metadata": {},
   "outputs": [],
   "source": [
    "param_ccl_contents = \"\"\"\n",
    "## Parameter definitions for thorn {thorn_name}\n",
    "## There are five types of parameters: int, real, keyword, string, and boolean.\n",
    "## The comments provide prototypes of each.\n",
    "#\n",
    "#CCTK_INT one_to_five \"This integer parameter goes from 1 to 5\"\n",
    "#{\n",
    "#  1:5 :: \"Another comment\"\n",
    "#} 3 # This is the default value\n",
    "#\n",
    "#CCTK_REAL from_2p5_to_3p8e4 \"This integer parameter goes from 2.5 to 3.8e4\"\n",
    "#{\n",
    "#  2.5:3.8e4 :: \"Another comment\"\n",
    "#} 4.4e3 # This is the default value\n",
    "#\n",
    "## This keyword example defines the parameter wavemaker_type and 8 possible values.\n",
    "#CCTK_KEYWORD wavemaker_type \"types of wave makers\"\n",
    "#{\n",
    "#  \"ini_rec\" :: \"initial rectangular hump, need xc,yc and wid\"\n",
    "#  \"lef_sol\" :: \"initial solitary wave, WKN B solution, need amp, dep\"\n",
    "#  \"ini_oth\" :: \"other initial distribution specified by users\"\n",
    "#  \"wk_reg\" :: \"Wei and Kirby 1999 internal wave maker, need xc_wk, tperiod, amp_wk, dep_wk, theta_wk, and time_ramp (factor of period)\"\n",
    "#  \"wk_irr\" :: \"Wei and Kirby 1999 TMA spectrum wavemaker, need xc_wk, dep_wk, time_ramp, delta_wk, freqpeak, freqmin, freqmax, hmo, gammatma, theta-peak\"\n",
    "#  \"wk_time_series\" :: \"fft a time series to get each wave component and then use Wei and Kirby's ( 1999) wavemaker. Need input wavecompfile (including 3 columns:   per,amp,pha) and numwavecomp, peakperiod, dep_wk, xc_wk, ywidth_wk\"\n",
    "#  \"ini_gau\" :: \"initial Gaussian hump, need amp, xc, yc, and wid\"\n",
    "#  \"ini_sol\" :: \"initial solitary wave, xwavemaker\"\n",
    "#}\"wk_reg\" # This is the default value\n",
    "#\n",
    "#CCTK_STRING a_string_par \"a comment\"\n",
    "#{\n",
    "#  .* :: \"This is a perl 5 regular expression defining what the string may contain\"\n",
    "#} \"blah blah blah\" # This is the default value\n",
    "#\n",
    "#BOOLEAN a_boolean_par \"a comment\"\n",
    "#{\n",
    "#} true\n",
    "\n",
    "\n",
    "\"\"\""
   ]
  },
  {
   "cell_type": "code",
   "execution_count": 10,
   "metadata": {},
   "outputs": [],
   "source": [
    "configuration_ccl_contents = \"\"\"\n",
    "# Configuration definitions for thorn {thorn_name}\n",
    "## You should not need include \"mpi.h\", but if you\n",
    "## do, you will need this next line.\n",
    "# REQUIRES MPI\n",
    "# REQUIRES HDF5\n",
    "\"\"\""
   ]
  },
  {
   "cell_type": "code",
   "execution_count": 11,
   "metadata": {},
   "outputs": [],
   "source": [
    "makefile_contents = \"\"\"\n",
    "# Main make.code.defn file for thorn {thorn_name}\n",
    "\n",
    "# Source files in this directory\n",
    "SRCS =\n",
    "\n",
    "# Subdirectories containing source files\n",
    "SUBDIRS =\n",
    "\"\"\""
   ]
  },
  {
   "cell_type": "code",
   "execution_count": 12,
   "metadata": {},
   "outputs": [],
   "source": [
    "readme_contents = \"\"\"\n",
    "Author(s)    : {author} <{email}>\n",
    "Maintainer(s): {author} <{email}>\n",
    "Licence      : {license}\n",
    "--------------------------------------------------------------------------\n",
    "\n",
    "1. Purpose\n",
    "\n",
    "not documented\n",
    "\"\"\""
   ]
  },
  {
   "cell_type": "code",
   "execution_count": 13,
   "metadata": {},
   "outputs": [],
   "source": [
    "import os\n",
    "\n",
    "# This function will create a complete thorn\n",
    "def create_thorn():\n",
    "  # Create the thorn directory inside the Cactus source tree\n",
    "  arrangement_dir = \"arrangements/\"+thorn_pars[\"arrangement_name\"]\n",
    "  thorn_dir = arrangement_dir + \"/\" + thorn_pars[\"thorn_name\"]\n",
    "  create_dir(thorn_dir)\n",
    "\n",
    "  # Create basic ccl files needed by Cactus\n",
    "  schedule_ccl = thorn_dir+\"/schedule.ccl\"\n",
    "  interface_ccl = thorn_dir+\"/interface.ccl\"\n",
    "  param_ccl = thorn_dir+\"/param.ccl\"\n",
    "  configuration_ccl = thorn_dir+\"/configuration.ccl\"\n",
    "  create_file(schedule_ccl,schedule_ccl_contents,thorn_pars)\n",
    "  create_file(interface_ccl,interface_ccl_contents,thorn_pars)\n",
    "  create_file(param_ccl,param_ccl_contents,thorn_pars)\n",
    "  create_file(configuration_ccl,configuration_ccl_contents,thorn_pars)\n",
    "\n",
    "  # Create the source directory and first makefile\n",
    "  src_dir = thorn_dir+\"/src\"\n",
    "  create_dir(src_dir)\n",
    "  create_file(src_dir+\"/make.code.defn\",makefile_contents,thorn_pars)\n",
    "\n",
    "  # Other dirs and files not strictly needed\n",
    "  # for compiling and running Cactus.\n",
    "  create_file(thorn_dir+\"/README\",readme_contents,thorn_pars)\n",
    "  \n",
    "  test_dir = thorn_dir+\"/test\"\n",
    "  create_dir(test_dir)\n",
    "  par_dir = thorn_dir+\"/par\"\n",
    "  create_dir(par_dir)\n",
    "  doc_dir = thorn_dir+\"/doc\"\n",
    "  create_dir(doc_dir)"
   ]
  },
  {
   "cell_type": "code",
   "execution_count": 14,
   "metadata": {},
   "outputs": [
    {
     "name": "stdout",
     "output_type": "stream",
     "text": [
      "Ensuring directory 'arrangements/FunwaveUtils/EnergyCalc'\n",
      "Over-writing file 'arrangements/FunwaveUtils/EnergyCalc/schedule.ccl'\n",
      "Over-writing file 'arrangements/FunwaveUtils/EnergyCalc/interface.ccl'\n",
      "Over-writing file 'arrangements/FunwaveUtils/EnergyCalc/param.ccl'\n",
      "Over-writing file 'arrangements/FunwaveUtils/EnergyCalc/configuration.ccl'\n",
      "Ensuring directory 'arrangements/FunwaveUtils/EnergyCalc/src'\n",
      "Over-writing file 'arrangements/FunwaveUtils/EnergyCalc/src/make.code.defn'\n",
      "Over-writing file 'arrangements/FunwaveUtils/EnergyCalc/README'\n",
      "Ensuring directory 'arrangements/FunwaveUtils/EnergyCalc/test'\n",
      "Ensuring directory 'arrangements/FunwaveUtils/EnergyCalc/par'\n",
      "Ensuring directory 'arrangements/FunwaveUtils/EnergyCalc/doc'\n"
     ]
    }
   ],
   "source": [
    "create_thorn()"
   ]
  },
  {
   "cell_type": "code",
   "execution_count": 15,
   "metadata": {},
   "outputs": [
    {
     "name": "stdout",
     "output_type": "stream",
     "text": [
      "Over-writing file 'my_thorns.th'\n"
     ]
    }
   ],
   "source": [
    "my_thorns_contents=\"\"\"\n",
    "# ./configs/sim/ThornList\n",
    "# This file was automatically generated using the GetComponents script.\n",
    "\n",
    "!CRL_VERSION = 2.0\n",
    "\n",
    "\n",
    "# Component list: funwave.th\n",
    "\n",
    "!DEFINE ROOT = CactusFW2\n",
    "!DEFINE ARR = $ROOT/arrangements\n",
    "!DEFINE ET_RELEASE = trunk\n",
    "!DEFINE FW_RELEASE = FW_2014_05\n",
    "\n",
    "#Cactus Flesh\n",
    "!TARGET   = $ROOT\n",
    "!TYPE     = git\n",
    "!URL      = https://bitbucket.org/cactuscode/cactus.git\n",
    "!NAME     = flesh\n",
    "!CHECKOUT = CONTRIBUTORS COPYRIGHT doc lib Makefile src\n",
    "\n",
    "!TARGET   = $ARR\n",
    "!TYPE     = git\n",
    "!URL      = https://bitbucket.org/stevenrbrandt/cajunwave.git\n",
    "!REPO_PATH= $2\n",
    "# Old version\n",
    "#!AUTH_URL = https://svn.cct.lsu.edu/repos/projects/ngchc/code/branches/$FW_RELEASE/$1/$2\n",
    "#!URL = https://svn.cct.lsu.edu/repos/projects/ngchc/code/branches/$FW_RELEASE/$2\n",
    "#!URL = https://svn.cct.lsu.edu/repos/projects/ngchc/code/CactusCoastal/$2\n",
    "!CHECKOUT =\n",
    "CactusCoastal/Funwave\n",
    "CactusCoastal/FunwaveMesh\n",
    "CactusCoastal/FunwaveCoord\n",
    "CactusCoastal/Tridiagonal\n",
    "CactusCoastal/Tridiagonal2\n",
    "\n",
    "# CactusBase thorns\n",
    "!TARGET   = $ARR\n",
    "!TYPE     = git\n",
    "!URL      = https://bitbucket.org/cactuscode/cactusbase.git\n",
    "!REPO_PATH= $2\n",
    "!CHECKOUT =\n",
    "CactusBase/Boundary\n",
    "CactusBase/CartGrid3D\n",
    "CactusBase/CoordBase\n",
    "CactusBase/Fortran\n",
    "CactusBase/InitBase\n",
    "CactusBase/IOASCII\n",
    "CactusBase/IOBasic\n",
    "CactusBase/IOUtil\n",
    "CactusBase/SymBase\n",
    "CactusBase/Time\n",
    "#\n",
    "# CactusNumerical thorns\n",
    "!TARGET   = $ARR\n",
    "!TYPE     = git\n",
    "!URL      = https://bitbucket.org/cactuscode/cactusnumerical.git\n",
    "!REPO_PATH= $2\n",
    "!CHECKOUT =\n",
    "!CHECKOUT =\n",
    "CactusNumerical/MoL\n",
    "CactusNumerical/LocalInterp\n",
    "\n",
    "CactusNumerical/Dissipation\n",
    "CactusNumerical/SpaceMask\n",
    "CactusNumerical/SphericalSurface\n",
    "CactusNumerical/LocalReduce\n",
    "CactusNumerical/InterpToArray\n",
    "\n",
    "!TARGET   = $ARR\n",
    "!TYPE     = git\n",
    "!URL      = https://bitbucket.org/cactuscode/cactusutils.git\n",
    "!REPO_PATH= $2\n",
    "!CHECKOUT = CactusUtils/Accelerator CactusUtils/OpenCLRunTime\n",
    "CactusUtils/NaNChecker\n",
    "CactusUtils/Vectors\n",
    "CactusUtils/SystemTopology\n",
    "\n",
    "# Carpet, the AMR driver\n",
    "!TARGET   = $ARR\n",
    "!TYPE     = git\n",
    "!URL      = https://bitbucket.org/eschnett/carpet.git\n",
    "!REPO_PATH= $2\n",
    "!CHECKOUT = Carpet/doc\n",
    "Carpet/Carpet\n",
    "Carpet/CarpetEvolutionMask\n",
    "Carpet/CarpetIOASCII\n",
    "Carpet/CarpetIOBasic\n",
    "Carpet/CarpetIOHDF5\n",
    "Carpet/CarpetIOScalar\n",
    "#Carpet/CarpetIntegrateTest\n",
    "Carpet/CarpetInterp\n",
    "Carpet/CarpetInterp2\n",
    "Carpet/CarpetLib\n",
    "Carpet/CarpetMask\n",
    "#Carpet/CarpetProlongateTest\n",
    "Carpet/CarpetReduce\n",
    "Carpet/CarpetRegrid\n",
    "Carpet/CarpetRegrid2\n",
    "#Carpet/CarpetRegridTest\n",
    "Carpet/CarpetSlab\n",
    "Carpet/CarpetTracker\n",
    "Carpet/CycleClock\n",
    "#Carpet/HighOrderWaveTest\n",
    "Carpet/LoopControl\n",
    "#Carpet/ReductionTest\n",
    "#Carpet/ReductionTest2\n",
    "#Carpet/ReductionTest3\n",
    "#Carpet/RegridSyncTest\n",
    "Carpet/TestCarpetGridInfo\n",
    "Carpet/TestLoopControl\n",
    "Carpet/Timers\n",
    "\n",
    "# Additional Cactus thorns\n",
    "!TARGET   = $ARR\n",
    "!TYPE     = svn\n",
    "!URL      = https://svn.cactuscode.org/projects/$1/$2/trunk\n",
    "!CHECKOUT = ExternalLibraries/OpenBLAS ExternalLibraries/OpenCL ExternalLibraries/pciutils ExternalLibraries/PETSc\n",
    "ExternalLibraries/MPI\n",
    "ExternalLibraries/HDF5\n",
    "ExternalLibraries/zlib\n",
    "ExternalLibraries/hwloc\n",
    "\n",
    "# Simulation Factory\n",
    "!TARGET   = $ROOT/simfactory\n",
    "!TYPE     = git\n",
    "!URL      = https://bitbucket.org/simfactory/simfactory2.git\n",
    "!NAME     = simfactory2\n",
    "!CHECKOUT = README.md README_FIRST.txt bin doc etc lib mdb\n",
    "\n",
    "# Various thorns from LSU\n",
    "#!TARGET   = $ARR\n",
    "#!TYPE     = git\n",
    "#!URL      = https://bitbucket.org/einsteintoolkit/archivedthorns-vectors.git\n",
    "#!REPO_PATH= $2\n",
    "#!CHECKOUT =\n",
    "#LSUThorns/Vectors\n",
    "#LSUThorns/QuasiLocalMeasures\n",
    "#LSUThorns/SummationByParts\n",
    "#LSUThorns/Prolong\n",
    "\n",
    "#Roland/MapPoints\n",
    "#Tutorial/BadWaveMoL\n",
    "#Tutorial/BasicWave\n",
    "#Tutorial/BasicWave2\n",
    "#Tutorial/BasicWave3\n",
    "\n",
    "# Various thorns from the AEI\n",
    "# Numerical\n",
    "!TARGET   = $ARR\n",
    "!TYPE     = git\n",
    "!URL      = https://bitbucket.org/cactuscode/numerical.git\n",
    "!REPO_PATH= $2\n",
    "!CHECKOUT =\n",
    "#AEIThorns/ADMMass\n",
    "AEIThorns/AEILocalInterp\n",
    "#AEIThorns/PunctureTracker\n",
    "#AEIThorns/SystemStatistics\n",
    "#AEIThorns/Trigger\n",
    "{arrangement_name}/{thorn_name}\"\"\"\n",
    "create_file(\"my_thorns.th\",my_thorns_contents,thorn_pars)"
   ]
  },
  {
   "cell_type": "code",
   "execution_count": 16,
   "metadata": {},
   "outputs": [
    {
     "name": "stdout",
     "output_type": "stream",
     "text": [
      "Traceback (most recent call last):\r\n",
      "  File \"./simfactory/bin/../lib/sim.py\", line 51, in <module>\r\n",
      "    __import__(n)\r\n",
      "  File \"/home/ejwest/phy/research/current/sandbox/ETK/CactusFW2/repos/simfactory2/lib/sim-sync.py\", line 164\r\n",
      "    cmd = \"%(rsynccmd)s --rsh=%(sshcmd)s --rsync-path=%(entry_rsynccmd)s %(defaultrsyncoptions)s %(rsyncopts)s %(entry_rsyncopts)s %(arguments)s %(rsyncfiles)s %(fullpath)s\" %\r\n",
      "                                                                                                                                                                              ^\r\n",
      "SyntaxError: invalid syntax\r\n",
      "Command exited with non-zero status 1\r\n",
      "0.05user 0.00system 0:00.07elapsed 86%CPU (0avgtext+0avgdata 11776maxresident)k\r\n",
      "0inputs+8outputs (0major+3177minor)pagefaults 0swaps\r\n"
     ]
    }
   ],
   "source": [
    "!time ./simfactory/bin/sim build -j 2 --thornlist=./my_thorns.th"
   ]
  },
  {
   "cell_type": "markdown",
   "metadata": {},
   "source": [
    "Congrats! You've created an empty thorn."
   ]
  },
  {
   "cell_type": "markdown",
   "metadata": {
    "collapsed": true
   },
   "source": [
    "Questions:\n",
    "* What does ccl stand for?\n",
    "* What are the basic types of ccl files?\n",
    "* What is a grid function?\n",
    "* In which file are grid functions declared?\n",
    "* How is storage allocated for a grid function?\n",
    "* If your thorn isn't getting compiled, what did you forget to do?\n",
    "* If a source file that you created isn't getting compiled, what did you forget to do?"
   ]
  },
  {
   "cell_type": "markdown",
   "metadata": {
    "collapsed": true
   },
   "source": [
    "<table><tr><td>This work sponsored by NSF grants <a href=\"https://www.nsf.gov/awardsearch/showAward?AWD_ID=1550551\"> OAC 1550551</a> and <a href=\"https://www.nsf.gov/awardsearch/showAward?AWD_ID=1539567\"> CCF 1539567</a></td><td><img src=\"https://www.nsf.gov/awardsearch/images/common/nsf_logo_bottom.png\"></tr></table>"
   ]
  },
  {
   "cell_type": "code",
   "execution_count": null,
   "metadata": {
    "collapsed": true
   },
   "outputs": [],
   "source": []
  }
 ],
 "metadata": {
  "kernelspec": {
   "display_name": "Python 2",
   "language": "python",
   "name": "python2"
  },
  "language_info": {
   "codemirror_mode": {
    "name": "ipython",
    "version": 3
   },
   "file_extension": ".py",
   "mimetype": "text/x-python",
   "name": "python",
   "nbconvert_exporter": "python",
   "pygments_lexer": "ipython3",
   "version": "3.5.2"
  }
 },
 "nbformat": 4,
 "nbformat_minor": 2
}
