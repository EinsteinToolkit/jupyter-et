{
 "cells": [
  {
   "cell_type": "markdown",
   "id": "ea3ecb75",
   "metadata": {},
   "source": [
    "# Customizing the Parameter File for Binary Neutron Stars Runs with the Einstein Toolkit \n",
    "---\n",
    "#### by Maria C Hamilton"
   ]
  },
  {
   "cell_type": "markdown",
   "id": "0ab3143b",
   "metadata": {},
   "source": [
    "## Parametrized Piecewise Polytropic Equations of State\n",
    "---\n",
    "\n",
    "### Preliminaries\n",
    "---\n",
    "* Binary Neutron Stars Initial Data generated with the code [LORENE](https://lorene.obspm.fr/) \n",
    "- An excellent collection of initial data can be found [here:](https://ccrgpages.rit.edu/~jfaber/BNSID/Data/)\n",
    "* Access to a cluster with the Einstein Toolkit running on it."
   ]
  },
  {
   "cell_type": "markdown",
   "id": "f63a50fb",
   "metadata": {
    "slideshow": {
     "slide_type": "slide"
    }
   },
   "source": [
    "### Background\n",
    "---\n",
    "* A polytropic EOS is described by: $P=K \\rho^{\\Gamma}$ with $K$ polytropic constant and $\\Gamma$ polytropic index\n",
    "* Read about parametrized polytropic equations of state (*EOS*) presented in \n",
    "    - https://arxiv.org/pdf/0812.2163.pdf \n",
    "\n",
    "The authors build a model for various 7-pieces hybrid piecewise polytropes EOS, where the first 4 pieces, below nuclear density, are fixed to the nucleonic Skyrme-Lyon equation of state, and the next 3 parameters are freely specified by the user."
   ]
  },
  {
   "cell_type": "markdown",
   "id": "c2a73635",
   "metadata": {},
   "source": [
    "### Path and Type of  EOS \n",
    "---\n",
    "We start with the parameter file from the Einstein Toolkit Gallery **nsnstohmns.par**.\n",
    "- First, we change the path to upload the desired initial data for the parametrized EOS: \n",
    "\n",
    "``Meudon_Bin_NS::filename = \"<path to resu.d>\" ``\n",
    "\n",
    "- Next, we must add a parameter for the EOS type to **Meudon_Bin_NS**: \n",
    "\n",
    "`` Meudon_Bin_NS::eos_table = \"Hybrid\" ``\n",
    "\n",
    "- Lastly, we must change the type of the EOS for **GRHydro**, as well: \n",
    "\n",
    "`` GRHydro::GRHydro_eos_table = \"Ideal_Fluid\" `` \n",
    "\n",
    "becomes \n",
    "\n",
    "`` GRHydro::GRHydro_eos_table = \"Hybrid\" ``"
   ]
  },
  {
   "cell_type": "markdown",
   "id": "70c3eff9",
   "metadata": {},
   "source": [
    "### Athmosphere and Number of Pieces \n",
    "---\n",
    "* We must keep the previous values for $k$ and $\\Gamma$ for the one-piece polytropic EOS, already included in **nsnstohmns.par**, because they are necessary for the hybrid EOS as the athmosphere:\n",
    "\n",
    "``EOS_Omni::poly_K = 123.64110496340211``\n",
    "\n",
    "``EOS_Omni::poly_gamma = 2.0`` *# already specified in  EOS_Omni*\n",
    "\n",
    "* We specify the number of the hybrid pieces, and the thermal component $\\Gamma_{th}$ corresponding to a cold EOS (see https://arxiv.org/abs/1006.3315):\n",
    "\n",
    "`` EOS_Omni::n_pieces = 7``\n",
    "\n",
    "``EOS_Omni::hybrid_gamma_th = 1.8``\n",
    "\n",
    "Next, the thorn **EOS_Omni** requires the parameters ``hybrid_k0``, ``hybrid_gamma[0..6]`` and ``hybrid_rho[0...6]`` necessary for the specific EOS. \n",
    "Out of those parameters, all except ``hybrid_gamma[4]`` are known and can be taken directly, either from https://arxiv.org/pdf/0812.2163.pdf or https://arxiv.org/pdf/2008.03342.pdf. "
   ]
  },
  {
   "cell_type": "markdown",
   "id": "679ac3a1",
   "metadata": {},
   "source": [
    "### Crust and the Fixed Part of the Parametrized Piecewise EOS\n",
    "---\n",
    "* The first 4 pieces of the 7 pieces hybrid EOS correspond to a 4 pieces piecewise polytropic nucleonic Skyrme-Lyon (*SLy(4)*) equation of state.\n",
    "\n",
    "* These values are taken directly from https://arxiv.org/pdf/0812.2163.pdf\n",
    "\n",
    "* Below is Table II, from the 2008 paper by *Read et al* https://arxiv.org/pdf/0812.2163.pdf, giving the necessary quantities for the *Sly* piecewise polytrope (*PP*) model in *cgs* units. \n",
    "\n",
    "| $K_i$ | $\\Gamma_i$ | $\\rho_i$| \n",
    "| --- | --- | --- | \n",
    "| 6.80110 e-09 | 1.58425 | 2.44034 e+07 | \n",
    "| 1.06186 e-06 | 1.28733 | 3.78358 e+11 | \n",
    "| 5.32697 e+01 | 0.62223 | 2.62780 e+12 | \n",
    "| 3.99874 e-08 | 1.35692 | - |"
   ]
  },
  {
   "cell_type": "markdown",
   "id": "779baa2a",
   "metadata": {},
   "source": [
    "#### Fixed *Sly* EOS for $\\Gamma_i$\n",
    "---\n",
    "* As explained above, all the coefficients ``hybrid_gammas`` are known and can be entered directly because they are unitless; for example, for the piecewise polytrope (PP) model they will be:\n",
    "\n",
    "``EOS_Omni::hybrid_gamma[0] = 1.58425 ``\n",
    "\n",
    "``EOS_Omni::hybrid_gamma[1] = 1.28733 ``\n",
    "\n",
    "``EOS_Omni::hybrid_gamma[2] = 0.62223 ``\n",
    "\n",
    "``EOS_Omni::hybrid_gamma[3] = 1.35692 ``"
   ]
  },
  {
   "cell_type": "markdown",
   "id": "17e9b8c1",
   "metadata": {},
   "source": [
    "#### Fixed *Sly* EOS for $\\rho_i$\n",
    "---\n",
    "* We will add next the three densities to the parameter file, but before that, we must transform\n",
    "    - from *cgs* units $g/cm^3$ to *SI* units $kg/m^3$\n",
    "    - from *mks* units to Cactus Units *CU* \n",
    "    \n",
    "##### Cactus Units\n",
    "* The code uses a geometrized system of units, in which the universal constants become unitless and unity: $G=c=1$, the mass is expressed in terms of the solar mass $M_{\\cdot}$, which then is geometrized to 1 to represent **Cactus units** (*CU*). All the other *mks* units are expressed in terms of the mass. The transormation from Cactus units to *mks* units goes as follows:  "
   ]
  },
  {
   "cell_type": "code",
   "execution_count": 1,
   "id": "8c2bcbe8",
   "metadata": {},
   "outputs": [
    {
     "name": "stdout",
     "output_type": "stream",
     "text": [
      "6.172412699782906e+20\n"
     ]
    }
   ],
   "source": [
    "# units transformation from mks to Cactus units\n",
    "M0 = 1.98892*pow(10,30)\n",
    "G = 6.67428*pow(10,-11)\n",
    "c = 2.9979*pow(10,8)\n",
    "M_mks = M0 # mass\n",
    "L_mks = M_mks*G*pow(c,-2) #length\n",
    "T_mks = M_mks*G*pow(c,-3) #time\n",
    "rho_mks_CU = M_mks/pow(L_mks,3)\n",
    "print(rho_mks_CU)"
   ]
  },
  {
   "cell_type": "markdown",
   "id": "a613eb70",
   "metadata": {},
   "source": [
    "* To transform the density from *mks* to Cactus units we do the following:\n",
    "    \n",
    "    $$\\rho[{CU}] = \\frac{\\rho[{mks}]}{\\rho_{mks\\rightarrow CU}}$$\n",
    "where $\\rho_{mks\\rightarrow CU} = 6.1727\\times 10^{20}$ is the constant that transforms the density from *mks* to Cactus units.\n",
    "*For a good explanation check  https://en.wikipedia.org/wiki/Geometrized_unit_system and\n",
    "https://arxiv.org/pdf/physics/0110060.pdf.*\n",
    "\n",
    "##### Sample Calculation\n",
    "* Let's take the density from the *PP* model of *SLy* EOS table above in *cgs* and transform in Cactus units: \n",
    "    $$\\rho_{0} = 2.44034 \\times 10^{7}~[cgs] \n",
    "    = 2.44034 \\times 10^{10}~[mks] \\\\\n",
    "    = 3.95384\\times 10^{-11}~[CU]$$ "
   ]
  },
  {
   "cell_type": "code",
   "execution_count": 2,
   "id": "0e20634b",
   "metadata": {},
   "outputs": [
    {
     "name": "stdout",
     "output_type": "stream",
     "text": [
      "[3.95362416e-11 6.12982343e-07 4.25733036e-06]\n"
     ]
    }
   ],
   "source": [
    "import numpy as np\n",
    "rho_SLy4 = np.array([2.44034*pow(10,7),3.78358*pow(10,11),2.62780*pow(10,12)])\n",
    "rho_SLy4_CU = rho_SLy4*pow(10,3)/rho_mks_CU\n",
    "print(rho_SLy4_CU)"
   ]
  },
  {
   "cell_type": "markdown",
   "id": "cd9652dc",
   "metadata": {},
   "source": [
    "* Now we can add to the parameter file the first three fixed densities that describe the $Sly$ hybrid EOS chosen.\n",
    "\n",
    "``EOS_Omni::hybrid_rho[0] = 3.951156e-11`` \n",
    "        \n",
    "``EOS_Omni::hybrid_rho[1] = 6.125960e-07``\n",
    "        \n",
    "``EOS_Omni::hybrid_rho[2] = 4.254672e-06``"
   ]
  },
  {
   "cell_type": "markdown",
   "id": "1375ac57",
   "metadata": {},
   "source": [
    "#### Fixed *Sly* EOS for $K_0$\n",
    "The last component for the fixed part of the EOS is $K_0$, the polytropic coefficient of the first piece. \n",
    "We calculate $K_0$ in Cactus units as the ratio:\n",
    "$$K_{0}[CU] = \\frac{p_{0}[CU]}{\\rho_{0}[CU]^{Γ_0}}$$\n",
    "We already calculated $\\rho_0$ in Cactus units, let's calculate now $p_0$ in Cactus units. The unit for pressure has the following value in Cactus units:"
   ]
  },
  {
   "cell_type": "code",
   "execution_count": 3,
   "id": "856bcf49",
   "metadata": {},
   "outputs": [
    {
     "name": "stdout",
     "output_type": "stream",
     "text": [
      "5.547396911836889e+37\n"
     ]
    }
   ],
   "source": [
    "F_mks = M_mks*L_mks*pow(T_mks,-2)# force\n",
    "p_mks = F_mks/pow(L_mks,2)\n",
    "print(p_mks)"
   ]
  },
  {
   "cell_type": "markdown",
   "id": "1198f348",
   "metadata": {},
   "source": [
    "There is a subtlety we must account for when calculating the pressure.\n",
    "[Read et al](https://arxiv.org/pdf/2008.03342.pdf) absorbed the speed of light $c$ into the definition of the pressure, such that it has the same *cgs* unit as the density.\n",
    "This means that we must rescale with $c^2$ the pressure we compute from the EOS equation to transform it to *mks* units, in the following way:\n",
    "$pressure = \\frac{energy}{volume} = c^2 \\frac{mass}{volume}$.\n",
    "Thus, the equation of state is corrected to *cgs* units this way: \n",
    "$$P/c^2 = p = K_i \\rho_i^{\\Gamma_{i}}$$\n",
    "where the pressure $P$ is now measured in *dyne/cm^2* and the speed of light is measured in *cm/s*.\n",
    "When we transform this to *mkg* we get:\n",
    "$$P[mks] = 0.1 P[cgs]\n",
    "        = 0.1 c^2[cgs] p\n",
    "        = 10^3 c^2[mks] p$$\n",
    "\n",
    "We present the calculation below:"
   ]
  },
  {
   "cell_type": "code",
   "execution_count": 4,
   "id": "3dbd6bd4",
   "metadata": {},
   "outputs": [
    {
     "name": "stdout",
     "output_type": "stream",
     "text": [
      "168.52039510283151\n"
     ]
    }
   ],
   "source": [
    "K0 = 6.80110*pow(10,-9)\n",
    "rho0 = rho_SLy4[0] #2.44034*pow(10,7)\n",
    "Gamma0 = 1.58425\n",
    "p0 = K0*pow(rho0,Gamma0)\n",
    "p0_SI = p0*pow(c,2)*pow(10,3)\n",
    "p0_CU = p0_SI/p_mks\n",
    "rho0_CU = rho_SLy4_CU[0]\n",
    "K0_CU = p0_CU/pow(rho0_CU,Gamma0)\n",
    "print(K0_CU)"
   ]
  },
  {
   "cell_type": "markdown",
   "id": "243b856a",
   "metadata": {},
   "source": [
    "Finally, we enter the value calulated in the parameter:\n",
    "\n",
    "``EOS_Omni::hybrid_k0 = 1.685819e2``"
   ]
  },
  {
   "cell_type": "markdown",
   "id": "2eb76977",
   "metadata": {},
   "source": [
    "### Specific EOS Parameters\n",
    "---\n",
    "\n",
    "* Before we will start to calculate the necessary quantities, we emphasize that in https://arxiv.org/pdf/0812.2163.pdf the central density of each EOS is fixed at $\\rho_5 = 10^{15} g/cm^3$ and the next to central density is fixed at $\\rho_4 = 10^{14.7} g/cm^3$.\n",
    "\n",
    "* We transform those densities in Cactus units and enter them in the parameter file: \n",
    "\n",
    "``EOS_Omni::hybrid_rho[4] = 8.11931e-04``\n",
    "\n",
    "``EOS_Omni::hybrid_rho[5] = 1.62002e-03``"
   ]
  },
  {
   "cell_type": "code",
   "execution_count": 5,
   "id": "090886f1",
   "metadata": {},
   "outputs": [
    {
     "name": "stdout",
     "output_type": "stream",
     "text": [
      "[0.00081198 0.00162011]\n"
     ]
    }
   ],
   "source": [
    "rhoC = np.array([pow(10,14.7),pow(10,15)])\n",
    "rhoC_CU = rhoC*pow(10,3)/rho_mks_CU\n",
    "print(rhoC_CU)"
   ]
  },
  {
   "cell_type": "markdown",
   "id": "c3cc9350",
   "metadata": {},
   "source": [
    "* The three specific polytropic indices for the 7 pieces EOS are also known, and are given in **Table III** from https://arxiv.org/pdf/0812.2163.pdf. As example, below are the specific EOS parameters for the 7 pieces *SLy* EOS: \n",
    "\n",
    "| EOS | $\\lg P$ | $\\Gamma_4$ | $\\Gamma_5$ | $\\Gamma_6$ |\n",
    "| --- | --- |--- | --- | --- | \n",
    "| SLy |  34.384 | 3.005 | 2.988 | 2.851 |\n",
    "\n",
    "* Those values for $\\Gamma_i$ will be entered as they are, because they are unitless. \n",
    "\n",
    "``EOS_Omni::hybrid_gamma[4] = 3.005 ``\n",
    "\n",
    "``EOS_Omni::hybrid_gamma[5] = 2.988 ``\n",
    "\n",
    "``EOS_Omni::hybrid_gamma[6] = 2.851 ``\n",
    "\n",
    "* Thus, the only unknown part, and the most important one, is the matching density $\\rho_3$."
   ]
  },
  {
   "cell_type": "markdown",
   "id": "5d3c31f0",
   "metadata": {},
   "source": [
    "### Shortcut to calculating $\\rho_3$\n",
    "\n",
    "* One can take a shortcut, and simply use the values from the densities $\\rho_i$ directly from the  file ``par_eos.d`` provided by **LORENE**, which gives the exponent of densities, namely $\\lg \\rho$.\n",
    "* For example, in this file, we find that for the *SLy* EOS, $\\lg \\rho_3 = 14.165$. From here we calculate:  \n",
    "$$\\rho_3 = 1.46218\\times 10^{14}~(cgs) = 0.000236875~(CU)$$ \n",
    "\n",
    "* We add the final and most important piece to our parameter file:\n",
    "\n",
    "``EOS_Omni::hybrid_rho[3] = 2.36875e-04``"
   ]
  },
  {
   "cell_type": "markdown",
   "id": "c936bec7",
   "metadata": {},
   "source": [
    "### The long way to calculating $\\rho_3$\n",
    "\n",
    "* Another way of computing $\\rho_3$, if ``par_eos.d`` is not available, is by using the reccurence relation provided in https://arxiv.org/pdf/0812.2163.pdf.\n",
    "\n",
    "* The condition for the continuity of pressure at a density $\\rho_i$ reads: $$p(\\rho_i) = K_i \\rho_i^{\\Gamma_{i}} = K_{i+1} {\\rho_i}^{\\Gamma_{i+1}}$$\n",
    "* This leads to the important relation:\n",
    "$$K_{i+1} = K_i \\rho_i^{Γ_i - \\Gamma_{i+1}}$$\n",
    "\n",
    "* We are provided in https://arxiv.org/pdf/0812.2163.pdf with $\\lg p_4$ and will use again the *SLy* EOS  as example. \n",
    "\n",
    "* Let's first calculate the pressure\n",
    "$$P_4 = 10^{\\lg p} = 2.42103 \\times 10^{34} ~(cgs).$$\n",
    "We must transform the pressure in units of density, in order to plug it into the EOS, so we need to divide by $c^2$, thus $p_4 = P_4/ c^2$\n",
    "* We obtain that \n",
    "$P_4 = 10^4 c^2 K_4 \\rho_4^{\\Gamma_4}$, where $K_4$ is given by the recurrence relation $K_4  = K_3 \\rho_3^{\\Gamma_3 - \\Gamma_4}$.\n",
    "* The only unknown is $\\rho_3$, and we solve for it. "
   ]
  },
  {
   "cell_type": "code",
   "execution_count": 6,
   "id": "9addd3fa",
   "metadata": {},
   "outputs": [
    {
     "name": "stdout",
     "output_type": "stream",
     "text": [
      "2.693802e+13\n"
     ]
    }
   ],
   "source": [
    "logp4 = 34.384\n",
    "p4 = pow(10, logp4)/(pow(10,4)*pow(c,2))\n",
    "print(\"%e\" % p4)\n",
    "rho4 = rhoC[0]\n",
    "Gamma3 = 1.35692\n",
    "Gamma4 = 3.005\n",
    "K3 = 3.99874 * pow(10,-8)"
   ]
  },
  {
   "cell_type": "code",
   "execution_count": 7,
   "id": "a53a196d",
   "metadata": {},
   "outputs": [
    {
     "name": "stdout",
     "output_type": "stream",
     "text": [
      "3.99874e-8*rho3**(-1.64808)\n"
     ]
    }
   ],
   "source": [
    "from sympy import symbols, Eq, solve\n",
    "rho3 = symbols('rho3')\n",
    "\n",
    "K4 = K3*rho3 ** (Gamma3 - Gamma4)\n",
    "print(K4)"
   ]
  },
  {
   "cell_type": "code",
   "execution_count": 8,
   "id": "2efb08ce",
   "metadata": {},
   "outputs": [
    {
     "name": "stdout",
     "output_type": "stream",
     "text": [
      "26938022773765.2 - 5.96242826509895e+36*rho3**(-1.64808)\n"
     ]
    }
   ],
   "source": [
    "eq = p4 - K4 * pow(rho4,Gamma4)\n",
    "print(eq)"
   ]
  },
  {
   "cell_type": "markdown",
   "id": "9b8aefa0",
   "metadata": {},
   "source": [
    "We obtained a relationship between $p_4$ and $\\rho_3$:\n",
    "$$2.69380 \\times 10^{13}\n",
    "= \\frac{5.96242 \\times 10^{36}}{\\rho_3^{1.64808}}$$\n",
    "* Solving this equation we obtain again: $\\rho_3 =  1.46218585922\\times 10^{14}.$\n",
    "\n",
    "* We could also check the recurrence relationship, and calculate the missing polytropic constants:"
   ]
  },
  {
   "cell_type": "code",
   "execution_count": 9,
   "id": "a7c3bbc8",
   "metadata": {},
   "outputs": [
    {
     "name": "stdout",
     "output_type": "stream",
     "text": [
      "1.0618444833278537e-06\n",
      "53.275084583961515\n",
      "3.9992069172431924e-08\n",
      "1.8068263838794974e-31\n",
      "3.3015389117287475e-31\n",
      "3.747282373175135e-29\n"
     ]
    }
   ],
   "source": [
    "Ki = np.array([6.80110*pow(10,-9),1.06186*pow(10,-6),5.32697*pow(10,+1),3.99874*pow(10,-8),1.80663*pow(10,-31),3.21196*pow(10,-31),3.64558*pow(10,-29)])\n",
    "Gammai = np.array([1.58425,1.28733,0.62223,1.35692,3.005,2.988,2.851])\n",
    "rhoi = np.array([2.44034*pow(10,7),3.78358*pow(10,11),2.62780*pow(10,12),1.4621858592205103*pow(10,14),5.01187*pow(10,14.7),pow(10,15)])\n",
    "for i in range(6):\n",
    "    Ki[i+1] = Ki[i]*pow(rhoi[i],(Gammai[i] - Gammai[i+1]))\n",
    "    print(Ki[i+1])"
   ]
  },
  {
   "cell_type": "markdown",
   "id": "f4161ac9",
   "metadata": {},
   "source": [
    "* We see that we obtain a vey good agreement with the given $K_{(0...4)}$\n",
    "* We do not need to go further, but we could fill in the previous **Table 2** by calculating the pressure as well:"
   ]
  },
  {
   "cell_type": "code",
   "execution_count": 10,
   "id": "c9d3c629",
   "metadata": {},
   "outputs": [
    {
     "name": "stdout",
     "output_type": "stream",
     "text": [
      "3.088742e+24\n",
      "7.660850e+29\n",
      "2.558594e+30\n",
      "5.975627e+32\n",
      "3.072912e+36\n",
      "1.960427e+35\n"
     ]
    }
   ],
   "source": [
    "pi = np.empty(shape=6)\n",
    "for i in range(6):\n",
    "    pi[i] = Ki[i+1]*pow(rhoi[i],Gammai[i+1])*(pow(10,4)*pow(c,2))\n",
    "    print(\"%e\" %pi[i])"
   ]
  },
  {
   "cell_type": "markdown",
   "id": "96b235ec",
   "metadata": {},
   "source": [
    "* We do not need to go further, but we could fill in the previous **Table 2** \n",
    "\n",
    "| EOS piece | $K_i$ | $\\Gamma_i$ | $\\rho_i$ |  $p_i$$dyne/cm^2$|\n",
    "| --- | --- | --- | --- | --- |\n",
    "| 0 | 6.80110 e-09 | 1.58425 | 2.44034 e+07 | 3.0893 e+24 |\n",
    "| 1 | 1.06186 e-06 | 1.28733 | 3.78358 e+11 | 7.6609 e+29 |\n",
    "| 2 | 5.32697 e+01 | 0.62223 | 2.62780 e+12 | 2.55836 e+30 |\n",
    "| 3 | 3.99874 e-08 | 1.35692 | 1.46219 e+14 |5.97492 e+32|\n",
    "| 4 | 1.80663 e-31 | 3.005   | 5.01187 e+14 | 2.42103 e+34  |\n",
    "| 5 | 3.21196 e-31 | 2.988   | 1. e+15 | 1.90722 e+35 |\n",
    "| 6 | 3.64558 e-29 | 2.851   | -  | -  |"
   ]
  },
  {
   "cell_type": "markdown",
   "id": "98444935",
   "metadata": {},
   "source": [
    "### Special thanks\n",
    "* Joshua Faber, RIT\n",
    "* Tanmayee Gupte, RIT \n",
    "* Leonardo Werneck, WVU"
   ]
  }
 ],
 "metadata": {
  "kernelspec": {
   "display_name": "Python 3",
   "language": "python",
   "name": "python3"
  },
  "language_info": {
   "codemirror_mode": {
    "name": "ipython",
    "version": 3
   },
   "file_extension": ".py",
   "mimetype": "text/x-python",
   "name": "python",
   "nbconvert_exporter": "python",
   "pygments_lexer": "ipython3",
   "version": "3.6.9"
  }
 },
 "nbformat": 4,
 "nbformat_minor": 5
}
