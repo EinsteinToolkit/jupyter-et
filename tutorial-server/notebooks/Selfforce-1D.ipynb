{
 "cells": [
  {
   "cell_type": "markdown",
   "metadata": {},
   "source": [
    "## Introduction\n",
    "\n",
    "This notebook illustrates how to checkout, compile and run the SelfForce-1D code. The code uses the python based SCons for building the code and in addition to what is done in this notebook it requires GSL, BLAS and LAPACK to be installed."
   ]
  },
  {
   "cell_type": "markdown",
   "metadata": {},
   "source": [
    "## Notebook setup\n",
    "This notebook is intended to be used online on the Einstein Toolkit tutorial server, offline as a read-only document, as a jupyter notebook that you can download and also in your own docker container using `ndslabs/jupyter-et`. To make all of these work some setting need to be tweaked, which we do in the next cell."
   ]
  },
  {
   "cell_type": "code",
   "execution_count": null,
   "metadata": {},
   "outputs": [],
   "source": [
    "# this allows you to use \"cd\" in cells to change directories instead of requiring \"%cd\"\n",
    "%automagic on\n",
    "# override IPython's default %%bash to not buffer all output\n",
    "from IPython.core.magic import register_cell_magic\n",
    "@register_cell_magic\n",
    "def bash(line, cell): get_ipython().system(cell)\n",
    "# Some versions of OpenMPI prevent oversubscribing cpus, which may happen if simfactory's\n",
    "# number of cores detection is imperfect.\n",
    "# OpenMPI by default pins MPI ranks to specific cores, which causes issues on shared\n",
    "# system like the tutorial cluster.\n",
    "import os\n",
    "os.environ[\"OMPI_MCA_rmaps_base_oversubscribe\"] = \"true\"\n",
    "os.environ[\"OMPI_MCA_hwloc_base_binding_policy\"] = \"none\"\n",
    "import scrolldown"
   ]
  },
  {
   "cell_type": "markdown",
   "metadata": {},
   "source": [
    "## Download\n",
    "\n",
    "Download is done simply by doing a git clone from the bitbucket repository."
   ]
  },
  {
   "cell_type": "code",
   "execution_count": null,
   "metadata": {},
   "outputs": [],
   "source": [
    "cd ~/"
   ]
  },
  {
   "cell_type": "code",
   "execution_count": null,
   "metadata": {},
   "outputs": [],
   "source": [
    "%%bash\n",
    "rm -fr selfforce-1d Examples"
   ]
  },
  {
   "cell_type": "markdown",
   "metadata": {},
   "source": [
    "Download the code from bitbucket."
   ]
  },
  {
   "cell_type": "code",
   "execution_count": null,
   "metadata": {},
   "outputs": [],
   "source": [
    "%%bash\n",
    "git clone https://peterdiener@bitbucket.org/peterdiener/selfforce-1d.git"
   ]
  },
  {
   "cell_type": "markdown",
   "metadata": {},
   "source": [
    "Take a look at the home directory. The SelfForce-1D code should now be in selfforce-1d."
   ]
  },
  {
   "cell_type": "code",
   "execution_count": null,
   "metadata": {},
   "outputs": [],
   "source": [
    "ls"
   ]
  },
  {
   "cell_type": "markdown",
   "metadata": {},
   "source": [
    "## Compilation\n",
    "\n",
    "Go into the selfforce-1d directory."
   ]
  },
  {
   "cell_type": "code",
   "execution_count": null,
   "metadata": {},
   "outputs": [],
   "source": [
    "cd selfforce-1d"
   ]
  },
  {
   "cell_type": "markdown",
   "metadata": {},
   "source": [
    "The SConstruct file contains information about how to build the code with SCons. Here we use SConstruct.fedora. On systems where GSL, BLAS and LAPACK are not installed in standard locations, The SConstruct file will have to be modified appropriately to tell SCons about the location of libraries and include files."
   ]
  },
  {
   "cell_type": "code",
   "execution_count": null,
   "metadata": {},
   "outputs": [],
   "source": [
    "cp SConstruct.fedora SConstruct"
   ]
  },
  {
   "cell_type": "markdown",
   "metadata": {},
   "source": [
    "If SCons is not available, we can install it in user space with pip."
   ]
  },
  {
   "cell_type": "code",
   "execution_count": null,
   "metadata": {},
   "outputs": [],
   "source": [
    "%%bash\n",
    "# Note that the executable \"scons\" is installed in ~/.local/bin, so you might need to add that to your path.\n",
    "python3 -m pip install --user scons"
   ]
  },
  {
   "cell_type": "markdown",
   "metadata": {},
   "source": [
    "For nicer looking output from SCons, we also install termcolor with pip."
   ]
  },
  {
   "cell_type": "code",
   "execution_count": null,
   "metadata": {},
   "outputs": [],
   "source": [
    "%%bash\n",
    "python3 -m pip install --user termcolor"
   ]
  },
  {
   "cell_type": "markdown",
   "metadata": {},
   "source": [
    "The Ubuntu gfortran installations seem to, for some unknown reason, encounter internal compiler errors when compiling SelfForce-1D. Therefore, I have compiled gfortran (as well as gcc and g++) version 8.4.0 from source. The following sets up your environment to use that version of gfortran. The output should list GNU Fortran version 8.4.0."
   ]
  },
  {
   "cell_type": "code",
   "execution_count": null,
   "metadata": {},
   "outputs": [],
   "source": [
    "%%bash\n",
    "cd ~/selfforce-1d\n",
    "which gfortran\n",
    "gfortran --version"
   ]
  },
  {
   "cell_type": "markdown",
   "metadata": {},
   "source": [
    "Launch the compilation with SCons. It appears that the environment is local to each cell, so we have to set it up again. All the warnings with Nonexistent include directories can be ignored. These include directories are created during the build process and will be there next time you compile."
   ]
  },
  {
   "cell_type": "code",
   "execution_count": null,
   "metadata": {},
   "outputs": [],
   "source": [
    "cd ~/selfforce-1d"
   ]
  },
  {
   "cell_type": "code",
   "execution_count": null,
   "metadata": {},
   "outputs": [],
   "source": [
    "%%bash\n",
    "scons"
   ]
  },
  {
   "cell_type": "markdown",
   "metadata": {},
   "source": [
    "The executable (test.x) should be in the Build/Exe directory, so we take a look to make sure. The other executables are for testing purposes and can be ignored."
   ]
  },
  {
   "cell_type": "markdown",
   "metadata": {},
   "source": [
    "## Running the code\n",
    "\n",
    "In the following we will run the code for a couple of different setups and visualize some of the output."
   ]
  },
  {
   "cell_type": "markdown",
   "metadata": {},
   "source": [
    "First change back to your home directory."
   ]
  },
  {
   "cell_type": "code",
   "execution_count": null,
   "metadata": {},
   "outputs": [],
   "source": [
    "cd .."
   ]
  },
  {
   "cell_type": "markdown",
   "metadata": {},
   "source": [
    "Then create a directory for the examples."
   ]
  },
  {
   "cell_type": "code",
   "execution_count": null,
   "metadata": {},
   "outputs": [],
   "source": [
    "mkdir -p Examples"
   ]
  },
  {
   "cell_type": "markdown",
   "metadata": {},
   "source": [
    "Go into the Examples directory."
   ]
  },
  {
   "cell_type": "code",
   "execution_count": null,
   "metadata": {},
   "outputs": [],
   "source": [
    "cd Examples"
   ]
  },
  {
   "cell_type": "markdown",
   "metadata": {},
   "source": [
    "Create a directory for the example with a Gaussian initial scalar field profile and no particle source."
   ]
  },
  {
   "cell_type": "code",
   "execution_count": null,
   "metadata": {},
   "outputs": [],
   "source": [
    "mkdir -p ScalarGaussian10"
   ]
  },
  {
   "cell_type": "markdown",
   "metadata": {},
   "source": [
    "Go into the ScalarGaussian10 directory."
   ]
  },
  {
   "cell_type": "code",
   "execution_count": null,
   "metadata": {},
   "outputs": [],
   "source": [
    "cd ScalarGaussian10"
   ]
  },
  {
   "cell_type": "markdown",
   "metadata": {},
   "source": [
    "Now we create a parameter file. The code uses Fortrans namelist feature and require the parameter file to start with &params (denotes which namelist to read) and end with a / (to indicate the end of the namelist). Some of the important parameters here are: n_elems (we use 32 DG elements), order (we use 10th order elements), r_center (the Gaussian initial data profile is centered at r=10), lmin (we evolve from l=0), lmax (we evolve to l=2), t_initial (we start at t=0), t_final (we end at t=1000), sigma (the width of the Gaussian profile), amplitude (the amplitude of the Gaussian), use_field_observer (activate an observer to extract the field at the horizon and future null infinity)."
   ]
  },
  {
   "cell_type": "code",
   "execution_count": null,
   "metadata": {},
   "outputs": [],
   "source": [
    "%%writefile scalargaussian_o10.par\n",
    "&params\n",
    "equation_name = 'scalar_schwarzschild'\n",
    "n_elems = 32\n",
    "order = 10\n",
    "Sminus = -20.0\n",
    "r_center = 10.0\n",
    "mass = 1.0\n",
    "lmin = 0\n",
    "lmax = 2\n",
    "t_initial = 0.0\n",
    "t_final = 1000.0\n",
    "sigma = 1.0\n",
    "amplitude = 1.0\n",
    "use_field_observer = .true.\n",
    "out0d_every = 20\n",
    "out1d_every = 57\n",
    "/"
   ]
  },
  {
   "cell_type": "markdown",
   "metadata": {},
   "source": [
    "Run the code. Note we again have to setup the environment to use the 8.4.0 versions of the compilers. We also set the code to use just one thread. This should finish in a little bit less than 40 seconds."
   ]
  },
  {
   "cell_type": "code",
   "execution_count": null,
   "metadata": {},
   "outputs": [],
   "source": [
    "%%bash\n",
    "export OMP_NUM_THREADS=1\n",
    "../../selfforce-1d/Build/Exe/test.x scalargaussian_o10.par"
   ]
  },
  {
   "cell_type": "markdown",
   "metadata": {},
   "source": [
    "Take a look at the files produced by the code. The files with extract in the name is time series data produced by the observer. Files with 1 in the name is for the l=0,m=0 mode. With 2 is for l=1,m=1, with 3 is for l=2,m=0 and with 4 is for l=2,m=2. Note that due to symmetries in the Schwarzschild space time we only need to evolve modes with l+m even. The files without extract in the name is 1D data."
   ]
  },
  {
   "cell_type": "code",
   "execution_count": null,
   "metadata": {},
   "outputs": [],
   "source": [
    "ls"
   ]
  },
  {
   "cell_type": "markdown",
   "metadata": {},
   "source": [
    "Import numpy."
   ]
  },
  {
   "cell_type": "code",
   "execution_count": null,
   "metadata": {},
   "outputs": [],
   "source": [
    "import numpy as np"
   ]
  },
  {
   "cell_type": "markdown",
   "metadata": {},
   "source": [
    "Read in the time series data for l=0,m=0, l=1,m=1 and l=2,m=2."
   ]
  },
  {
   "cell_type": "code",
   "execution_count": null,
   "metadata": {},
   "outputs": [],
   "source": [
    "psidatal0 = np.loadtxt(\"psi.1.extract.asc\", comments='#')\n",
    "psidatal1 = np.loadtxt(\"psi.2.extract.asc\", comments='#')\n",
    "psidatal2 = np.loadtxt(\"psi.4.extract.asc\", comments='#')"
   ]
  },
  {
   "cell_type": "markdown",
   "metadata": {},
   "source": [
    "Take a look at l=0,m=0. The file has 5 columns. The first is time. The second and third are the real and imaginary components of the field at the horizon. The fourth and fifth are the real and imaginary components at future null infinity. Note, that the initial data was real, so the imaginary components are zero at all times."
   ]
  },
  {
   "cell_type": "code",
   "execution_count": null,
   "metadata": {},
   "outputs": [],
   "source": [
    "print(psidatal0)"
   ]
  },
  {
   "cell_type": "markdown",
   "metadata": {},
   "source": [
    "Extract data into variables with more descriptive names."
   ]
  },
  {
   "cell_type": "code",
   "execution_count": null,
   "metadata": {},
   "outputs": [],
   "source": [
    "times=psidatal0[:,0]\n",
    "psil0horizon=psidatal0[:,1]\n",
    "psil0scri=psidatal0[:,3]\n",
    "psil1horizon=psidatal1[:,1]\n",
    "psil1scri=psidatal1[:,3]\n",
    "psil2horizon=psidatal2[:,1]\n",
    "psil2scri=psidatal2[:,3]"
   ]
  },
  {
   "cell_type": "markdown",
   "metadata": {},
   "source": [
    "Install mpld3 in user space for better control of in cell plots with mathplotlib."
   ]
  },
  {
   "cell_type": "code",
   "execution_count": null,
   "metadata": {},
   "outputs": [],
   "source": [
    "%%bash\n",
    "python3 -m pip install --user mpld3"
   ]
  },
  {
   "cell_type": "markdown",
   "metadata": {},
   "source": [
    "Import mathplotlib and mpld3 and use it as a backend for mathplotlib. Also set some parameter for font size and plot size."
   ]
  },
  {
   "cell_type": "code",
   "execution_count": null,
   "metadata": {},
   "outputs": [],
   "source": [
    "import mpld3\n",
    "mpld3.enable_notebook()\n",
    "\n",
    "import matplotlib.pyplot as plt\n",
    "\n",
    "plt.rcParams['figure.figsize'] = [12.5, 7]\n",
    "plt.rcParams['legend.fontsize'] = 'x-large'\n",
    "plt.rcParams['axes.labelsize'] = 'x-large'\n",
    "plt.rcParams['xtick.labelsize'] = 'x-large'\n",
    "plt.rcParams['ytick.labelsize'] = 'x-large'"
   ]
  },
  {
   "cell_type": "markdown",
   "metadata": {},
   "source": [
    "Plot the l=0,m=0 mode in a log-log plot, both at the horzon and future null infinity. Make sure that the late time decay follows a power law with an index of -3 (formula is -(2l+3)) at the horizon and -2 (formula is -(l+2)) at future null infinity."
   ]
  },
  {
   "cell_type": "code",
   "execution_count": null,
   "metadata": {},
   "outputs": [],
   "source": [
    "plt.plot(times, abs(psil0horizon), linewidth=4, label='Horizon')\n",
    "plt.legend()\n",
    "plt.plot(times, abs(psil0scri), linewidth=4, color='red', label='Scri')\n",
    "plt.legend()\n",
    "plt.plot(times[1:-1],12*times[1:-1]**(-2), linewidth=2, color='black', label='1/t^2')\n",
    "plt.legend()\n",
    "plt.plot(times[1:-1],100*times[1:-1]**(-3), linewidth=2, color='purple', label='1/t^3')\n",
    "plt.legend()\n",
    "plt.xlim([10,1000])\n",
    "plt.ylim([1e-8,10])\n",
    "plt.xlabel('time')\n",
    "plt.ylabel('|psi|')\n",
    "plt.xscale('log')\n",
    "plt.yscale('log')\n",
    "plt.show()"
   ]
  },
  {
   "cell_type": "markdown",
   "metadata": {},
   "source": [
    "Plot the l=1,m=1 mode in a log-plot and focus on the quasinormal ringdown part. Both the horizon and future null infinity show the same QNM frequencies (as expected) that agree with the expected frequencies as computed by Emanuele Berti (https://pages.jh.edu/~eberti2/ringdown/)."
   ]
  },
  {
   "cell_type": "code",
   "execution_count": null,
   "metadata": {},
   "outputs": [],
   "source": [
    "plt.plot(times, abs(psil1horizon), linewidth=4, label='Horizon')\n",
    "plt.legend()\n",
    "plt.plot(times, abs(psil1scri), linewidth=4, color='red', label='Scri')\n",
    "plt.legend()\n",
    "plt.plot(times, 6*abs(np.exp(-.9765998891e-01*times)*np.sin(0.2929361333*times-1.6)), linewidth=2, color='black', label='exp(omega_i*t)*sin(omega_r*t)')\n",
    "plt.legend()\n",
    "plt.xlim([0,300])\n",
    "plt.ylim([1e-14,10])\n",
    "plt.xlabel('time')\n",
    "plt.ylabel('|psi|')\n",
    "plt.yscale('log')\n",
    "plt.show()"
   ]
  },
  {
   "cell_type": "markdown",
   "metadata": {},
   "source": [
    "Plot the l=1,m=1 mode in a log-log plot, both at the horzon and future null infinity. Make sure that the late time decay follows a power law with an index of -5 (formula is -(2l+3)) at the horizon and -3 (formula is -(l+2)) at future null infinity."
   ]
  },
  {
   "cell_type": "code",
   "execution_count": null,
   "metadata": {},
   "outputs": [],
   "source": [
    "plt.plot(times, abs(psil1horizon), linewidth=4, label='Horizon')\n",
    "plt.legend()\n",
    "plt.plot(times, abs(psil1scri), linewidth=4, color='red', label='Scri')\n",
    "plt.legend()\n",
    "plt.plot(times[1:-1],12*times[1:-1]**(-3), linewidth=2, color='black', label='1/t^3')\n",
    "plt.legend()\n",
    "plt.plot(times[1:-1],200*times[1:-1]**(-5), linewidth=2, color='purple', label='1/t^5')\n",
    "plt.legend()\n",
    "plt.xlim([10,1000])\n",
    "plt.ylim([1e-14,10])\n",
    "plt.xlabel('time')\n",
    "plt.ylabel('|psi|')\n",
    "plt.xscale('log')\n",
    "plt.yscale('log')\n",
    "plt.show()"
   ]
  },
  {
   "cell_type": "markdown",
   "metadata": {},
   "source": [
    "Plot the l=2,m=2 mode in a log-plot and focus on the quasinormal ringdown part. Both the horizon and future null infinity show the same QNM frequencies (as expected) that agree with the expected frequencies as computed by Emanuele Berti."
   ]
  },
  {
   "cell_type": "code",
   "execution_count": null,
   "metadata": {},
   "outputs": [],
   "source": [
    "plt.plot(times, abs(psil2horizon), linewidth=4, label='Horizon')\n",
    "plt.legend()\n",
    "plt.plot(times, abs(psil2scri), linewidth=4, color='red', label='Scri')\n",
    "plt.legend()\n",
    "plt.plot(times, 5*abs(np.exp(-.9675877598e-01*times)*np.sin(0.4836438722*times-2.01)), linewidth=2, color='black', label='exp(omega_i*t)*sin(omega_r*t)')\n",
    "plt.legend()\n",
    "plt.xlim([0,400])\n",
    "plt.ylim([1e-18,10])\n",
    "plt.xlabel('time')\n",
    "plt.ylabel('|psi|')\n",
    "plt.yscale('log')\n",
    "plt.show()"
   ]
  },
  {
   "cell_type": "markdown",
   "metadata": {},
   "source": [
    "Plot the l=2,m=2 mode in a log-log plot, both at the horzon and future null infinity. At the horizon the power law index should be -7 (formula is -(2l+3)) but the QNM phase lasts so long (field amplitude drops 15 orders of magnitude) that we are dominated by roundoff error at that time. We still the the correct pwoer law tail decay of -4 (formula is -(l+2)) at future null infinity."
   ]
  },
  {
   "cell_type": "code",
   "execution_count": null,
   "metadata": {},
   "outputs": [],
   "source": [
    "plt.plot(times, abs(psil2horizon), linewidth=4, label='Horizon')\n",
    "plt.legend()\n",
    "plt.plot(times, abs(psil2scri), linewidth=4, color='red', label='Scri')\n",
    "plt.legend()\n",
    "plt.plot(times[1:-1],12*times[1:-1]**(-4), linewidth=2, color='black', label='1/t^4')\n",
    "plt.legend()\n",
    "plt.xlim([10,1000])\n",
    "plt.ylim([1e-17,10])\n",
    "plt.xlabel('time')\n",
    "plt.ylabel('|psi|')\n",
    "plt.xscale('log')\n",
    "plt.yscale('log')\n",
    "plt.show()"
   ]
  },
  {
   "cell_type": "markdown",
   "metadata": {},
   "source": [
    "Now let's try an example with a particle source. So back up the the Examples directory."
   ]
  },
  {
   "cell_type": "code",
   "execution_count": null,
   "metadata": {},
   "outputs": [],
   "source": [
    "cd .."
   ]
  },
  {
   "cell_type": "markdown",
   "metadata": {},
   "source": [
    "Create a directory for a scalar charged particle moving along an eccentric orbit around a Schwarzschild black hole."
   ]
  },
  {
   "cell_type": "code",
   "execution_count": null,
   "metadata": {},
   "outputs": [],
   "source": [
    "mkdir ScalarElliptic6"
   ]
  },
  {
   "cell_type": "markdown",
   "metadata": {},
   "source": [
    "And change into it."
   ]
  },
  {
   "cell_type": "code",
   "execution_count": null,
   "metadata": {},
   "outputs": [],
   "source": [
    "cd ScalarElliptic6"
   ]
  },
  {
   "cell_type": "markdown",
   "metadata": {},
   "source": [
    "Create a parameter file for this case. Note that we use more elements (in order to resolve smaller features) but lower order. We also evolve up to l=5. The particle orbit is an eccentric geodesic with semi-latus rectum p=9.9 and eccentricity e=0.5. We activate the particle by setting use_particle = .true.. We use initial data (located in Steve Brandts' home directory) for l=0 to l=2. A lot more parameters have to be set to setup the different coordinate regions as well as the world-tube where the effective source is non-zero."
   ]
  },
  {
   "cell_type": "code",
   "execution_count": null,
   "metadata": {},
   "outputs": [],
   "source": [
    "%%bash\n",
    "tar xzvf /usr/local/data/Initial_Data.tgz"
   ]
  },
  {
   "cell_type": "code",
   "execution_count": null,
   "metadata": {},
   "outputs": [],
   "source": [
    "%%writefile scalarelliptic_o6.par\n",
    "&params\n",
    "equation_name = 'scalar_schwarzschild'\n",
    "n_elems = 128\n",
    "order = 6\n",
    "Sminus = -30.0\n",
    "p_orb = 9.9\n",
    "ecc = 0.5\n",
    "t_size = 25\n",
    "use_particle = .true.\n",
    "mass = 1.0\n",
    "lmin = 0\n",
    "lmax = 5\n",
    "gaussian_center = 10.0\n",
    "t_initial = 0.0\n",
    "t_final = 600\n",
    "use_world_tube = .true.\n",
    "use_generic_orbit = .true.\n",
    "use_osculating_orbit = .true.\n",
    "world_tube_width = 4\n",
    "use_exact_initial_data = .true.\n",
    "exact_initial_data_lmax = 2\n",
    "input_directory = './Initial_Data'\n",
    "input_basename = 'SSF_init_data_p9.9_e0.5_n6'\n",
    "phi_initial = 5.06938549736\n",
    "turn_on_source_smoothly = .false.\n",
    "tsigma = 1e-6\n",
    "torder = 4\n",
    "out0d_every = 20\n",
    "out1d_every = -1\n",
    "q_charge = 0.125\n",
    "q_mass = 1.0\n",
    "evolve_orbit = .false.\n",
    "fit_high_l = .false.\n",
    "output_coords_for_exact = .false.\n",
    "/"
   ]
  },
  {
   "cell_type": "markdown",
   "metadata": {},
   "source": [
    "Run this example. Note this takes almost 40 minutes to run, so do this at your leisure and look at the results later. "
   ]
  },
  {
   "cell_type": "code",
   "execution_count": null,
   "metadata": {},
   "outputs": [],
   "source": [
    "%%bash\n",
    "export LD_LIBRARY_PATH=\"/usr/local/gcc-8.4.0/lib64:$LD_LIBRARY_PATH\"\n",
    "export OMP_NUM_THREADS=1\n",
    "../../selfforce-1d/Build/Exe/test.x scalarelliptic_o6.par"
   ]
  },
  {
   "cell_type": "markdown",
   "metadata": {},
   "source": [
    "Read in the r-component of the self-force extracted at the particle location."
   ]
  },
  {
   "cell_type": "code",
   "execution_count": null,
   "metadata": {},
   "outputs": [],
   "source": [
    "frdata = np.loadtxt(\"Schwarzschild_wave.frl.asc\", comments='#')"
   ]
  },
  {
   "cell_type": "markdown",
   "metadata": {},
   "source": [
    "First column is time while the remaining columns contains the extracted self-force for each l (summed over all m)."
   ]
  },
  {
   "cell_type": "code",
   "execution_count": null,
   "metadata": {},
   "outputs": [],
   "source": [
    "times=frdata[:,0]\n",
    "frl0=frdata[:,1]\n",
    "frl1=frdata[:,2]\n",
    "frl2=frdata[:,3]\n",
    "frl3=frdata[:,4]\n",
    "frl4=frdata[:,5]\n",
    "frl5=frdata[:,6]"
   ]
  },
  {
   "cell_type": "markdown",
   "metadata": {},
   "source": [
    "Plot the radial component of the self-force as function of time for each l-mode. Note that beyond l=2, we start to see the convergence of the mode sum. The amplitude of each l-mode is expected to decrease with l as $l^{-2}$."
   ]
  },
  {
   "cell_type": "code",
   "execution_count": null,
   "metadata": {},
   "outputs": [],
   "source": [
    "plt.plot(times, abs(frl0), linewidth=2, label='l=0')\n",
    "plt.legend()\n",
    "plt.plot(times, abs(frl1), linewidth=2, color='red', label='l=1')\n",
    "plt.legend()\n",
    "plt.plot(times, abs(frl2), linewidth=2, color='blue', label='l=2')\n",
    "plt.legend()\n",
    "plt.plot(times, abs(frl3), linewidth=2, color='green', label='l=3')\n",
    "plt.legend()\n",
    "plt.plot(times, abs(frl4), linewidth=2, color='orange', label='l=4')\n",
    "plt.legend()\n",
    "plt.plot(times, abs(frl5), linewidth=2, color='pink', label='l=4')\n",
    "plt.legend()\n",
    "plt.xlim([0,600])\n",
    "plt.ylim([1e-9,1e-3])\n",
    "plt.xlabel('time')\n",
    "plt.ylabel('F_r')\n",
    "plt.yscale('log')\n",
    "plt.show()"
   ]
  },
  {
   "cell_type": "markdown",
   "metadata": {},
   "source": [
    "Read in the orbit data."
   ]
  },
  {
   "cell_type": "code",
   "execution_count": null,
   "metadata": {},
   "outputs": [],
   "source": [
    "orbitdata = np.loadtxt(\"osc_orbit.asc\", comments='#')"
   ]
  },
  {
   "cell_type": "markdown",
   "metadata": {},
   "source": [
    "Extract the radius and the phi-coordinate from columns 15 and 3, respectively."
   ]
  },
  {
   "cell_type": "code",
   "execution_count": null,
   "metadata": {},
   "outputs": [],
   "source": [
    "radius=orbitdata[:,14]\n",
    "phi=orbitdata[:,2]"
   ]
  },
  {
   "cell_type": "markdown",
   "metadata": {},
   "source": [
    "Plot the orbit in the xy-plane."
   ]
  },
  {
   "cell_type": "code",
   "execution_count": null,
   "metadata": {},
   "outputs": [],
   "source": [
    "plt.plot(radius*np.sin(phi), radius*np.cos(phi), linewidth=2, label='orbit')\n",
    "plt.legend()\n",
    "plt.xlim([-20,20])\n",
    "plt.ylim([-20,20])\n",
    "plt.xlabel('x')\n",
    "plt.ylabel('y')\n",
    "plt.axes().set_aspect('equal')\n",
    "plt.show()"
   ]
  },
  {
   "cell_type": "code",
   "execution_count": null,
   "metadata": {},
   "outputs": [],
   "source": []
  }
 ],
 "metadata": {
  "kernelspec": {
   "display_name": "Python 3 (ipykernel)",
   "language": "python",
   "name": "python3"
  },
  "language_info": {
   "codemirror_mode": {
    "name": "ipython",
    "version": 3
   },
   "file_extension": ".py",
   "mimetype": "text/x-python",
   "name": "python",
   "nbconvert_exporter": "python",
   "pygments_lexer": "ipython3",
   "version": "3.8.10"
  }
 },
 "nbformat": 4,
 "nbformat_minor": 4
}
